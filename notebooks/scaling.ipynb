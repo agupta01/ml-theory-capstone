{
 "cells": [
  {
   "cell_type": "markdown",
   "id": "4fdd404e-7c06-4e38-9b61-a8f594e450f3",
   "metadata": {},
   "source": [
    "# RFM Scaling Experiments\n",
    "\n",
    "This notebook is only for experimentation and plotting of results. For actual runs/plot generation, see `scaling.py`."
   ]
  },
  {
   "cell_type": "code",
   "execution_count": 1,
   "id": "ec468c8c-dc82-48da-bb3b-b534488123ab",
   "metadata": {},
   "outputs": [],
   "source": [
    "%load_ext autoreload\n",
    "\n",
    "%autoreload 2\n",
    "\n",
    "import os\n",
    "\n",
    "os.chdir(\"../\")"
   ]
  },
  {
   "cell_type": "code",
   "execution_count": 77,
   "id": "b67ac626-77e3-4e1f-99c2-f118470ada7a",
   "metadata": {},
   "outputs": [],
   "source": [
    "import numpy as np\n",
    "import matplotlib.pyplot as plt\n",
    "from src.rfm import *\n",
    "from tqdm import trange\n",
    "\n",
    "%config InlineBackend.figure_format = 'retina'"
   ]
  },
  {
   "attachments": {},
   "cell_type": "markdown",
   "id": "bcf98d64",
   "metadata": {},
   "source": [
    "# Experiment Setup\n",
    "\n",
    "Let a full dataset $X \\in \\mathbb{R}^{n \\times d}$ be generated, where $n=100$ and $d = 200$.\n",
    "\n",
    "Separately, we have the target function:\n",
    "$$f(\\vec{x}) = 5x_1^3 + 2x_2^2 + 10x_3$$\n",
    "\n",
    "For every $d' \\in [10, 200]$ we will perform the following:\n",
    "1. Take the vertical slice $X'$ of shape $(n,d')$ as our dataset.\n",
    "2. Compute $y' = f(X')$\n",
    "3. Produce train, val (0.1), and test (0.2) splits.\n",
    "4. Train an RFM model, validating on each iteration t (up to 10) and taking the model which best minimizes validation MSE.\n",
    "5. Test the model on the test set to get test MSE.\n",
    "\n",
    "Repeat the simulation 100 times, generating a new $X$ each time."
   ]
  },
  {
   "cell_type": "code",
   "execution_count": 76,
   "id": "2006bf97",
   "metadata": {},
   "outputs": [
    {
     "data": {
      "text/plain": [
       "((100, 200), (100, 1))"
      ]
     },
     "execution_count": 76,
     "metadata": {},
     "output_type": "execute_result"
    }
   ],
   "source": [
    "n, D = 100, 200\n",
    "\n",
    "\n",
    "X_full = np.random.normal(size=(n, D))\n",
    "f = lambda X: (5*np.power(X[:, 0], 3) + 2*np.power(X[:, 1], 2) + 10*X[:, 2]).reshape(-1, 1)\n",
    "y = f(X_full)\n",
    "\n",
    "X_full.shape, y.shape"
   ]
  },
  {
   "cell_type": "code",
   "execution_count": 79,
   "id": "048b96b7",
   "metadata": {},
   "outputs": [
    {
     "name": "stderr",
     "output_type": "stream",
     "text": [
      "  0%|          | 0/191 [00:00<?, ?it/s]"
     ]
    },
    {
     "name": "stdout",
     "output_type": "stream",
     "text": [
      "(70, 10) (100, 1) (10, 10) (100, 1) (20, 10) (100, 1)\n"
     ]
    },
    {
     "name": "stderr",
     "output_type": "stream",
     "text": [
      "\n"
     ]
    },
    {
     "ename": "ValueError",
     "evalue": "operands could not be broadcast together with shapes (70,70) (100,100) ",
     "output_type": "error",
     "traceback": [
      "\u001b[0;31m---------------------------------------------------------------------------\u001b[0m",
      "\u001b[0;31mValueError\u001b[0m                                Traceback (most recent call last)",
      "\u001b[0;32m<ipython-input-79-aac87f227b2e>\u001b[0m in \u001b[0;36m<module>\u001b[0;34m\u001b[0m\n\u001b[1;32m     22\u001b[0m \u001b[0;34m\u001b[0m\u001b[0m\n\u001b[1;32m     23\u001b[0m     \u001b[0mmodel\u001b[0m \u001b[0;34m=\u001b[0m \u001b[0mRFM\u001b[0m\u001b[0;34m(\u001b[0m\u001b[0;34m)\u001b[0m\u001b[0;34m\u001b[0m\u001b[0;34m\u001b[0m\u001b[0m\n\u001b[0;32m---> 24\u001b[0;31m     \u001b[0mmse_hist\u001b[0m\u001b[0;34m.\u001b[0m\u001b[0mappend\u001b[0m\u001b[0;34m(\u001b[0m\u001b[0mmodel\u001b[0m\u001b[0;34m.\u001b[0m\u001b[0mfit\u001b[0m\u001b[0;34m(\u001b[0m\u001b[0mX_train\u001b[0m\u001b[0;34m,\u001b[0m \u001b[0my_train\u001b[0m\u001b[0;34m,\u001b[0m \u001b[0mX_val\u001b[0m\u001b[0;34m,\u001b[0m \u001b[0my_val\u001b[0m\u001b[0;34m,\u001b[0m \u001b[0mnorm_control\u001b[0m\u001b[0;34m=\u001b[0m\u001b[0;32mTrue\u001b[0m\u001b[0;34m)\u001b[0m\u001b[0;34m)\u001b[0m\u001b[0;34m\u001b[0m\u001b[0;34m\u001b[0m\u001b[0m\n\u001b[0m\u001b[1;32m     25\u001b[0m     \u001b[0my_hat\u001b[0m \u001b[0;34m=\u001b[0m \u001b[0mmodel\u001b[0m\u001b[0;34m.\u001b[0m\u001b[0mpredict\u001b[0m\u001b[0;34m(\u001b[0m\u001b[0mX_train\u001b[0m\u001b[0;34m)\u001b[0m\u001b[0;34m\u001b[0m\u001b[0;34m\u001b[0m\u001b[0m\n\u001b[1;32m     26\u001b[0m     \u001b[0mtrain_MSE\u001b[0m\u001b[0;34m.\u001b[0m\u001b[0mappend\u001b[0m\u001b[0;34m(\u001b[0m\u001b[0mutils\u001b[0m\u001b[0;34m.\u001b[0m\u001b[0mmse\u001b[0m\u001b[0;34m(\u001b[0m\u001b[0my_train\u001b[0m\u001b[0;34m,\u001b[0m \u001b[0my_hat\u001b[0m\u001b[0;34m)\u001b[0m\u001b[0;34m)\u001b[0m\u001b[0;34m\u001b[0m\u001b[0;34m\u001b[0m\u001b[0m\n",
      "\u001b[0;32m~/Documents/UCSD/ml-theory-capstone/src/rfm.py\u001b[0m in \u001b[0;36mfit\u001b[0;34m(self, X_train, y_train, X_val, y_val, L, lam, T, power, norm_control)\u001b[0m\n\u001b[1;32m     27\u001b[0m         \u001b[0mself\u001b[0m\u001b[0;34m.\u001b[0m\u001b[0mX_train\u001b[0m \u001b[0;34m=\u001b[0m \u001b[0mX_train\u001b[0m\u001b[0;34m\u001b[0m\u001b[0;34m\u001b[0m\u001b[0m\n\u001b[1;32m     28\u001b[0m \u001b[0;34m\u001b[0m\u001b[0m\n\u001b[0;32m---> 29\u001b[0;31m         self.alpha, self.M, mse_hist = train_rfm(\n\u001b[0m\u001b[1;32m     30\u001b[0m             \u001b[0mX_train\u001b[0m\u001b[0;34m,\u001b[0m \u001b[0my_train\u001b[0m\u001b[0;34m,\u001b[0m \u001b[0mX_val\u001b[0m\u001b[0;34m,\u001b[0m \u001b[0my_val\u001b[0m\u001b[0;34m,\u001b[0m \u001b[0mL\u001b[0m\u001b[0;34m=\u001b[0m\u001b[0mself\u001b[0m\u001b[0;34m.\u001b[0m\u001b[0mL\u001b[0m\u001b[0;34m,\u001b[0m \u001b[0mlam\u001b[0m\u001b[0;34m=\u001b[0m\u001b[0mself\u001b[0m\u001b[0;34m.\u001b[0m\u001b[0mlam\u001b[0m\u001b[0;34m,\u001b[0m \u001b[0mT\u001b[0m\u001b[0;34m=\u001b[0m\u001b[0mself\u001b[0m\u001b[0;34m.\u001b[0m\u001b[0mT\u001b[0m\u001b[0;34m,\u001b[0m \u001b[0mpower\u001b[0m\u001b[0;34m=\u001b[0m\u001b[0mself\u001b[0m\u001b[0;34m.\u001b[0m\u001b[0mpower\u001b[0m\u001b[0;34m,\u001b[0m \u001b[0mnorm_control\u001b[0m\u001b[0;34m=\u001b[0m\u001b[0mnorm_control\u001b[0m\u001b[0;34m\u001b[0m\u001b[0;34m\u001b[0m\u001b[0m\n\u001b[1;32m     31\u001b[0m         )\n",
      "\u001b[0;32m~/Documents/UCSD/ml-theory-capstone/src/rfm.py\u001b[0m in \u001b[0;36mtrain_rfm\u001b[0;34m(X_train, y_train, X_val, y_val, power, L, lam, T, norm_control)\u001b[0m\n\u001b[1;32m     75\u001b[0m     \u001b[0;32mfor\u001b[0m \u001b[0mt\u001b[0m \u001b[0;32min\u001b[0m \u001b[0mrange\u001b[0m\u001b[0;34m(\u001b[0m\u001b[0;36m1\u001b[0m\u001b[0;34m,\u001b[0m \u001b[0mT\u001b[0m \u001b[0;34m+\u001b[0m \u001b[0;36m1\u001b[0m\u001b[0;34m)\u001b[0m\u001b[0;34m:\u001b[0m\u001b[0;34m\u001b[0m\u001b[0;34m\u001b[0m\u001b[0m\n\u001b[1;32m     76\u001b[0m         \u001b[0mK_train\u001b[0m \u001b[0;34m=\u001b[0m \u001b[0mutils\u001b[0m\u001b[0;34m.\u001b[0m\u001b[0mK_M\u001b[0m\u001b[0;34m(\u001b[0m\u001b[0mX_train\u001b[0m\u001b[0;34m,\u001b[0m \u001b[0mX_train\u001b[0m\u001b[0;34m,\u001b[0m \u001b[0mM\u001b[0m\u001b[0;34m,\u001b[0m \u001b[0mL\u001b[0m\u001b[0;34m,\u001b[0m \u001b[0mpower\u001b[0m\u001b[0;34m)\u001b[0m\u001b[0;34m\u001b[0m\u001b[0;34m\u001b[0m\u001b[0m\n\u001b[0;32m---> 77\u001b[0;31m         \u001b[0malpha\u001b[0m \u001b[0;34m=\u001b[0m \u001b[0mnp\u001b[0m\u001b[0;34m.\u001b[0m\u001b[0mlinalg\u001b[0m\u001b[0;34m.\u001b[0m\u001b[0msolve\u001b[0m\u001b[0;34m(\u001b[0m\u001b[0mK_train\u001b[0m \u001b[0;34m+\u001b[0m \u001b[0mlam\u001b[0m\u001b[0;34m*\u001b[0m\u001b[0mnp\u001b[0m\u001b[0;34m.\u001b[0m\u001b[0meye\u001b[0m\u001b[0;34m(\u001b[0m\u001b[0mn\u001b[0m\u001b[0;34m)\u001b[0m\u001b[0;34m,\u001b[0m \u001b[0my_train\u001b[0m\u001b[0;34m)\u001b[0m\u001b[0;34m\u001b[0m\u001b[0;34m\u001b[0m\u001b[0m\n\u001b[0m\u001b[1;32m     78\u001b[0m         \u001b[0mM\u001b[0m \u001b[0;34m=\u001b[0m \u001b[0mutils\u001b[0m\u001b[0;34m.\u001b[0m\u001b[0mgrad_laplace_mat\u001b[0m\u001b[0;34m(\u001b[0m\u001b[0mX_train\u001b[0m\u001b[0;34m,\u001b[0m \u001b[0malpha\u001b[0m\u001b[0;34m,\u001b[0m \u001b[0mL\u001b[0m\u001b[0;34m=\u001b[0m\u001b[0mL\u001b[0m\u001b[0;34m,\u001b[0m \u001b[0mP\u001b[0m\u001b[0;34m=\u001b[0m\u001b[0mM\u001b[0m\u001b[0;34m,\u001b[0m \u001b[0mpower\u001b[0m\u001b[0;34m=\u001b[0m\u001b[0mpower\u001b[0m\u001b[0;34m,\u001b[0m \u001b[0mnorm_control\u001b[0m\u001b[0;34m=\u001b[0m\u001b[0mnorm_control\u001b[0m\u001b[0;34m)\u001b[0m\u001b[0;34m\u001b[0m\u001b[0;34m\u001b[0m\u001b[0m\n\u001b[1;32m     79\u001b[0m \u001b[0;34m\u001b[0m\u001b[0m\n",
      "\u001b[0;31mValueError\u001b[0m: operands could not be broadcast together with shapes (70,70) (100,100) "
     ]
    }
   ],
   "source": [
    "train_MSE = []\n",
    "test_MSE = []\n",
    "mse_hist = []\n",
    "\n",
    "for d in trange(10, 201):\n",
    "\n",
    "    X = X_full[:, :d] * (1 / np.sqrt(d))\n",
    "\n",
    "    test_split_size = 0.2\n",
    "    val_split_size = 0.1\n",
    "    n_test_split = int(n * test_split_size)\n",
    "    n_val_split = int(n * val_split_size)\n",
    "\n",
    "    X_train, X_val, X_test = X[:n-n_test_split-n_val_split], X[n-n_test_split-n_val_split:n-n_test_split], X[n-n_test_split:]\n",
    "\n",
    "    # recompute y\n",
    "    y_train = f(X_train)\n",
    "    y_val = f(X_val)\n",
    "    y_test = f(X_test)\n",
    "\n",
    "    print(X_train.shape, y_train.shape, X_val.shape, y_val.shape, X_test.shape, y_test.shape)\n",
    "\n",
    "    model = RFM()\n",
    "    mse_hist.append(model.fit(X_train, y_train, X_val, y_val, norm_control=True))\n",
    "    y_hat = model.predict(X_train)\n",
    "    train_MSE.append(utils.mse(y_train, y_hat))\n",
    "    test_MSE.append(model.score(X_test, y_test))\n"
   ]
  },
  {
   "cell_type": "code",
   "execution_count": 27,
   "id": "e0962bcb",
   "metadata": {},
   "outputs": [
    {
     "data": {
      "text/plain": [
       "((70, 50), (10, 50), (20, 50))"
      ]
     },
     "execution_count": 27,
     "metadata": {},
     "output_type": "execute_result"
    }
   ],
   "source": [
    "X_train.shape, X_val.shape, X_test.shape"
   ]
  },
  {
   "cell_type": "code",
   "execution_count": 73,
   "id": "4429bf74",
   "metadata": {},
   "outputs": [
    {
     "name": "stderr",
     "output_type": "stream",
     "text": [
      "/home/arunavgupta/Documents/UCSD/ml-theory-capstone/src/utils.py:102: RuntimeWarning: divide by zero encountered in true_divide\n",
      "  K = K / dist\n"
     ]
    }
   ],
   "source": [
    "model = RFM()\n",
    "\n",
    "model.fit(X_train, y_train, X_val, y_val, norm_control=True)"
   ]
  },
  {
   "cell_type": "code",
   "execution_count": 74,
   "id": "b81def83",
   "metadata": {},
   "outputs": [
    {
     "data": {
      "text/plain": [
       "(50, 50)"
      ]
     },
     "execution_count": 74,
     "metadata": {},
     "output_type": "execute_result"
    }
   ],
   "source": [
    "model.M.shape"
   ]
  },
  {
   "cell_type": "code",
   "execution_count": 75,
   "id": "7214997f",
   "metadata": {},
   "outputs": [
    {
     "data": {
      "text/plain": [
       "0.7867129496052342"
      ]
     },
     "execution_count": 75,
     "metadata": {},
     "output_type": "execute_result"
    }
   ],
   "source": [
    "model.score(X_test, y_test)"
   ]
  },
  {
   "cell_type": "code",
   "execution_count": null,
   "id": "1728c3e6",
   "metadata": {},
   "outputs": [],
   "source": []
  },
  {
   "cell_type": "code",
   "execution_count": null,
   "id": "5a6f3e4a",
   "metadata": {},
   "outputs": [],
   "source": []
  },
  {
   "attachments": {},
   "cell_type": "markdown",
   "id": "487a8468",
   "metadata": {},
   "source": [
    "## Aside: Norm Controlling\n",
    "\n",
    "Early tests of the RFM showed that when the norm of M was high, the model would overfit. In order to control this, we implement a simple norm control system based on SVD.\n",
    "Given $M = \\frac{1}{n}\\sum J^TJ$, \n",
    "1. Decompose J into its SVD u, s, v.\n",
    "2. Take the top_p% of singular values and use them to reconstruct J.\n",
    "\n",
    "Below we can see how modifying `top_p` does what we desired: Lower `top_p` enforces a stricter control on the norm, at the expense of distance to the original J."
   ]
  },
  {
   "cell_type": "code",
   "execution_count": 50,
   "id": "9fa84f02",
   "metadata": {},
   "outputs": [
    {
     "data": {
      "text/plain": [
       "(70, 50, 50)"
      ]
     },
     "execution_count": 50,
     "metadata": {},
     "output_type": "execute_result"
    }
   ],
   "source": [
    "a = np.random.normal(size=(70, 1, 50))\n",
    "aT = np.swapaxes(a, 1, 2)\n",
    "(aT @ a).shape"
   ]
  },
  {
   "cell_type": "code",
   "execution_count": 56,
   "id": "bbc806c9",
   "metadata": {},
   "outputs": [],
   "source": [
    "norm_diff = np.zeros(10)\n",
    "norm = np.zeros(10)\n",
    "p_test = np.linspace(0.1, 1, 10)\n",
    "\n",
    "for i, p in enumerate(p_test):\n",
    "    reconstructed = utils.rsvd_norm_control(a[:, 0, :], keep_p=p)\n",
    "    norm_diff[i] = np.linalg.norm(a[:, 0, :] - reconstructed)\n",
    "    norm[i] = np.linalg.norm(reconstructed)"
   ]
  },
  {
   "cell_type": "code",
   "execution_count": 57,
   "id": "4317e1af",
   "metadata": {},
   "outputs": [
    {
     "data": {
      "text/plain": [
       "Text(0, 0.5, 'norm')"
      ]
     },
     "execution_count": 57,
     "metadata": {},
     "output_type": "execute_result"
    },
    {
     "data": {
      "image/png": "[encoded data removed]",
      "text/plain": [
       "<Figure size 720x360 with 2 Axes>"
      ]
     },
     "metadata": {
      "image/png": {
       "height": 316,
       "width": 592
      },
      "needs_background": "light"
     },
     "output_type": "display_data"
    }
   ],
   "source": [
    "fig, ax = plt.subplots(ncols=2, figsize=(10, 5))\n",
    "ax[0].plot(p_test, norm_diff)\n",
    "ax[0].plot(p_test, norm)\n",
    "ax[0].set_xlabel(\"p\")\n",
    "\n",
    "ax[1].scatter(norm_diff, norm)\n",
    "ax[1].set_xlabel(\"norm diff\")\n",
    "ax[1].set_ylabel(\"norm\")"
   ]
  },
  {
   "cell_type": "code",
   "execution_count": null,
   "id": "2d8dfb0e",
   "metadata": {},
   "outputs": [],
   "source": []
  }
 ],
 "metadata": {
  "kernelspec": {
   "display_name": "huggingface",
   "language": "python",
   "name": "huggingface"
  },
  "language_info": {
   "codemirror_mode": {
    "name": "ipython",
    "version": 3
   },
   "file_extension": ".py",
   "mimetype": "text/x-python",
   "name": "python",
   "nbconvert_exporter": "python",
   "pygments_lexer": "ipython3",
   "version": "3.8.11"
  }
 },
 "nbformat": 4,
 "nbformat_minor": 5
}
