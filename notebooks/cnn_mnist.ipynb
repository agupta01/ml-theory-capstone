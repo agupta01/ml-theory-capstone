{
 "cells": [
  {
   "cell_type": "markdown",
   "id": "cc3be69d",
   "metadata": {},
   "source": [
    "# MNIST Data "
   ]
  },
  {
   "cell_type": "code",
   "execution_count": 16,
   "id": "463917e9",
   "metadata": {},
   "outputs": [],
   "source": [
    "import pandas as pd\n",
    "df_train = pd.read_csv('mnist_train.csv')\n",
    "df_test = pd.read_csv('mnist_test.csv')"
   ]
  },
  {
   "cell_type": "code",
   "execution_count": 17,
   "id": "eb143cfd",
   "metadata": {},
   "outputs": [
    {
     "data": {
      "text/html": [
       "<div>\n",
       "<style scoped>\n",
       "    .dataframe tbody tr th:only-of-type {\n",
       "        vertical-align: middle;\n",
       "    }\n",
       "\n",
       "    .dataframe tbody tr th {\n",
       "        vertical-align: top;\n",
       "    }\n",
       "\n",
       "    .dataframe thead th {\n",
       "        text-align: right;\n",
       "    }\n",
       "</style>\n",
       "<table border=\"1\" class=\"dataframe\">\n",
       "  <thead>\n",
       "    <tr style=\"text-align: right;\">\n",
       "      <th></th>\n",
       "      <th>label</th>\n",
       "      <th>1x1</th>\n",
       "      <th>1x2</th>\n",
       "      <th>1x3</th>\n",
       "      <th>1x4</th>\n",
       "      <th>1x5</th>\n",
       "      <th>1x6</th>\n",
       "      <th>1x7</th>\n",
       "      <th>1x8</th>\n",
       "      <th>1x9</th>\n",
       "      <th>...</th>\n",
       "      <th>28x19</th>\n",
       "      <th>28x20</th>\n",
       "      <th>28x21</th>\n",
       "      <th>28x22</th>\n",
       "      <th>28x23</th>\n",
       "      <th>28x24</th>\n",
       "      <th>28x25</th>\n",
       "      <th>28x26</th>\n",
       "      <th>28x27</th>\n",
       "      <th>28x28</th>\n",
       "    </tr>\n",
       "  </thead>\n",
       "  <tbody>\n",
       "    <tr>\n",
       "      <th>0</th>\n",
       "      <td>5</td>\n",
       "      <td>0</td>\n",
       "      <td>0</td>\n",
       "      <td>0</td>\n",
       "      <td>0</td>\n",
       "      <td>0</td>\n",
       "      <td>0</td>\n",
       "      <td>0</td>\n",
       "      <td>0</td>\n",
       "      <td>0</td>\n",
       "      <td>...</td>\n",
       "      <td>0</td>\n",
       "      <td>0</td>\n",
       "      <td>0</td>\n",
       "      <td>0</td>\n",
       "      <td>0</td>\n",
       "      <td>0</td>\n",
       "      <td>0</td>\n",
       "      <td>0</td>\n",
       "      <td>0</td>\n",
       "      <td>0</td>\n",
       "    </tr>\n",
       "    <tr>\n",
       "      <th>1</th>\n",
       "      <td>0</td>\n",
       "      <td>0</td>\n",
       "      <td>0</td>\n",
       "      <td>0</td>\n",
       "      <td>0</td>\n",
       "      <td>0</td>\n",
       "      <td>0</td>\n",
       "      <td>0</td>\n",
       "      <td>0</td>\n",
       "      <td>0</td>\n",
       "      <td>...</td>\n",
       "      <td>0</td>\n",
       "      <td>0</td>\n",
       "      <td>0</td>\n",
       "      <td>0</td>\n",
       "      <td>0</td>\n",
       "      <td>0</td>\n",
       "      <td>0</td>\n",
       "      <td>0</td>\n",
       "      <td>0</td>\n",
       "      <td>0</td>\n",
       "    </tr>\n",
       "    <tr>\n",
       "      <th>2</th>\n",
       "      <td>4</td>\n",
       "      <td>0</td>\n",
       "      <td>0</td>\n",
       "      <td>0</td>\n",
       "      <td>0</td>\n",
       "      <td>0</td>\n",
       "      <td>0</td>\n",
       "      <td>0</td>\n",
       "      <td>0</td>\n",
       "      <td>0</td>\n",
       "      <td>...</td>\n",
       "      <td>0</td>\n",
       "      <td>0</td>\n",
       "      <td>0</td>\n",
       "      <td>0</td>\n",
       "      <td>0</td>\n",
       "      <td>0</td>\n",
       "      <td>0</td>\n",
       "      <td>0</td>\n",
       "      <td>0</td>\n",
       "      <td>0</td>\n",
       "    </tr>\n",
       "    <tr>\n",
       "      <th>3</th>\n",
       "      <td>1</td>\n",
       "      <td>0</td>\n",
       "      <td>0</td>\n",
       "      <td>0</td>\n",
       "      <td>0</td>\n",
       "      <td>0</td>\n",
       "      <td>0</td>\n",
       "      <td>0</td>\n",
       "      <td>0</td>\n",
       "      <td>0</td>\n",
       "      <td>...</td>\n",
       "      <td>0</td>\n",
       "      <td>0</td>\n",
       "      <td>0</td>\n",
       "      <td>0</td>\n",
       "      <td>0</td>\n",
       "      <td>0</td>\n",
       "      <td>0</td>\n",
       "      <td>0</td>\n",
       "      <td>0</td>\n",
       "      <td>0</td>\n",
       "    </tr>\n",
       "    <tr>\n",
       "      <th>4</th>\n",
       "      <td>9</td>\n",
       "      <td>0</td>\n",
       "      <td>0</td>\n",
       "      <td>0</td>\n",
       "      <td>0</td>\n",
       "      <td>0</td>\n",
       "      <td>0</td>\n",
       "      <td>0</td>\n",
       "      <td>0</td>\n",
       "      <td>0</td>\n",
       "      <td>...</td>\n",
       "      <td>0</td>\n",
       "      <td>0</td>\n",
       "      <td>0</td>\n",
       "      <td>0</td>\n",
       "      <td>0</td>\n",
       "      <td>0</td>\n",
       "      <td>0</td>\n",
       "      <td>0</td>\n",
       "      <td>0</td>\n",
       "      <td>0</td>\n",
       "    </tr>\n",
       "  </tbody>\n",
       "</table>\n",
       "<p>5 rows × 785 columns</p>\n",
       "</div>"
      ],
      "text/plain": [
       "   label  1x1  1x2  1x3  1x4  1x5  1x6  1x7  1x8  1x9  ...  28x19  28x20  \\\n",
       "0      5    0    0    0    0    0    0    0    0    0  ...      0      0   \n",
       "1      0    0    0    0    0    0    0    0    0    0  ...      0      0   \n",
       "2      4    0    0    0    0    0    0    0    0    0  ...      0      0   \n",
       "3      1    0    0    0    0    0    0    0    0    0  ...      0      0   \n",
       "4      9    0    0    0    0    0    0    0    0    0  ...      0      0   \n",
       "\n",
       "   28x21  28x22  28x23  28x24  28x25  28x26  28x27  28x28  \n",
       "0      0      0      0      0      0      0      0      0  \n",
       "1      0      0      0      0      0      0      0      0  \n",
       "2      0      0      0      0      0      0      0      0  \n",
       "3      0      0      0      0      0      0      0      0  \n",
       "4      0      0      0      0      0      0      0      0  \n",
       "\n",
       "[5 rows x 785 columns]"
      ]
     },
     "execution_count": 17,
     "metadata": {},
     "output_type": "execute_result"
    }
   ],
   "source": [
    "df_train.head()"
   ]
  },
  {
   "cell_type": "code",
   "execution_count": 18,
   "id": "bc0b6b26",
   "metadata": {},
   "outputs": [
    {
     "data": {
      "image/png": "[encoded data removed]",
      "text/plain": [
       "<Figure size 432x288 with 1 Axes>"
      ]
     },
     "metadata": {
      "needs_background": "light"
     },
     "output_type": "display_data"
    }
   ],
   "source": [
    "instance = 70\n",
    "plt.imshow(np.reshape(np.array(df_train.iloc[instance,1:]), (-1,28)), cmap = 'gray')\n",
    "plt.show()"
   ]
  },
  {
   "cell_type": "code",
   "execution_count": 19,
   "id": "e97588d4",
   "metadata": {},
   "outputs": [],
   "source": [
    "#Splitting training and test data/labels\n",
    "X_train = df_train[df_train.columns[1:]]\n",
    "y_train = df_train['label'] \n",
    "X_test = df_test[df_test.columns[1:]] \n",
    "y_test = df_test['label']"
   ]
  },
  {
   "cell_type": "code",
   "execution_count": 20,
   "id": "eca8cc6e",
   "metadata": {},
   "outputs": [],
   "source": [
    "#Use smaller subset to read into memory\n",
    "X_train = X_train[:10000]\n",
    "y_train = y_train[:10000]\n",
    "X_test = X_test[:2000]\n",
    "y_test = y_test[:2000]"
   ]
  },
  {
   "cell_type": "code",
   "execution_count": 21,
   "id": "1913b7e8",
   "metadata": {},
   "outputs": [],
   "source": [
    "#Assign 0 label to even numbers and 1 label to odd numbers for train labels\n",
    "for x, y in enumerate(y_train):\n",
    "    if y in [0,2,4,6,8]:\n",
    "        y_train[x] = 0\n",
    "    elif y in [1,3,5,7,9]:\n",
    "        y_train[x] = 1"
   ]
  },
  {
   "cell_type": "code",
   "execution_count": 22,
   "id": "eef15b4c",
   "metadata": {},
   "outputs": [],
   "source": [
    "#Assign 0 label to even numbers and 1 label to odd numbers for test labels\n",
    "for x, y in enumerate(y_test):\n",
    "    if y in [0,2,4,6,8]:\n",
    "        y_test[x] = 0\n",
    "    elif y in [1,3,5,7,9]:\n",
    "        y_test[x] = 1"
   ]
  },
  {
   "cell_type": "code",
   "execution_count": 23,
   "id": "55b5abaa",
   "metadata": {},
   "outputs": [],
   "source": [
    "#Convert to correct types for consistency\n",
    "X_train = X_train.astype('float32')\n",
    "y_train = y_train.astype('int32')   \n",
    "X_test = X_test.values.astype('float32')\n",
    "X_train = X_train / 255.0\n",
    "X_test = X_test / 255.0"
   ]
  },
  {
   "cell_type": "markdown",
   "id": "450a13f0",
   "metadata": {},
   "source": [
    "# Creating CNN Model"
   ]
  },
  {
   "cell_type": "code",
   "execution_count": 24,
   "id": "095d01d2",
   "metadata": {},
   "outputs": [],
   "source": [
    "import keras\n",
    "from keras.models import Sequential\n",
    "from keras.layers import Dense, Flatten, Dropout\n",
    "from tensorflow.keras.optimizers import RMSprop\n",
    "from keras.utils import np_utils"
   ]
  },
  {
   "cell_type": "code",
   "execution_count": 25,
   "id": "ba156643",
   "metadata": {},
   "outputs": [],
   "source": [
    "y_train = keras.utils.np_utils.to_categorical(y_train, 2)"
   ]
  },
  {
   "cell_type": "code",
   "execution_count": 26,
   "id": "7c6da684",
   "metadata": {},
   "outputs": [
    {
     "name": "stderr",
     "output_type": "stream",
     "text": [
      "2022-12-05 00:31:57.870398: W tensorflow/stream_executor/platform/default/dso_loader.cc:64] Could not load dynamic library 'libcuda.so.1'; dlerror: libcuda.so.1: cannot open shared object file: No such file or directory\n",
      "2022-12-05 00:31:57.870472: W tensorflow/stream_executor/cuda/cuda_driver.cc:269] failed call to cuInit: UNKNOWN ERROR (303)\n",
      "2022-12-05 00:31:57.870523: I tensorflow/stream_executor/cuda/cuda_diagnostics.cc:163] no NVIDIA GPU device is present: /dev/nvidia0 does not exist\n",
      "2022-12-05 00:31:57.871089: I tensorflow/core/platform/cpu_feature_guard.cc:151] This TensorFlow binary is optimized with oneAPI Deep Neural Network Library (oneDNN) to use the following CPU instructions in performance-critical operations:  AVX2 FMA\n",
      "To enable them in other operations, rebuild TensorFlow with the appropriate compiler flags.\n"
     ]
    }
   ],
   "source": [
    "model = Sequential()\n",
    "model.add(Dense(128, activation='relu', input_shape = (784,)))\n",
    "model.add(Dropout(0.3))\n",
    "model.add(Dense(64, activation='relu'))\n",
    "model.add(Dropout(0.3))\n",
    "model.add(Dense(2, activation='softmax')) "
   ]
  },
  {
   "cell_type": "code",
   "execution_count": 27,
   "id": "19dbbc3c",
   "metadata": {},
   "outputs": [
    {
     "name": "stdout",
     "output_type": "stream",
     "text": [
      "Model: \"sequential\"\n",
      "_________________________________________________________________\n",
      " Layer (type)                Output Shape              Param #   \n",
      "=================================================================\n",
      " dense (Dense)               (None, 128)               100480    \n",
      "                                                                 \n",
      " dropout (Dropout)           (None, 128)               0         \n",
      "                                                                 \n",
      " dense_1 (Dense)             (None, 64)                8256      \n",
      "                                                                 \n",
      " dropout_1 (Dropout)         (None, 64)                0         \n",
      "                                                                 \n",
      " dense_2 (Dense)             (None, 2)                 130       \n",
      "                                                                 \n",
      "=================================================================\n",
      "Total params: 108,866\n",
      "Trainable params: 108,866\n",
      "Non-trainable params: 0\n",
      "_________________________________________________________________\n"
     ]
    }
   ],
   "source": [
    "model.summary()"
   ]
  },
  {
   "cell_type": "code",
   "execution_count": 28,
   "id": "dbb49b48",
   "metadata": {},
   "outputs": [
    {
     "name": "stderr",
     "output_type": "stream",
     "text": [
      "/home/wjluu/.local/lib/python3.9/site-packages/keras/optimizer_v2/rmsprop.py:130: UserWarning: The `lr` argument is deprecated, use `learning_rate` instead.\n",
      "  super(RMSprop, self).__init__(name, **kwargs)\n"
     ]
    }
   ],
   "source": [
    "model.compile(loss='mse', optimizer=RMSprop(lr = 0.001), metrics=['accuracy'])"
   ]
  },
  {
   "cell_type": "code",
   "execution_count": 29,
   "id": "4fc9f96a",
   "metadata": {},
   "outputs": [],
   "source": [
    "from sklearn.model_selection import train_test_split\n",
    "x_train,x_val, y_train, y_val = train_test_split(X_train, y_train, test_size = 0.25, random_state = 42)"
   ]
  },
  {
   "cell_type": "code",
   "execution_count": 30,
   "id": "58096efd",
   "metadata": {},
   "outputs": [],
   "source": [
    "import keras\n",
    "from matplotlib import pyplot as plt"
   ]
  },
  {
   "cell_type": "code",
   "execution_count": 31,
   "id": "b2fbfe1f",
   "metadata": {},
   "outputs": [
    {
     "name": "stdout",
     "output_type": "stream",
     "text": [
      "Epoch 1/20\n",
      "59/59 [==============================] - 1s 11ms/step - loss: 0.1101 - accuracy: 0.8453 - val_loss: 0.0567 - val_accuracy: 0.9304\n",
      "Epoch 2/20\n",
      "59/59 [==============================] - 0s 8ms/step - loss: 0.0551 - accuracy: 0.9313 - val_loss: 0.0355 - val_accuracy: 0.9540\n",
      "Epoch 3/20\n",
      "59/59 [==============================] - 0s 8ms/step - loss: 0.0389 - accuracy: 0.9533 - val_loss: 0.0305 - val_accuracy: 0.9592\n",
      "Epoch 4/20\n",
      "59/59 [==============================] - 0s 8ms/step - loss: 0.0316 - accuracy: 0.9601 - val_loss: 0.0293 - val_accuracy: 0.9604\n",
      "Epoch 5/20\n",
      "59/59 [==============================] - 0s 8ms/step - loss: 0.0252 - accuracy: 0.9695 - val_loss: 0.0273 - val_accuracy: 0.9624\n",
      "Epoch 6/20\n",
      "59/59 [==============================] - 0s 8ms/step - loss: 0.0213 - accuracy: 0.9744 - val_loss: 0.0237 - val_accuracy: 0.9680\n",
      "Epoch 7/20\n",
      "59/59 [==============================] - 0s 8ms/step - loss: 0.0175 - accuracy: 0.9785 - val_loss: 0.0224 - val_accuracy: 0.9724\n",
      "Epoch 8/20\n",
      "59/59 [==============================] - 0s 8ms/step - loss: 0.0154 - accuracy: 0.9812 - val_loss: 0.0241 - val_accuracy: 0.9680\n",
      "Epoch 9/20\n",
      "59/59 [==============================] - 0s 7ms/step - loss: 0.0139 - accuracy: 0.9831 - val_loss: 0.0217 - val_accuracy: 0.9744\n",
      "Epoch 10/20\n",
      "59/59 [==============================] - 0s 7ms/step - loss: 0.0128 - accuracy: 0.9853 - val_loss: 0.0189 - val_accuracy: 0.9756\n",
      "Epoch 11/20\n",
      "59/59 [==============================] - 0s 8ms/step - loss: 0.0116 - accuracy: 0.9859 - val_loss: 0.0206 - val_accuracy: 0.9720\n",
      "Epoch 12/20\n",
      "59/59 [==============================] - 0s 7ms/step - loss: 0.0093 - accuracy: 0.9889 - val_loss: 0.0210 - val_accuracy: 0.9732\n",
      "Epoch 13/20\n",
      "59/59 [==============================] - 0s 7ms/step - loss: 0.0093 - accuracy: 0.9887 - val_loss: 0.0192 - val_accuracy: 0.9772\n",
      "Epoch 14/20\n",
      "59/59 [==============================] - 0s 7ms/step - loss: 0.0086 - accuracy: 0.9901 - val_loss: 0.0191 - val_accuracy: 0.9756\n",
      "Epoch 15/20\n",
      "59/59 [==============================] - 0s 7ms/step - loss: 0.0077 - accuracy: 0.9915 - val_loss: 0.0186 - val_accuracy: 0.9780\n",
      "Epoch 16/20\n",
      "59/59 [==============================] - 0s 8ms/step - loss: 0.0068 - accuracy: 0.9913 - val_loss: 0.0220 - val_accuracy: 0.9724\n",
      "Epoch 17/20\n",
      "59/59 [==============================] - 1s 10ms/step - loss: 0.0064 - accuracy: 0.9931 - val_loss: 0.0183 - val_accuracy: 0.9772\n",
      "Epoch 18/20\n",
      "59/59 [==============================] - 1s 10ms/step - loss: 0.0062 - accuracy: 0.9927 - val_loss: 0.0175 - val_accuracy: 0.9792\n",
      "Epoch 19/20\n",
      "59/59 [==============================] - 0s 6ms/step - loss: 0.0062 - accuracy: 0.9925 - val_loss: 0.0197 - val_accuracy: 0.9764\n",
      "Epoch 20/20\n",
      "59/59 [==============================] - 0s 7ms/step - loss: 0.0060 - accuracy: 0.9927 - val_loss: 0.0182 - val_accuracy: 0.9772\n"
     ]
    }
   ],
   "source": [
    "history = model.fit(x_train, y_train, epochs = 20, batch_size = 128, verbose = 1, validation_data = (x_val, y_val))"
   ]
  },
  {
   "cell_type": "code",
   "execution_count": 38,
   "id": "efc6d871",
   "metadata": {},
   "outputs": [
    {
     "data": {
      "image/png": "[encoded data removed]",
      "text/plain": [
       "<Figure size 432x288 with 1 Axes>"
      ]
     },
     "metadata": {
      "needs_background": "light"
     },
     "output_type": "display_data"
    }
   ],
   "source": [
    "plt.plot(history.history['accuracy'])\n",
    "plt.plot(history.history['val_accuracy'])\n",
    "plt.title('CNN Model Accuracy on MNIST Dataset')\n",
    "plt.ylabel('Accuracy')\n",
    "plt.xlabel('Epoch')\n",
    "plt.legend(['Training set', 'Validation set'], loc='lower right')\n",
    "plt.show()"
   ]
  },
  {
   "cell_type": "code",
   "execution_count": null,
   "id": "404e4ff7",
   "metadata": {},
   "outputs": [],
   "source": []
  }
 ],
 "metadata": {
  "kernelspec": {
   "display_name": "Python 3 (clean)",
   "language": "python",
   "name": "python3_clean"
  },
  "language_info": {
   "codemirror_mode": {
    "name": "ipython",
    "version": 3
   },
   "file_extension": ".py",
   "mimetype": "text/x-python",
   "name": "python",
   "nbconvert_exporter": "python",
   "pygments_lexer": "ipython3",
   "version": "3.9.5"
  }
 },
 "nbformat": 4,
 "nbformat_minor": 5
}
