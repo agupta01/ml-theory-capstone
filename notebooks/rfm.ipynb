{
 "cells": [
  {
   "cell_type": "code",
   "execution_count": 1,
   "id": "e57dc68f-ed8e-4a6a-b95e-5705cd61ad68",
   "metadata": {},
   "outputs": [],
   "source": [
    "import numpy as np\n",
    "import matplotlib.pyplot as plt"
   ]
  },
  {
   "cell_type": "code",
   "execution_count": 252,
   "id": "48191093-f6be-452d-a1f3-5742a92f6404",
   "metadata": {},
   "outputs": [],
   "source": [
    "n = 100\n",
    "d = 50\n",
    "split_size = 0.2 # proportion of datapoints for test set\n",
    "\n",
    "f = lambda x: (5*x[0]) + (2*x[1]) + (10*x[2])\n",
    "\n",
    "X_train = np.random.normal(size=(int(n*(1-split_size)),d))\n",
    "X_test = np.random.normal(size=(int(n*split_size),d))\n",
    "y_train = np.array([f(x) for x in X_train])\n",
    "y_test = np.array([f(x) for x in X_test])"
   ]
  },
  {
   "cell_type": "code",
   "execution_count": 253,
   "id": "c0e93085-75ef-472a-9779-5be1b1912574",
   "metadata": {},
   "outputs": [
    {
     "data": {
      "text/plain": [
       "((80, 50), (20, 50), (80,), (20,))"
      ]
     },
     "execution_count": 253,
     "metadata": {},
     "output_type": "execute_result"
    }
   ],
   "source": [
    "X_train.shape, X_test.shape, y_train.shape, y_test.shape"
   ]
  },
  {
   "cell_type": "code",
   "execution_count": 254,
   "id": "c5207c22-fcc5-4f9d-a031-468a7b25b566",
   "metadata": {},
   "outputs": [
    {
     "data": {
      "text/plain": [
       "array([-0.52775717,  1.65142242,  0.76634402,  0.96988638,  1.04112923,\n",
       "       -0.08681719, -0.84309508, -1.42302206, -0.52556384,  0.34554332,\n",
       "       -0.02740217,  0.73611816, -1.14250122, -1.20608004,  1.43823145,\n",
       "       -0.28131904, -0.57987247, -1.26854129, -1.14421025,  0.52936592,\n",
       "        0.86496903, -0.85628583, -0.81598277, -0.58297765,  0.54589084,\n",
       "        0.50715295,  0.42986542, -0.52392805, -0.56136854, -0.45236671,\n",
       "        0.90225308, -0.91485163, -0.57745489, -0.79017638, -0.90502085,\n",
       "       -0.29250253,  1.53488455, -0.33064942,  0.59709578,  1.2886424 ,\n",
       "       -1.28015148, -1.54640869, -1.81434618,  0.0665454 , -0.20472855,\n",
       "       -1.07591172,  1.43858028, -0.82254503, -0.38948706, -0.144924  ])"
      ]
     },
     "execution_count": 254,
     "metadata": {},
     "output_type": "execute_result"
    }
   ],
   "source": [
    "X_train[0]"
   ]
  },
  {
   "cell_type": "code",
   "execution_count": 255,
   "id": "cc8319c4-159f-4915-a785-ef4ebd48e595",
   "metadata": {},
   "outputs": [
    {
     "data": {
      "text/plain": [
       "8.327499195177756"
      ]
     },
     "execution_count": 255,
     "metadata": {},
     "output_type": "execute_result"
    }
   ],
   "source": [
    "y_train[0]"
   ]
  },
  {
   "cell_type": "code",
   "execution_count": 256,
   "id": "b0e733be-6a59-49a6-a686-005dcd130fdd",
   "metadata": {},
   "outputs": [],
   "source": [
    "def mnorm(x, z, M, squared=True): # (n, d), (m,d), (d,d) --> (n, m)\n",
    "    # implements |x-z|_M^2 between pairs from x and z\n",
    "    x_norm = ((x @ M)*x).sum(axis=1, keepdims=True)\n",
    "    if x is z:\n",
    "        z_norm = x_norm\n",
    "    else:\n",
    "        z_norm = ((z @ M)*z).sum(axis=1, keepdims=True)\n",
    "        \n",
    "    z_norm = z_norm.reshape(1, -1)\n",
    "    \n",
    "    distances = (x @ (M @ z.T)*-2) + x_norm + z_norm\n",
    "    if not squared:\n",
    "        distances = np.sqrt(np.clip(distances, 0, np.inf))\n",
    "    return distances"
   ]
  },
  {
   "cell_type": "code",
   "execution_count": 257,
   "id": "9aaaa4c9-9079-4c66-a402-ea07a1ff0f99",
   "metadata": {},
   "outputs": [
    {
     "data": {
      "text/plain": [
       "array([[0.00000000e+00, 9.43104400e+00, 7.93137684e+00, ...,\n",
       "        9.76619723e+00, 8.35183436e+00, 9.99799921e+00],\n",
       "       [9.43104400e+00, 0.00000000e+00, 9.82977633e+00, ...,\n",
       "        9.42812754e+00, 9.49553596e+00, 8.99394415e+00],\n",
       "       [7.93137684e+00, 9.82977633e+00, 1.19209290e-07, ...,\n",
       "        1.04284196e+01, 9.10048249e+00, 9.30797960e+00],\n",
       "       ...,\n",
       "       [9.76619723e+00, 9.42812754e+00, 1.04284196e+01, ...,\n",
       "        1.68587394e-07, 1.04122862e+01, 9.92430431e+00],\n",
       "       [8.35183436e+00, 9.49553596e+00, 9.10048249e+00, ...,\n",
       "        1.04122862e+01, 0.00000000e+00, 9.15186069e+00],\n",
       "       [9.99799921e+00, 8.99394415e+00, 9.30797960e+00, ...,\n",
       "        9.92430431e+00, 9.15186069e+00, 0.00000000e+00]])"
      ]
     },
     "execution_count": 257,
     "metadata": {},
     "output_type": "execute_result"
    }
   ],
   "source": [
    "M = np.eye(d)\n",
    "\n",
    "mnorm(X_train, X_train, M, squared=False)"
   ]
  },
  {
   "cell_type": "code",
   "execution_count": 258,
   "id": "8a8df5a9-6884-4205-89ec-f8386280b63f",
   "metadata": {},
   "outputs": [],
   "source": [
    "def K_M(x, z, M, L):\n",
    "    pairwise_distances = mnorm(x, z, M, squared=False)\n",
    "    pairwise_distances = np.clip(pairwise_distances, 0, np.inf)\n",
    "    return np.exp(pairwise_distances * -(1./L))\n",
    "\n",
    "def grad_laplace_mat(a, x, z, M, L): # (n, d), (m, d), (d, d) --> (n, m, d)\n",
    "    dist = mnorm(x, z, M, squared=False)\n",
    "    dist = np.where(dist < 1e-4, np.zeros(1, dtype=np.float16), dist)\n",
    "    \n",
    "    K = K_M(x, z, M, L)/dist\n",
    "    K[K == float('inf')] = 0.\n",
    "    \n",
    "    a = a[:, None]\n",
    "    \n",
    "    n, d = x.shape\n",
    "    n, c = a.shape\n",
    "    m, d = z.shape\n",
    "    \n",
    "    a = a.reshape(n, c, 1)\n",
    "    X1 = (x @ M).reshape(n, 1, d)\n",
    "    step1 = (a @ X1).reshape(-1, c*d)\n",
    "    \n",
    "    step2 = (K.T @ step1).reshape(-1, c, d)\n",
    "    del step1\n",
    "    \n",
    "    step3 = ((a.T @ K).T).reshape(m, c, 1)\n",
    "    z1 = (z @ M).reshape(m, 1, d)\n",
    "    step3 = step3 @ z1\n",
    "    \n",
    "    G = (step2 - step3) * -1/L\n",
    "    \n",
    "    return G\n",
    "    \n",
    "    # nm_factor = np.where(\n",
    "    #     mnorm(x, z, M) < 1e-4, 0, K_M(x, z, M, L)/mnorm(x, z, M, squared=False)/L)\n",
    "    # np.fill_diagonal(nm_factor, 0.)\n",
    "    # return ((z @ M) - (x @ M)[:,None,:]) * nm_factor[:,:,None]"
   ]
  },
  {
   "cell_type": "code",
   "execution_count": 259,
   "id": "6e8ba7dd-5960-4662-ab86-28b75814926c",
   "metadata": {
    "tags": []
   },
   "outputs": [
    {
     "name": "stderr",
     "output_type": "stream",
     "text": [
      "/var/folders/mc/421h_39x625fpy09_jss5vrh0000gn/T/ipykernel_79221/1190691096.py:10: RuntimeWarning: divide by zero encountered in true_divide\n",
      "  K = K_M(x, z, M, L)/dist\n"
     ]
    }
   ],
   "source": [
    "T = 10\n",
    "L = 1.\n",
    "M = np.eye(d)\n",
    "\n",
    "for t in range(T):\n",
    "    K_train = K_M(X_train, X_train, M, L=L)\n",
    "    alpha = y_train @ np.linalg.pinv(K_train)\n",
    "    grad = grad_laplace_mat(alpha, X_train, X_train, M, L=L)\n",
    "    M = np.mean(np.swapaxes(grad, 1, 2) @ grad, axis=0)"
   ]
  },
  {
   "cell_type": "code",
   "execution_count": 260,
   "id": "2312ce9b-6ca4-49db-8ed0-5a46e791658b",
   "metadata": {},
   "outputs": [
    {
     "data": {
      "text/plain": [
       "<matplotlib.colorbar.Colorbar at 0x7fdd604ff2e0>"
      ]
     },
     "execution_count": 260,
     "metadata": {},
     "output_type": "execute_result"
    },
    {
     "data": {
      "image/png": "[encoded data removed]",
      "text/plain": [
       "<Figure size 432x288 with 2 Axes>"
      ]
     },
     "metadata": {
      "needs_background": "light"
     },
     "output_type": "display_data"
    }
   ],
   "source": [
    "plt.imshow(M)\n",
    "plt.colorbar()"
   ]
  },
  {
   "cell_type": "code",
   "execution_count": 261,
   "id": "df41edd1-0097-434d-87cf-a8d3203e0072",
   "metadata": {},
   "outputs": [
    {
     "data": {
      "text/plain": [
       "0.016238761057666175"
      ]
     },
     "execution_count": 261,
     "metadata": {},
     "output_type": "execute_result"
    }
   ],
   "source": [
    "y_pred_train = alpha @ K_M(X_train, X_train, M, L)\n",
    "((y_train - y_pred_train)**2).mean()"
   ]
  },
  {
   "cell_type": "code",
   "execution_count": 262,
   "id": "40a7d947-afd6-49ce-a986-290fd727104d",
   "metadata": {},
   "outputs": [
    {
     "data": {
      "text/plain": [
       "148.7228275899262"
      ]
     },
     "execution_count": 262,
     "metadata": {},
     "output_type": "execute_result"
    }
   ],
   "source": [
    "y_pred_test = alpha @ K_M(X_train, X_test, M, L)\n",
    "((y_test - y_pred_test)**2).mean()"
   ]
  },
  {
   "cell_type": "code",
   "execution_count": null,
   "id": "afd92fba-254e-4b6e-a083-3a739adf1a9b",
   "metadata": {},
   "outputs": [],
   "source": []
  }
 ],
 "metadata": {
  "kernelspec": {
   "display_name": "py39",
   "language": "python",
   "name": "py39"
  },
  "language_info": {
   "codemirror_mode": {
    "name": "ipython",
    "version": 3
   },
   "file_extension": ".py",
   "mimetype": "text/x-python",
   "name": "python",
   "nbconvert_exporter": "python",
   "pygments_lexer": "ipython3",
   "version": "3.9.7"
  }
 },
 "nbformat": 4,
 "nbformat_minor": 5
}
