{
 "cells": [
  {
   "cell_type": "code",
   "execution_count": 1,
   "id": "e57dc68f-ed8e-4a6a-b95e-5705cd61ad68",
   "metadata": {},
   "outputs": [],
   "source": [
    "import numpy as np\n",
    "import matplotlib.pyplot as plt"
   ]
  },
  {
   "cell_type": "code",
   "execution_count": 2,
   "id": "48191093-f6be-452d-a1f3-5742a92f6404",
   "metadata": {},
   "outputs": [],
   "source": [
    "n = 100\n",
    "d = 50\n",
    "split_size = 0.2 # proportion of datapoints for test set\n",
    "\n",
    "f = lambda x: (5*x[0]**3) + (2*x[1]**2) + (10*x[2])\n",
    "\n",
    "X_train = np.random.normal(size=(int(n*(1-split_size)),d))\n",
    "X_test = np.random.normal(size=(int(n*split_size),d))\n",
    "y_train = np.array([f(x) for x in X_train])\n",
    "y_test = np.array([f(x) for x in X_test])"
   ]
  },
  {
   "cell_type": "code",
   "execution_count": 3,
   "id": "c0e93085-75ef-472a-9779-5be1b1912574",
   "metadata": {},
   "outputs": [
    {
     "data": {
      "text/plain": [
       "((80, 50), (20, 50), (80,), (20,))"
      ]
     },
     "execution_count": 3,
     "metadata": {},
     "output_type": "execute_result"
    }
   ],
   "source": [
    "X_train.shape, X_test.shape, y_train.shape, y_test.shape"
   ]
  },
  {
   "cell_type": "code",
   "execution_count": 4,
   "id": "c5207c22-fcc5-4f9d-a031-468a7b25b566",
   "metadata": {},
   "outputs": [
    {
     "data": {
      "text/plain": [
       "array([-0.78121106, -0.33617641,  0.52363846, -0.13496118,  0.03644554,\n",
       "        1.00639938,  0.57238661,  0.46756195, -0.67469437, -0.39055475,\n",
       "       -0.06936906, -0.88518766,  1.46465732, -1.65444732, -1.88602962,\n",
       "        0.44376697,  0.73790899, -0.08182475, -0.11184231,  0.67887083,\n",
       "        0.16207671,  0.73973256, -2.17877134,  0.41545317, -0.36186587,\n",
       "        0.18273438, -0.49650448,  0.59107204, -0.2078507 ,  0.12309621,\n",
       "        0.96816116, -0.92652852, -0.55756205,  0.4023395 ,  0.33890383,\n",
       "       -0.12658214,  0.04695529, -0.81467258,  1.6463466 ,  0.28324913,\n",
       "       -0.40857785, -1.17332751, -1.23109783,  0.36033934, -1.29731062,\n",
       "       -2.93319246, -2.71695021,  0.32859046, -0.25965966, -1.48903463])"
      ]
     },
     "execution_count": 4,
     "metadata": {},
     "output_type": "execute_result"
    }
   ],
   "source": [
    "X_train[0]"
   ]
  },
  {
   "cell_type": "code",
   "execution_count": 5,
   "id": "cc8319c4-159f-4915-a785-ef4ebd48e595",
   "metadata": {},
   "outputs": [
    {
     "data": {
      "text/plain": [
       "3.078584437185568"
      ]
     },
     "execution_count": 5,
     "metadata": {},
     "output_type": "execute_result"
    }
   ],
   "source": [
    "y_train[0]"
   ]
  },
  {
   "cell_type": "code",
   "execution_count": 6,
   "id": "b0e733be-6a59-49a6-a686-005dcd130fdd",
   "metadata": {},
   "outputs": [],
   "source": [
    "def mnorm(x, z, M, squared=True): # (n, d), (m,d), (d,d) --> (n, m)\n",
    "    # implements |x-z|_M^2 between pairs from x and z\n",
    "    x_norm = ((x @ M)*x).sum(axis=1, keepdims=True)\n",
    "    if x is z:\n",
    "        z_norm = x_norm\n",
    "    else:\n",
    "        z_norm = ((z @ M)*z).sum(axis=1, keepdims=True)\n",
    "        \n",
    "    z_norm = z_norm.reshape(1, -1)\n",
    "    \n",
    "    distances = (x @ (M @ z.T)*-2) + x_norm + z_norm\n",
    "    if not squared:\n",
    "        distances = np.sqrt(np.clip(distances, 0, np.inf))\n",
    "    return distances"
   ]
  },
  {
   "cell_type": "code",
   "execution_count": 7,
   "id": "9aaaa4c9-9079-4c66-a402-ea07a1ff0f99",
   "metadata": {},
   "outputs": [
    {
     "data": {
      "text/plain": [
       "array([[0.00000000e+00, 9.36131780e+00, 1.11844848e+01, ...,\n",
       "        1.00254031e+01, 1.02498088e+01, 1.16892037e+01],\n",
       "       [9.36131780e+00, 0.00000000e+00, 8.90060413e+00, ...,\n",
       "        8.93452226e+00, 9.12126509e+00, 1.02345404e+01],\n",
       "       [1.11844848e+01, 8.90060413e+00, 0.00000000e+00, ...,\n",
       "        9.52964760e+00, 9.41369844e+00, 1.01657494e+01],\n",
       "       ...,\n",
       "       [1.00254031e+01, 8.93452226e+00, 9.52964760e+00, ...,\n",
       "        1.19209290e-07, 9.80113169e+00, 1.01280987e+01],\n",
       "       [1.02498088e+01, 9.12126509e+00, 9.41369844e+00, ...,\n",
       "        9.80113169e+00, 0.00000000e+00, 9.52203742e+00],\n",
       "       [1.16892037e+01, 1.02345404e+01, 1.01657494e+01, ...,\n",
       "        1.01280987e+01, 9.52203742e+00, 0.00000000e+00]])"
      ]
     },
     "execution_count": 7,
     "metadata": {},
     "output_type": "execute_result"
    }
   ],
   "source": [
    "M = np.eye(d)\n",
    "\n",
    "mnorm(X_train, X_train, M, squared=False)"
   ]
  },
  {
   "cell_type": "code",
   "execution_count": 8,
   "id": "8a8df5a9-6884-4205-89ec-f8386280b63f",
   "metadata": {},
   "outputs": [],
   "source": [
    "def K_M(x, z, M, L):\n",
    "    pairwise_distances = mnorm(x, z, M, squared=False)\n",
    "    pairwise_distances = np.clip(pairwise_distances, 0, np.inf)\n",
    "    return np.exp(pairwise_distances * -(1./L))\n",
    "\n",
    "def grad_laplace_mat(a, x, z, M, L): # (n, d), (m, d), (d, d) --> (n, m, d)\n",
    "    dist = mnorm(x, z, M, squared=False)\n",
    "    dist = np.where(dist < 1e-4, np.zeros(1, dtype=np.float16), dist)\n",
    "    \n",
    "    K = K_M(x, z, M, L)/dist\n",
    "    K[K == float('inf')] = 0.\n",
    "    \n",
    "    a = a[:, None]\n",
    "    \n",
    "    n, d = x.shape\n",
    "    n, c = a.shape\n",
    "    m, d = z.shape\n",
    "    \n",
    "    a = a.reshape(n, c, 1)\n",
    "    X1 = (x @ M).reshape(n, 1, d)\n",
    "    step1 = (a @ X1).reshape(-1, c*d)\n",
    "    \n",
    "    step2 = (K.T @ step1).reshape(-1, c, d)\n",
    "    del step1\n",
    "    \n",
    "    step3 = ((a.T @ K).T).reshape(m, c, 1)\n",
    "    z1 = (z @ M).reshape(m, 1, d)\n",
    "    step3 = step3 @ z1\n",
    "    \n",
    "    G = (step2 - step3) * -1/L\n",
    "    \n",
    "    return G\n",
    "    \n",
    "    # nm_factor = np.where(\n",
    "    #     mnorm(x, z, M) < 1e-4, 0, K_M(x, z, M, L)/mnorm(x, z, M, squared=False)/L)\n",
    "    # np.fill_diagonal(nm_factor, 0.)\n",
    "    # return ((z @ M) - (x @ M)[:,None,:]) * nm_factor[:,:,None]"
   ]
  },
  {
   "cell_type": "code",
   "execution_count": 9,
   "id": "6e8ba7dd-5960-4662-ab86-28b75814926c",
   "metadata": {
    "tags": []
   },
   "outputs": [
    {
     "name": "stderr",
     "output_type": "stream",
     "text": [
      "/var/folders/mc/421h_39x625fpy09_jss5vrh0000gn/T/ipykernel_97178/1190691096.py:10: RuntimeWarning: divide by zero encountered in true_divide\n",
      "  K = K_M(x, z, M, L)/dist\n"
     ]
    }
   ],
   "source": [
    "T = 10\n",
    "L = 1.\n",
    "M = np.eye(d)\n",
    "\n",
    "_lambda = 1e-3\n",
    "\n",
    "\n",
    "def train_rfm(X_train, y_train, L=1., T=10):\n",
    "    M = np.eye(d)\n",
    "    for t in range(T):\n",
    "        K_train = K_M(X_train, X_train, M, L=L)\n",
    "        alpha = y_train @ np.linalg.pinv(K_train + _lambda*np.eye(80))\n",
    "        grad = grad_laplace_mat(alpha, X_train, X_train, M, L=L)\n",
    "        M = np.mean(np.swapaxes(grad, 1, 2) @ grad, axis=0)\n",
    "        \n",
    "    return alpha, M\n",
    "\n",
    "alpha, M = train_rfm(X_train, y_train, L, T)"
   ]
  },
  {
   "cell_type": "code",
   "execution_count": 10,
   "id": "69f38646-58db-478e-a8c2-a2b53d95fb00",
   "metadata": {},
   "outputs": [
    {
     "data": {
      "text/plain": [
       "((80,), (50, 50))"
      ]
     },
     "execution_count": 10,
     "metadata": {},
     "output_type": "execute_result"
    }
   ],
   "source": [
    "alpha.shape, M.shape"
   ]
  },
  {
   "cell_type": "code",
   "execution_count": 326,
   "id": "2312ce9b-6ca4-49db-8ed0-5a46e791658b",
   "metadata": {},
   "outputs": [
    {
     "data": {
      "text/plain": [
       "<matplotlib.colorbar.Colorbar at 0x7fdd630953d0>"
      ]
     },
     "execution_count": 326,
     "metadata": {},
     "output_type": "execute_result"
    },
    {
     "data": {
      "image/png": "[encoded data removed]",
      "text/plain": [
       "<Figure size 432x288 with 2 Axes>"
      ]
     },
     "metadata": {
      "needs_background": "light"
     },
     "output_type": "display_data"
    }
   ],
   "source": [
    "plt.imshow(M)\n",
    "plt.colorbar()"
   ]
  },
  {
   "cell_type": "code",
   "execution_count": 319,
   "id": "df41edd1-0097-434d-87cf-a8d3203e0072",
   "metadata": {},
   "outputs": [
    {
     "data": {
      "text/plain": [
       "17.076659043639626"
      ]
     },
     "execution_count": 319,
     "metadata": {},
     "output_type": "execute_result"
    }
   ],
   "source": [
    "y_pred_train = alpha @ K_M(X_train, X_train, M, L)\n",
    "((y_train - y_pred_train)**2).mean()"
   ]
  },
  {
   "cell_type": "code",
   "execution_count": 11,
   "id": "581cdbde-3ff4-40ed-8116-343731b25ac1",
   "metadata": {},
   "outputs": [
    {
     "data": {
      "text/plain": [
       "(80, 20)"
      ]
     },
     "execution_count": 11,
     "metadata": {},
     "output_type": "execute_result"
    }
   ],
   "source": [
    "K_M(X_train, X_test, M, L).shape"
   ]
  },
  {
   "cell_type": "code",
   "execution_count": 320,
   "id": "40a7d947-afd6-49ce-a986-290fd727104d",
   "metadata": {},
   "outputs": [
    {
     "data": {
      "text/plain": [
       "496.33504160827397"
      ]
     },
     "execution_count": 320,
     "metadata": {},
     "output_type": "execute_result"
    }
   ],
   "source": [
    "y_pred_test = alpha @ K_M(X_train, X_test, M, L)\n",
    "((y_test - y_pred_test)**2).mean()"
   ]
  },
  {
   "cell_type": "code",
   "execution_count": 269,
   "id": "afd92fba-254e-4b6e-a083-3a739adf1a9b",
   "metadata": {},
   "outputs": [
    {
     "name": "stderr",
     "output_type": "stream",
     "text": [
      "/var/folders/mc/421h_39x625fpy09_jss5vrh0000gn/T/ipykernel_79221/1190691096.py:10: RuntimeWarning: divide by zero encountered in true_divide\n",
      "  K = K_M(x, z, M, L)/dist\n"
     ]
    }
   ],
   "source": [
    "train_MSE = []\n",
    "test_MSE = []\n",
    "\n",
    "for d in range(10, 200, 2):\n",
    "    # generate data\n",
    "    train_X = X_train[:, :d]\n",
    "    test_X = X_test[:, :d]\n",
    "    \n",
    "    alpha, M = train_rfm(train_X, y_train, L, T)\n",
    "    \n",
    "    # train mse\n",
    "    y_pred_train = alpha @ K_M(train_X, train_X, M, L)\n",
    "    train_MSE.append(((y_train - y_pred_train)**2).mean())\n",
    "    \n",
    "    # test mse\n",
    "    y_pred_test = alpha @ K_M(train_X, test_X, M, L)\n",
    "    test_MSE.append(((y_test - y_pred_test)**2).mean())"
   ]
  },
  {
   "cell_type": "code",
   "execution_count": 277,
   "id": "167c57e9-9f85-40cb-ac46-2a487cd76d36",
   "metadata": {},
   "outputs": [
    {
     "data": {
      "text/plain": [
       "<matplotlib.legend.Legend at 0x7fdd617a2d00>"
      ]
     },
     "execution_count": 277,
     "metadata": {},
     "output_type": "execute_result"
    },
    {
     "data": {
      "image/png": "[encoded data removed]",
      "text/plain": [
       "<Figure size 1152x648 with 1 Axes>"
      ]
     },
     "metadata": {
      "needs_background": "light"
     },
     "output_type": "display_data"
    }
   ],
   "source": [
    "d_range = list(range(10, 200, 2))\n",
    "\n",
    "plt.figure(figsize=(16,9))\n",
    "plt.plot(d_range, train_MSE, label=\"Train MSE\")\n",
    "plt.plot(d_range, test_MSE, label=\"Test MSE\")\n",
    "plt.xlabel(\"d\")\n",
    "plt.ylabel(\"MSE\")\n",
    "plt.yscale(\"log\")\n",
    "plt.legend()"
   ]
  },
  {
   "cell_type": "code",
   "execution_count": 282,
   "id": "79cd2bad-7142-4248-bd0b-cefe1d4f252f",
   "metadata": {},
   "outputs": [
    {
     "data": {
      "text/plain": [
       "array([[0., 0., 0., ..., 0., 0., 0.],\n",
       "       [0., 0., 0., ..., 0., 0., 0.],\n",
       "       [0., 0., 0., ..., 0., 0., 0.],\n",
       "       ...,\n",
       "       [0., 0., 0., ..., 0., 0., 0.],\n",
       "       [0., 0., 0., ..., 0., 0., 0.],\n",
       "       [0., 0., 0., ..., 0., 0., 0.]])"
      ]
     },
     "execution_count": 282,
     "metadata": {},
     "output_type": "execute_result"
    }
   ],
   "source": [
    "M"
   ]
  },
  {
   "cell_type": "code",
   "execution_count": 281,
   "id": "7596850e-266a-4e44-8407-c1a5289e48cb",
   "metadata": {},
   "outputs": [
    {
     "data": {
      "text/plain": [
       "(array([0., 0., 0., 0., 0., 0., 0., 0., 0., 0., 0., 0., 0., 0., 0., 0., 0.,\n",
       "        0., 0., 0., 0., 0., 0., 0., 0., 0., 0., 0., 0., 0., 0., 0., 0., 0.,\n",
       "        0., 0., 0., 0., 0., 0., 0., 0., 0., 0., 0., 0., 0., 0., 0., 0., 0.,\n",
       "        0., 0., 0., 0., 0., 0., 0., 0., 0., 0., 0., 0., 0., 0., 0., 0., 0.,\n",
       "        0., 0., 0., 0., 0., 0., 0., 0., 0., 0., 0., 0., 0., 0., 0., 0., 0.,\n",
       "        0., 0., 0., 0., 0., 0., 0., 0., 0., 0., 0., 0., 0., 0., 0., 0., 0.,\n",
       "        0., 0., 0., 0., 0., 0., 0., 0., 0., 0., 0., 0., 0., 0., 0., 0., 0.,\n",
       "        0., 0., 0., 0., 0., 0., 0., 0., 0., 0., 0., 0., 0., 0., 0., 0., 0.,\n",
       "        0., 0., 0., 0., 0., 0., 0., 0., 0., 0., 0., 0., 0., 0., 0., 0., 0.,\n",
       "        0., 0., 0., 0., 0., 0., 0., 0., 0., 0., 0., 0., 0., 0., 0., 0., 0.,\n",
       "        0., 0., 0., 0., 0., 0., 0., 0., 0., 0., 0., 0., 0., 0., 0., 0., 0.,\n",
       "        0., 0., 0., 0., 0., 0., 0., 0., 0., 0., 0.]),\n",
       " array([[1., 0., 0., ..., 0., 0., 0.],\n",
       "        [0., 1., 0., ..., 0., 0., 0.],\n",
       "        [0., 0., 1., ..., 0., 0., 0.],\n",
       "        ...,\n",
       "        [0., 0., 0., ..., 1., 0., 0.],\n",
       "        [0., 0., 0., ..., 0., 1., 0.],\n",
       "        [0., 0., 0., ..., 0., 0., 1.]]))"
      ]
     },
     "execution_count": 281,
     "metadata": {},
     "output_type": "execute_result"
    }
   ],
   "source": [
    "np.linalg.eig(M)"
   ]
  },
  {
   "cell_type": "code",
   "execution_count": 321,
   "id": "b18a9539-dd0f-461d-a3b3-08959e7fb51c",
   "metadata": {},
   "outputs": [],
   "source": [
    "# check error bounds on subsetting for gradient approximation\n",
    "# eigenvalues/vectors of M\n",
    "# try M^2, M^3, ...\n",
    "# text datasets"
   ]
  },
  {
   "cell_type": "code",
   "execution_count": null,
   "id": "d18bd6a1-6187-481c-b54e-cac8fe2044f7",
   "metadata": {},
   "outputs": [],
   "source": []
  }
 ],
 "metadata": {
  "kernelspec": {
   "display_name": "py39",
   "language": "python",
   "name": "py39"
  },
  "language_info": {
   "codemirror_mode": {
    "name": "ipython",
    "version": 3
   },
   "file_extension": ".py",
   "mimetype": "text/x-python",
   "name": "python",
   "nbconvert_exporter": "python",
   "pygments_lexer": "ipython3",
   "version": "3.9.7"
  }
 },
 "nbformat": 4,
 "nbformat_minor": 5
}
