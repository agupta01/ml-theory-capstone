{
 "cells": [
  {
   "cell_type": "code",
   "execution_count": 1,
   "id": "e57dc68f-ed8e-4a6a-b95e-5705cd61ad68",
   "metadata": {},
   "outputs": [],
   "source": [
    "import numpy as np\n",
    "import matplotlib.pyplot as plt"
   ]
  },
  {
   "cell_type": "code",
   "execution_count": 32,
   "id": "48191093-f6be-452d-a1f3-5742a92f6404",
   "metadata": {},
   "outputs": [],
   "source": [
    "n = 100\n",
    "d = 5\n",
    "split_size = 0.2 # proportion of datapoints for test set\n",
    "\n",
    "f = lambda x: (5*(x[0]**3)) + (2*(x[1]**2)) + (0.07*x[2])\n",
    "\n",
    "X_train = np.random.normal(size=(int(n*(1-split_size)),d))\n",
    "X_test = np.random.normal(size=(int(n*split_size),d))\n",
    "y_train = np.array([f(x) for x in X_train])\n",
    "y_test = np.array([f(x) for x in X_test])"
   ]
  },
  {
   "cell_type": "code",
   "execution_count": 33,
   "id": "c0e93085-75ef-472a-9779-5be1b1912574",
   "metadata": {},
   "outputs": [
    {
     "data": {
      "text/plain": [
       "((80, 5), (20, 5), (80,), (20,))"
      ]
     },
     "execution_count": 33,
     "metadata": {},
     "output_type": "execute_result"
    }
   ],
   "source": [
    "X_train.shape, X_test.shape, y_train.shape, y_test.shape"
   ]
  },
  {
   "cell_type": "code",
   "execution_count": 34,
   "id": "c5207c22-fcc5-4f9d-a031-468a7b25b566",
   "metadata": {},
   "outputs": [
    {
     "data": {
      "text/plain": [
       "array([-0.30965703, -0.13007185, -1.4235946 ,  1.37669383,  0.81963767])"
      ]
     },
     "execution_count": 34,
     "metadata": {},
     "output_type": "execute_result"
    }
   ],
   "source": [
    "X_train[0]"
   ]
  },
  {
   "cell_type": "code",
   "execution_count": 35,
   "id": "cc8319c4-159f-4915-a785-ef4ebd48e595",
   "metadata": {},
   "outputs": [
    {
     "data": {
      "text/plain": [
       "-0.21427540189820649"
      ]
     },
     "execution_count": 35,
     "metadata": {},
     "output_type": "execute_result"
    }
   ],
   "source": [
    "y_train[0]"
   ]
  },
  {
   "cell_type": "code",
   "execution_count": 36,
   "id": "b0e733be-6a59-49a6-a686-005dcd130fdd",
   "metadata": {},
   "outputs": [],
   "source": [
    "def mnorm(x, z, M, squared=True): # (n, d), (m,d), (d,d) --> (n, m)\n",
    "    # implements |x-z|_M^2 between pairs from x and z\n",
    "    x_norm = ((x @ M)*x).sum(axis=1, keepdims=True)\n",
    "    if x is z:\n",
    "        z_norm = x_norm\n",
    "    else:\n",
    "        z_norm = ((z @ M)*z).sum(axis=1, keepdims=True)\n",
    "    distances = (x @ (M @ z.T)*-2) + x_norm + z_norm\n",
    "    if not squared:\n",
    "        distances = np.sqrt(np.clip(distances, 0, np.inf))\n",
    "    return distances"
   ]
  },
  {
   "cell_type": "code",
   "execution_count": 37,
   "id": "9aaaa4c9-9079-4c66-a402-ea07a1ff0f99",
   "metadata": {},
   "outputs": [
    {
     "data": {
      "text/plain": [
       "array([[0.00000000e+00, 3.46607522e+00, 3.68134523e+00, ...,\n",
       "        3.12129150e+00, 3.22020531e+00, 3.43684025e+00],\n",
       "       [2.69187468e+00, 0.00000000e+00, 1.56598268e+00, ...,\n",
       "        3.05071451e+00, 2.29835476e+00, 1.91273045e+00],\n",
       "       [3.67052166e+00, 2.67211836e+00, 0.00000000e+00, ...,\n",
       "        2.98013122e+00, 2.16192921e+00, 2.32477101e+00],\n",
       "       ...,\n",
       "       [2.88486949e+00, 3.55729653e+00, 2.74604568e+00, ...,\n",
       "        0.00000000e+00, 1.88013035e+00, 2.47795805e+00],\n",
       "       [2.68967409e+00, 2.62955267e+00, 1.27205967e+00, ...,\n",
       "        1.34888963e+00, 0.00000000e+00, 1.72006402e+00],\n",
       "       [2.53846481e+00, 1.74870199e+00, 3.40685129e-01, ...,\n",
       "        1.48060710e+00, 8.52014355e-01, 2.98023224e-08]])"
      ]
     },
     "execution_count": 37,
     "metadata": {},
     "output_type": "execute_result"
    }
   ],
   "source": [
    "M = np.eye(d)\n",
    "\n",
    "mnorm(X_train, X_train, M, squared=False)"
   ]
  },
  {
   "cell_type": "code",
   "execution_count": 42,
   "id": "8a8df5a9-6884-4205-89ec-f8386280b63f",
   "metadata": {},
   "outputs": [],
   "source": [
    "def K_M(x, z, M, L):\n",
    "    pairwise_distances = mnorm(x, z, M, squared=False)\n",
    "    pairwise_distances = np.clip(pairwise_distances, 0, np.inf)\n",
    "    return np.exp(pairwise_distances * -(1/L))\n",
    "\n",
    "def grad_laplace_mat(x, z, M, L): # (n, d), (m, d), (d, d) --> (n, m, d)\n",
    "    nm_factor = np.where(\n",
    "        mnorm(x, z, M) < 1e-4, 0, K_M(x, z, M, L)/mnorm(x, z, M, squared=False)/L)\n",
    "    np.fill_diagonal(nm_factor, 0.)\n",
    "    return ((z @ M) - (x @ M)[:,None,:]) * nm_factor[:,:,None]"
   ]
  },
  {
   "cell_type": "code",
   "execution_count": 49,
   "id": "6e8ba7dd-5960-4662-ab86-28b75814926c",
   "metadata": {
    "tags": []
   },
   "outputs": [
    {
     "name": "stderr",
     "output_type": "stream",
     "text": [
      "/var/folders/mc/421h_39x625fpy09_jss5vrh0000gn/T/ipykernel_79221/511340249.py:8: RuntimeWarning: divide by zero encountered in true_divide\n",
      "  mnorm(x, z, M) < 1e-4, 0, K_M(x, z, M, L)/mnorm(x, z, M, squared=False)/L)\n"
     ]
    }
   ],
   "source": [
    "T = 5\n",
    "L = 10\n",
    "M = np.eye(d)\n",
    "\n",
    "for t in range(T):\n",
    "    K_train = K_M(X_train, X_train, M, L=L)\n",
    "    alpha = np.linalg.solve(K_train, y_train)\n",
    "    grad = grad_laplace_mat(X_train, X_train, M, L=L)\n",
    "    M = np.mean(np.swapaxes(grad, 1, 2) @ grad, axis=0)"
   ]
  },
  {
   "cell_type": "code",
   "execution_count": 50,
   "id": "2312ce9b-6ca4-49db-8ed0-5a46e791658b",
   "metadata": {},
   "outputs": [
    {
     "data": {
      "text/plain": [
       "<matplotlib.colorbar.Colorbar at 0x7fdd5d9e1490>"
      ]
     },
     "execution_count": 50,
     "metadata": {},
     "output_type": "execute_result"
    },
    {
     "data": {
      "image/png": "[encoded data removed]",
      "text/plain": [
       "<Figure size 432x288 with 2 Axes>"
      ]
     },
     "metadata": {
      "needs_background": "light"
     },
     "output_type": "display_data"
    }
   ],
   "source": [
    "plt.imshow(M)\n",
    "plt.colorbar()"
   ]
  },
  {
   "cell_type": "code",
   "execution_count": null,
   "id": "40a7d947-afd6-49ce-a986-290fd727104d",
   "metadata": {},
   "outputs": [],
   "source": []
  },
  {
   "cell_type": "code",
   "execution_count": null,
   "id": "afd92fba-254e-4b6e-a083-3a739adf1a9b",
   "metadata": {},
   "outputs": [],
   "source": []
  }
 ],
 "metadata": {
  "kernelspec": {
   "display_name": "py39",
   "language": "python",
   "name": "py39"
  },
  "language_info": {
   "codemirror_mode": {
    "name": "ipython",
    "version": 3
   },
   "file_extension": ".py",
   "mimetype": "text/x-python",
   "name": "python",
   "nbconvert_exporter": "python",
   "pygments_lexer": "ipython3",
   "version": "3.9.7"
  }
 },
 "nbformat": 4,
 "nbformat_minor": 5
}
