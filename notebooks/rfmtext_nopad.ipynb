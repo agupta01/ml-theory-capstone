{
 "cells": [
  {
   "cell_type": "code",
   "execution_count": 1,
   "id": "00db8ab1",
   "metadata": {},
   "outputs": [],
   "source": [
    "%load_ext autoreload\n",
    "\n",
    "%autoreload 2"
   ]
  },
  {
   "cell_type": "code",
   "execution_count": 3,
   "id": "21ec3b15-eb00-4843-a273-6b873ac7ee95",
   "metadata": {},
   "outputs": [],
   "source": [
    "import os\n",
    "import logging\n",
    "\n",
    "logger = logging.getLogger(__name__)\n",
    "logging.basicConfig(\n",
    "    level=logging.INFO,\n",
    "    format=\"%(asctime)s [%(levelname)s] \\t %(message)s\",\n",
    "    datefmt=\"%b %d %Y %I:%M%p\",\n",
    ")\n",
    "\n",
    "os.chdir(\"../\")"
   ]
  },
  {
   "cell_type": "code",
   "execution_count": 147,
   "id": "79054d04",
   "metadata": {},
   "outputs": [],
   "source": [
    "from src import etl, utils\n",
    "from src.rfm import *\n",
    "import numpy as np\n",
    "import matplotlib.pyplot as plt"
   ]
  },
  {
   "cell_type": "code",
   "execution_count": 6,
   "id": "b452015f",
   "metadata": {},
   "outputs": [
    {
     "name": "stderr",
     "output_type": "stream",
     "text": [
      "Feb 22 2023 01:44AM [INFO] \t test\n"
     ]
    }
   ],
   "source": [
    "logger.info(\"test\")"
   ]
  },
  {
   "cell_type": "code",
   "execution_count": 7,
   "id": "64b75639",
   "metadata": {},
   "outputs": [
    {
     "data": {
      "text/plain": [
       "'/home/arunavgupta/Documents/UCSD/ml-theory-capstone'"
      ]
     },
     "execution_count": 7,
     "metadata": {},
     "output_type": "execute_result"
    }
   ],
   "source": [
    "# get current directory\n",
    "os.getcwd()"
   ]
  },
  {
   "cell_type": "code",
   "execution_count": 8,
   "id": "b0acc980",
   "metadata": {},
   "outputs": [
    {
     "data": {
      "text/plain": [
       "['https://www.gutenberg.org/cache/epub/1533/pg1533-images.html',\n",
       " 'https://www.gutenberg.org/cache/epub/27761/pg27761-images.html',\n",
       " 'https://www.gutenberg.org/cache/epub/1112/pg1112.html',\n",
       " 'https://www.gutenberg.org/cache/epub/1514/pg1514-images.html',\n",
       " 'https://www.gutenberg.org/cache/epub/1531/pg1531-images.html',\n",
       " 'https://www.gutenberg.org/cache/epub/2264/pg2264.html',\n",
       " 'https://www.gutenberg.org/cache/epub/1522/pg1522-images.html',\n",
       " 'https://www.gutenberg.org/cache/epub/1515/pg1515-images.html']"
      ]
     },
     "execution_count": 8,
     "metadata": {},
     "output_type": "execute_result"
    }
   ],
   "source": [
    "# get all urls to make all datasets\n",
    "import re\n",
    "\n",
    "def clean_url(x):\n",
    "    search = re.findall(r'\"(.*?)\"', x)\n",
    "    if search:\n",
    "        return search[0]\n",
    "    else:\n",
    "        return \"\"\n",
    "\n",
    "urls = list(filter(lambda x: len(x) > 0, map(clean_url, open(\"./src/urls.txt\", \"r\").readlines())))\n",
    "\n",
    "urls"
   ]
  },
  {
   "cell_type": "code",
   "execution_count": 9,
   "id": "d424ee5f",
   "metadata": {},
   "outputs": [
    {
     "name": "stdout",
     "output_type": "stream",
     "text": [
      "Dataset already downloaded: download_log -> 6157ee4b54ae1a9c39fa52c057f5dfbd80554c634644ba4fc805528bf36a68f7\n",
      "Dataset successfully downloaded\n",
      "Dataset successfully downloaded\n",
      "Dataset successfully downloaded\n",
      "Dataset successfully downloaded\n",
      "Dataset successfully downloaded\n",
      "Dataset successfully downloaded\n",
      "Dataset successfully downloaded\n"
     ]
    },
    {
     "data": {
      "text/plain": [
       "True"
      ]
     },
     "execution_count": 9,
     "metadata": {},
     "output_type": "execute_result"
    }
   ],
   "source": [
    "etl.make_all_datasets(urls)"
   ]
  },
  {
   "cell_type": "code",
   "execution_count": 95,
   "id": "985daf68",
   "metadata": {},
   "outputs": [
    {
     "name": "stderr",
     "output_type": "stream",
     "text": [
      "Feb 22 2023 02:07AM [INFO] \t Unknown characters: {91, 93}\n",
      "Feb 22 2023 02:07AM [INFO] \t Unknown characters: {91, 93}\n",
      "Feb 22 2023 02:07AM [INFO] \t Unknown characters: {91, 93}\n",
      "Feb 22 2023 02:07AM [INFO] \t Unknown characters: {64, 34, 37, 39, 42, 47, 91, 93}\n",
      "Feb 22 2023 02:07AM [INFO] \t Unknown characters: {91, 93}\n",
      "Feb 22 2023 02:07AM [INFO] \t Unknown characters: {91, 93}\n",
      "Feb 22 2023 02:07AM [INFO] \t Unknown characters: {34, 91, 93, 39}\n",
      "Feb 22 2023 02:08AM [INFO] \t Unknown characters: {39, 42, 91, 60, 93}\n"
     ]
    }
   ],
   "source": [
    "corpus = etl.generate_corpus()"
   ]
  },
  {
   "cell_type": "code",
   "execution_count": 96,
   "id": "695e618a",
   "metadata": {},
   "outputs": [],
   "source": [
    "vocab = etl.build_vocab()"
   ]
  },
  {
   "cell_type": "code",
   "execution_count": 97,
   "id": "7068d94b",
   "metadata": {},
   "outputs": [],
   "source": [
    "reverse_vocab = {i: v for v, i in vocab.items()}"
   ]
  },
  {
   "cell_type": "code",
   "execution_count": 98,
   "id": "c93b1b33",
   "metadata": {},
   "outputs": [],
   "source": [
    "def decode(X):\n",
    "    \"\"\"Decodes a (N, context_size, vocab_size) array of one-hot vectors into a list of words.)\"\"\"\n",
    "    return [[reverse_vocab[np.argmax(x)] for x in sentence] for sentence in X]"
   ]
  },
  {
   "cell_type": "code",
   "execution_count": 99,
   "id": "b94cb494",
   "metadata": {},
   "outputs": [],
   "source": [
    "decoded_corpus = decode(corpus)"
   ]
  },
  {
   "cell_type": "code",
   "execution_count": 100,
   "id": "dc99c464-0fd7-48b8-9397-3f466bef2d3a",
   "metadata": {},
   "outputs": [
    {
     "data": {
      "text/plain": [
       "(3576, 64, 50)"
      ]
     },
     "execution_count": 100,
     "metadata": {},
     "output_type": "execute_result"
    }
   ],
   "source": [
    "corpus.shape"
   ]
  },
  {
   "cell_type": "code",
   "execution_count": 101,
   "id": "4a01fb30-cc58-4bdd-aed0-f6d291d2db54",
   "metadata": {},
   "outputs": [],
   "source": [
    "corpus = corpus.reshape(-1, len(vocab)*64)"
   ]
  },
  {
   "cell_type": "markdown",
   "id": "cdd63c49",
   "metadata": {},
   "source": [
    "## Baseline: Bigrams/Trigrams"
   ]
  },
  {
   "cell_type": "code",
   "execution_count": 102,
   "id": "7b508729",
   "metadata": {},
   "outputs": [],
   "source": [
    "from nltk.util import bigrams, trigrams, pad_sequence\n",
    "from nltk.lm.preprocessing import padded_everygram_pipeline, flatten\n",
    "from nltk.lm import MLE"
   ]
  },
  {
   "cell_type": "code",
   "execution_count": 103,
   "id": "80099fc2",
   "metadata": {},
   "outputs": [],
   "source": [
    "CONTEXT_SIZE = 64\n",
    "TEST_SPLIT = 0.2"
   ]
  },
  {
   "cell_type": "code",
   "execution_count": 104,
   "id": "d5bf6238",
   "metadata": {},
   "outputs": [],
   "source": [
    "train_corpus = np.array(decoded_corpus[: int(len(decoded_corpus) * (1 - TEST_SPLIT))])\n",
    "test_corpus = np.array(decoded_corpus[int(len(decoded_corpus) * (1 - TEST_SPLIT)) :])"
   ]
  },
  {
   "cell_type": "code",
   "execution_count": 105,
   "id": "c5931321",
   "metadata": {},
   "outputs": [
    {
     "data": {
      "text/plain": [
       "(2860, 716)"
      ]
     },
     "execution_count": 105,
     "metadata": {},
     "output_type": "execute_result"
    }
   ],
   "source": [
    "len(train_corpus), len(test_corpus)"
   ]
  },
  {
   "cell_type": "code",
   "execution_count": 106,
   "id": "85d6e7de",
   "metadata": {},
   "outputs": [],
   "source": [
    "# shop the dataset in 3/4 - 1/4 split. The 3/4 will be used to conditionally generate the 1/4\n",
    "CONTEXT_SPLIT_SIZE = int(3/4 * CONTEXT_SIZE)\n",
    "X_train = train_corpus[:, :CONTEXT_SPLIT_SIZE]\n",
    "y_train = train_corpus[:, CONTEXT_SPLIT_SIZE:]\n",
    "X_test = test_corpus[:, :CONTEXT_SPLIT_SIZE]\n",
    "y_test = test_corpus[:, CONTEXT_SPLIT_SIZE:]"
   ]
  },
  {
   "cell_type": "code",
   "execution_count": 107,
   "id": "2e9332fb",
   "metadata": {},
   "outputs": [
    {
     "data": {
      "text/plain": [
       "(594,)"
      ]
     },
     "execution_count": 107,
     "metadata": {},
     "output_type": "execute_result"
    }
   ],
   "source": [
    "np.where(X_train.flatten() == \"<UNK>\")[0].shape"
   ]
  },
  {
   "cell_type": "code",
   "execution_count": 108,
   "id": "23160adf",
   "metadata": {
    "tags": []
   },
   "outputs": [],
   "source": [
    "# get ngrams\n",
    "ngrams = []\n",
    "for sent in X_train:\n",
    "    ngrams.append(list(bigrams(sent)))\n"
   ]
  },
  {
   "cell_type": "code",
   "execution_count": 109,
   "id": "c10287a2",
   "metadata": {},
   "outputs": [],
   "source": [
    "lm = MLE(3)\n",
    "lm.fit(ngrams, vocab)"
   ]
  },
  {
   "cell_type": "code",
   "execution_count": 110,
   "id": "28dae843",
   "metadata": {},
   "outputs": [
    {
     "data": {
      "text/plain": [
       "array([['a', 'c', 't', ' ', 'i', 's', 'c', 'e', 'n', 'e', ' ', 'i', '.',\n",
       "        'a', 't', 'h', 'e', 'n', 's', '.', ' ', 'a', ' ', 'r', 'o', 'o',\n",
       "        'm', ' ', 'i', 'n', ' ', 't', 'h', 'e', ' ', 'p', 'a', 'l', 'a',\n",
       "        'c', 'e', ' ', 'o', 'f', ' ', 't', 'h', 'e'],\n",
       "       ['t', 'h', 'e', 's', 'e', 'u', 's', ',', ' ', 'd', 'u', 'k', 'e',\n",
       "        ' ', 'o', 'f', ' ', 'a', 't', 'h', 'e', 'n', 's', 'h', 'i', 'p',\n",
       "        'p', 'o', 'l', 'y', 't', 'a', ',', ' ', 'q', 'u', 'e', 'e', 'n',\n",
       "        ' ', 'o', 'f', ' ', 't', 'h', 'e', ' ', 'a'],\n",
       "       ['t', 'h', 'e', 's', 'e', 'u', 's', '.', 'n', 'o', 'w', ',', ' ',\n",
       "        'f', 'a', 'i', 'r', ' ', 'h', 'i', 'p', 'p', 'o', 'l', 'y', 't',\n",
       "        'a', ',', ' ', 'o', 'u', 'r', ' ', 'n', 'u', 'p', 't', 'i', 'a',\n",
       "        'l', ' ', 'h', 'o', 'u', 'r', 'd', 'r', 'a'],\n",
       "       ['h', 'i', 'p', 'p', 'o', 'l', 'y', 't', 'a', '.', 'f', 'o', 'u',\n",
       "        'r', ' ', 'd', 'a', 'y', 's', ' ', 'w', 'i', 'l', 'l', ' ', 'q',\n",
       "        'u', 'i', 'c', 'k', 'l', 'y', ' ', 's', 't', 'e', 'e', 'p', ' ',\n",
       "        't', 'h', 'e', 'm', 's', 'e', 'l', 'v', 'e'],\n",
       "       ['t', 'h', 'e', 's', 'e', 'u', 's', '.', 'g', 'o', ',', ' ', 'p',\n",
       "        'h', 'i', 'l', 'o', 's', 't', 'r', 'a', 't', 'e', ',', 's', 't',\n",
       "        'i', 'r', ' ', 'u', 'p', ' ', 't', 'h', 'e', ' ', 'a', 't', 'h',\n",
       "        'e', 'n', 'i', 'a', 'n', ' ', 'y', 'o', 'u'],\n",
       "       ['h', 'i', 'p', 'p', 'o', 'l', 'y', 't', 'a', ',', ' ', 'i', ' ',\n",
       "        'w', 'o', 'o', '’', 'd', 't', 'h', 'e', 'e', ' ', 'w', 'i', 't',\n",
       "        'h', ' ', 'm', 'y', ' ', 's', 'w', 'o', 'r', 'd', ',', 'a', 'n',\n",
       "        'd', ' ', 'w', 'o', 'n', ' ', 't', 'h', 'y'],\n",
       "       ['e', 'g', 'e', 'u', 's', '.', 'f', 'u', 'l', 'l', ' ', 'o', 'f',\n",
       "        ' ', 'v', 'e', 'x', 'a', 't', 'i', 'o', 'n', ' ', 'c', 'o', 'm',\n",
       "        'e', ' ', 'i', ',', ' ', 'w', 'i', 't', 'h', ' ', 'c', 'o', 'm',\n",
       "        'p', 'l', 'a', 'i', 'n', 't', 'a', 'g', 'a'],\n",
       "       ['t', 'h', 'e', 's', 'e', 'u', 's', '.', 'w', 'h', 'a', 't', ' ',\n",
       "        's', 'a', 'y', ' ', 'y', 'o', 'u', ',', ' ', 'h', 'e', 'r', 'm',\n",
       "        'i', 'a', '?', ' ', 'b', 'e', ' ', 'a', 'd', 'v', 'i', 's', '’',\n",
       "        'd', ',', ' ', 'f', 'a', 'i', 'r', ' ', 'm'],\n",
       "       ['t', 'h', 'e', 's', 'e', 'u', 's', '.', 'i', 'n', ' ', 'h', 'i',\n",
       "        'm', 's', 'e', 'l', 'f', ' ', 'h', 'e', ' ', 'i', 's', '.', 'b',\n",
       "        'u', 't', ' ', 'i', 'n', ' ', 't', 'h', 'i', 's', ' ', 'k', 'i',\n",
       "        'n', 'd', ',', ' ', 'w', 'a', 'n', 't', 'i'],\n",
       "       ['h', 'e', 'r', 'm', 'i', 'a', '.', 'i', ' ', 'd', 'o', ' ', 'e',\n",
       "        'n', 't', 'r', 'e', 'a', 't', ' ', 'y', 'o', 'u', 'r', ' ', 'g',\n",
       "        'r', 'a', 'c', 'e', ' ', 't', 'o', ' ', 'p', 'a', 'r', 'd', 'o',\n",
       "        'n', ' ', 'm', 'e', '.', 'i', ' ', 'k', 'n']], dtype='<U5')"
      ]
     },
     "execution_count": 110,
     "metadata": {},
     "output_type": "execute_result"
    }
   ],
   "source": [
    "X_train[:10]"
   ]
  },
  {
   "cell_type": "code",
   "execution_count": 111,
   "id": "db060ab9",
   "metadata": {},
   "outputs": [],
   "source": [
    "def generate_text(lm, X_test, length=CONTEXT_SIZE-CONTEXT_SPLIT_SIZE):\n",
    "    # generate text\n",
    "    text = []\n",
    "    for sent in X_test:\n",
    "        text.append(lm.generate(length, text_seed=sent))\n",
    "    return text"
   ]
  },
  {
   "cell_type": "code",
   "execution_count": 112,
   "id": "818726d0",
   "metadata": {},
   "outputs": [
    {
     "data": {
      "text/plain": [
       "(716, 16)"
      ]
     },
     "execution_count": 112,
     "metadata": {},
     "output_type": "execute_result"
    }
   ],
   "source": [
    "y_test.shape"
   ]
  },
  {
   "cell_type": "code",
   "execution_count": 113,
   "id": "f728b543",
   "metadata": {},
   "outputs": [],
   "source": [
    "y_test_pred = np.array(generate_text(lm, X_test))"
   ]
  },
  {
   "cell_type": "code",
   "execution_count": 114,
   "id": "9b633e70",
   "metadata": {},
   "outputs": [
    {
     "data": {
      "text/plain": [
       "('rrowed from the ', 'crmoyoom?<UNK>y<UNK>fohe')"
      ]
     },
     "execution_count": 114,
     "metadata": {},
     "output_type": "execute_result"
    }
   ],
   "source": [
    "\"\".join(y_test[0]), \"\".join(y_test_pred[0])"
   ]
  },
  {
   "cell_type": "code",
   "execution_count": 115,
   "id": "480bbe12",
   "metadata": {},
   "outputs": [
    {
     "data": {
      "text/plain": [
       "'<UNK>'"
      ]
     },
     "execution_count": 115,
     "metadata": {},
     "output_type": "execute_result"
    }
   ],
   "source": [
    "lm.vocab.unk_label"
   ]
  },
  {
   "cell_type": "code",
   "execution_count": 116,
   "id": "81e70f03",
   "metadata": {},
   "outputs": [],
   "source": [
    "class Vocab():\n",
    "    def __init__(self, vals):\n",
    "        self._dict = {v: i for i, v in enumerate(vals)}\n",
    "        self._dict['<UNK>'] = len(self._dict)\n",
    "        self.rev = {i: v for v, i in self._dict.items()}\n",
    "    \n",
    "    def __getitem__(self, key):\n",
    "        if key in self._dict:\n",
    "            return self._dict[key]\n",
    "        else:\n",
    "            return self._dict['<UNK>']\n",
    "    \n",
    "    def __len__(self):\n",
    "        return len(self._dict)\n",
    "    \n",
    "    def __iter__(self):\n",
    "        return iter(self._dict)\n",
    "    \n",
    "    def __contains__(self, key):\n",
    "        return key in self._dict\n",
    "    \n",
    "    def __repr__(self):\n",
    "        return f\"{self.__class__.__name__}({self._dict})\"\n",
    "    \n",
    "    def decode(self, idx):\n",
    "        return self.rev[idx]"
   ]
  },
  {
   "cell_type": "code",
   "execution_count": 117,
   "id": "4f54cc8d",
   "metadata": {},
   "outputs": [
    {
     "data": {
      "text/plain": [
       "Vocab({' ': 0, '!': 1, '&': 2, '(': 3, ')': 4, ',': 5, '-': 6, '.': 7, '0': 8, '1': 9, '2': 10, '3': 11, '4': 12, '5': 13, '6': 14, '7': 15, '8': 16, '9': 17, ':': 18, ';': 19, '<UNK>': 50, '?': 21, '_': 22, 'a': 23, 'b': 24, 'c': 25, 'd': 26, 'e': 27, 'f': 28, 'g': 29, 'h': 30, 'i': 31, 'j': 32, 'k': 33, 'l': 34, 'm': 35, 'n': 36, 'o': 37, 'p': 38, 'q': 39, 'r': 40, 's': 41, 't': 42, 'u': 43, 'v': 44, 'w': 45, 'x': 46, 'y': 47, 'z': 48, '’': 49})"
      ]
     },
     "execution_count": 117,
     "metadata": {},
     "output_type": "execute_result"
    }
   ],
   "source": [
    "train_vocab = Vocab(list(sorted(lm.vocab.counts.keys())))\n",
    "train_vocab"
   ]
  },
  {
   "cell_type": "code",
   "execution_count": 205,
   "id": "ee8f8318",
   "metadata": {},
   "outputs": [],
   "source": [
    "def encode(sent, vocab=train_vocab):\n",
    "    return np.array([vocab[w] for w in sent])\n",
    "\n",
    "def evaluate(y_test, y_test_pred):\n",
    "    # evaluate\n",
    "    bleu = []\n",
    "    perplexity = []\n",
    "    for i in range(len(y_test)):\n",
    "        bleu.append(utils.bleu_score([y_test[i]], y_test_pred[i], n=2))\n",
    "        perplexity.append(utils.perplexity(encode(y_test_pred[i])))\n",
    "    return { \"bleu2\": np.mean(bleu), \"perplexity\": np.mean(perplexity) }"
   ]
  },
  {
   "cell_type": "code",
   "execution_count": 119,
   "id": "d2816e0a",
   "metadata": {},
   "outputs": [
    {
     "data": {
      "text/plain": [
       "['crmoyoom?<UNK>y<UNK>fohe',\n",
       " 'men.ouon<UNK>k<UNK>t<UNK>aro',\n",
       " 'rinathoutre<UNK>t<UNK>ci',\n",
       " 'e?isaghthin.<UNK>yoo',\n",
       " 'ryo,<UNK>t<UNK>onet<UNK>s.ir',\n",
       " 'bethat<UNK>tyobyolil',\n",
       " 'r,<UNK>whtwne<UNK>hioch.',\n",
       " 'ir<UNK>d<UNK>rous<UNK>f<UNK>ipru',\n",
       " 'noketr<UNK>.thi<UNK>bu<UNK>s',\n",
       " ',<UNK>en.inderthine<UNK>',\n",
       " 'emi.<UNK>te’sh<UNK>cd<UNK>ig',\n",
       " '<UNK>y<UNK>lomare<UNK>poff<UNK>s',\n",
       " 'nt<UNK>gis<UNK>ld<UNK>acllon',\n",
       " 'antusid,<UNK>thinqun',\n",
       " 'huni<UNK>leraw<UNK><UNK>weco',\n",
       " '<UNK>i<UNK>ckncalle<UNK>ju,i',\n",
       " 'hourau<UNK>he,<UNK>hele<UNK>',\n",
       " 'her<UNK><UNK>msde<UNK>kenn<UNK>b',\n",
       " 'r<UNK>thi.my<UNK>ckishyo',\n",
       " 'n,<UNK>thenit,<UNK>ii<UNK>te',\n",
       " 'veentrs<UNK>bu<UNK>ied<UNK>w',\n",
       " 't<UNK>os,<UNK>belo<UNK>tu<UNK>pp',\n",
       " 'o<UNK>mernon<UNK>nigrer<UNK>',\n",
       " '<UNK>n<UNK>luin.<UNK>gotompy',\n",
       " 'qu<UNK>tutheticard<UNK>w',\n",
       " 'pindin<UNK>by<UNK>ndimu<UNK>',\n",
       " 'ntre<UNK>ou,<UNK>ertofo<UNK>',\n",
       " 'ng<UNK>n<UNK>adoy?<UNK>whi<UNK>m',\n",
       " 'ee<UNK>qu<UNK>rano.borve',\n",
       " '<UNK>benico<UNK>p<UNK>be<UNK>tht',\n",
       " 'y,<UNK>myoanithey<UNK>g!',\n",
       " '3.<UNK>the<UNK>dd:<UNK>cofow',\n",
       " 'o,why?<UNK>th,<UNK>nds<UNK>s',\n",
       " 'larasi<UNK>fosen,<UNK>ca',\n",
       " 'the<UNK>whithatitos.',\n",
       " '<UNK>hems<UNK>k<UNK>ll<UNK>an<UNK>bo',\n",
       " 'dent<UNK>nckno<UNK>im<UNK>fa',\n",
       " '<UNK>beng<UNK>whanon<UNK>tho',\n",
       " 'eranghen<UNK>s<UNK>honan',\n",
       " 'onu<UNK><UNK>chy<UNK>thatien',\n",
       " 'ggrut<UNK>yo<UNK>rtheuss',\n",
       " 'oun<UNK>pthofit<UNK>migg',\n",
       " 'r,iscot,<UNK>hint,<UNK>d',\n",
       " 'ito.l<UNK>ut<UNK>agowes<UNK>',\n",
       " 's<UNK>h<UNK>i<UNK>acerthieal',\n",
       " 'ssorontllm.aucke',\n",
       " 'e<UNK>anino.sen<UNK>we<UNK><UNK>',\n",
       " 'theethor<UNK>bames<UNK>w',\n",
       " 't<UNK>ue:ly<UNK>tcoki<UNK>ts',\n",
       " 'e<UNK>y<UNK>s<UNK><UNK>dke<UNK>d<UNK>an.',\n",
       " 'pi.w<UNK>l<UNK>d.<UNK>m<UNK>izon',\n",
       " 'ngr:<UNK>s<UNK>ppet<UNK>goom',\n",
       " 't<UNK><UNK>sos<UNK><UNK>k.iaitif',\n",
       " 'e<UNK>ge<UNK>th<UNK>o<UNK>wor<UNK>nt',\n",
       " 'thaci.<UNK>a<UNK>howis.n',\n",
       " '.sissot<UNK>tetrur<UNK>t',\n",
       " 'hiurd,<UNK>goryl<UNK>har',\n",
       " 'ubr?<UNK>merist<UNK>ithi',\n",
       " 'thian<UNK>i<UNK>bryomyou',\n",
       " 'ozome.nlthesufe<UNK>',\n",
       " '<UNK>thofondy,aiford',\n",
       " 'fo<UNK>s<UNK>stomianela.',\n",
       " 're.i.pus,<UNK>i’tusp',\n",
       " '<UNK>il,<UNK>d<UNK>hexe<UNK>ther',\n",
       " 'of<UNK>iasthe<UNK>cif<UNK>fu',\n",
       " 'sinenene<UNK>lit<UNK>hea',\n",
       " '<UNK>mu<UNK>end<UNK>i<UNK>nth<UNK>re',\n",
       " 'aru<UNK>is<UNK>th<UNK>t<UNK>youn',\n",
       " '<UNK>tu<UNK>o<UNK>d<UNK>nt<UNK>temad',\n",
       " 'r<UNK>chirtede<UNK>llco,',\n",
       " ',<UNK>forabuthabr<UNK>an',\n",
       " 'benon<UNK>thoxthaco.',\n",
       " 'e<UNK>dy<UNK>s<UNK>ncin<UNK>kngo',\n",
       " 'er<UNK>nje<UNK>hes<UNK>he<UNK><UNK>t',\n",
       " 't.le<UNK>yst<UNK>ad<UNK>wisd',\n",
       " '<UNK>me<UNK>e,<UNK>iathal<UNK>ov',\n",
       " 'dentite<UNK>gotu<UNK>and',\n",
       " 's<UNK>we<UNK>isous,<UNK>gom;',\n",
       " 'shongou<UNK>st<UNK>thet<UNK>',\n",
       " 'und<UNK>foteat.<UNK>anon',\n",
       " 's<UNK>d<UNK>ilawof<UNK>outi.',\n",
       " 'iun,<UNK><UNK>a,<UNK>fea<UNK>f<UNK>g',\n",
       " '<UNK>toukivenoutothi',\n",
       " '<UNK>od<UNK><UNK>wo<UNK>i<UNK>be<UNK>bet',\n",
       " ':<UNK>aeesplan<UNK>ghest',\n",
       " 'ot<UNK>hauf<UNK>do.e<UNK>avo',\n",
       " 'adous<UNK>bergel’spa',\n",
       " 'erooomy<UNK>fe<UNK>the.<UNK>',\n",
       " 'n,<UNK>do<UNK>weu<UNK>y<UNK>thon',\n",
       " 't<UNK>hyom,<UNK>goul<UNK>thi',\n",
       " 'i<UNK>mak.tofrsm<UNK>t<UNK>d',\n",
       " '<UNK>rt<UNK>livachubus,<UNK>',\n",
       " 'helave<UNK>tu<UNK>ca<UNK>w<UNK>b',\n",
       " 'siaier<UNK>k’d.wass<UNK>',\n",
       " 'ndigot<UNK>out<UNK>tr,<UNK>t',\n",
       " 'nco<UNK>mi.ha<UNK>mushis',\n",
       " 'and<UNK>he<UNK>y<UNK>d<UNK>t<UNK>man',\n",
       " '<UNK>ustyotrul<UNK>meaur',\n",
       " '.,<UNK>blisi.whe.<UNK>o,',\n",
       " 'inq.thaco<UNK>ol,<UNK>h<UNK>',\n",
       " 'cboundock<UNK>akiay<UNK>',\n",
       " 'oders<UNK>y.iia<UNK>y<UNK>we',\n",
       " 'e<UNK>bess<UNK><UNK>wisious<UNK>',\n",
       " 'lo<UNK>whel<UNK>sit<UNK>levi',\n",
       " 'e<UNK>t<UNK>byonen<UNK>us<UNK>ti',\n",
       " '<UNK>s<UNK>’s<UNK>bel<UNK>donali',\n",
       " '<UNK>br.<UNK>hit.iuenon.',\n",
       " 'hou<UNK>onof<UNK>the<UNK>uty',\n",
       " 'e<UNK>hil<UNK>t<UNK>ngrin.ne',\n",
       " '<UNK>bbi<UNK>thy<UNK>he<UNK>art<UNK>',\n",
       " '<UNK>park<UNK>thy<UNK>y;<UNK>ecb',\n",
       " 'e<UNK>iu<UNK>g?woppore<UNK>m',\n",
       " ',<UNK>thelyedon<UNK>t<UNK>in',\n",
       " 'ite<UNK>cas:he<UNK>meela',\n",
       " 'obrus<UNK>lis,<UNK>heg,<UNK>',\n",
       " '<UNK>e<UNK>hia.<UNK>tor<UNK>hede',\n",
       " '<UNK>r<UNK>ior.<UNK>outhes<UNK>w',\n",
       " '.dusesou<UNK>che<UNK>mar',\n",
       " 'rainie<UNK>fa<UNK>caller',\n",
       " '<UNK>f<UNK>ay<UNK>qusis.inth',\n",
       " '<UNK>s<UNK>cothounicove,',\n",
       " '<UNK>uilllf<UNK>shicanqu',\n",
       " ',<UNK>o<UNK>seenesot<UNK>the',\n",
       " 'as<UNK>ngheretu<UNK><UNK>s<UNK>h',\n",
       " 'sul<UNK>a.ofaiaru;<UNK>m',\n",
       " '<UNK>dewile<UNK><UNK>ho.dose',\n",
       " 's<UNK>ders<UNK><UNK>nd<UNK>botig',\n",
       " 't<UNK><UNK>chy<UNK>fo<UNK>iret<UNK>t',\n",
       " 's<UNK>tond<UNK>ssearond<UNK>',\n",
       " 'st<UNK>sen<UNK>bo<UNK>thaces',\n",
       " 'nd<UNK>hesun<UNK>stht,ws',\n",
       " '<UNK>ta<UNK>s<UNK>cry<UNK>cl<UNK>trm',\n",
       " 'n<UNK>cothake!<UNK>durve',\n",
       " 'a.y<UNK>be<UNK>myrthatoj',\n",
       " 'ste<UNK>the<UNK>ipa<UNK>mo.m',\n",
       " 'llde<UNK>&co<UNK>by;is<UNK>w',\n",
       " 'hesnki<UNK>myt,<UNK>wias',\n",
       " 'ckng<UNK>ameere<UNK>heli',\n",
       " 'e<UNK>wo<UNK>bthyor<UNK>a.7p',\n",
       " '<UNK>aprenytangot<UNK>cb',\n",
       " 'anaganoulo<UNK>t,<UNK>wa',\n",
       " '<UNK>i<UNK>hyon;areaketo',\n",
       " 'onor,<UNK>mbe<UNK>te:lel',\n",
       " 'othe<UNK>manimy<UNK>mee<UNK>',\n",
       " '<UNK>ormaled<UNK>meadous',\n",
       " '<UNK>tate<UNK>mp!<UNK>shifol',\n",
       " 'deasifurs<UNK><UNK>heais',\n",
       " 'ty<UNK>brmou<UNK>ilet<UNK>te',\n",
       " 'se<UNK>bet<UNK>shours.t,',\n",
       " 'sert.1aca,<UNK>aceur',\n",
       " 'th<UNK>f<UNK>iet<UNK>atrthav',\n",
       " 'hond<UNK>yof<UNK>ouit<UNK>de',\n",
       " 't<UNK>g<UNK>hi<UNK>arthat<UNK>be',\n",
       " 'herst<UNK>hilllgrthe',\n",
       " 's<UNK>acd<UNK>ct<UNK>semati<UNK>',\n",
       " 'pese<UNK>wadougr<UNK>ser',\n",
       " 'orkidonowhank<UNK>gr',\n",
       " 'boutwhes<UNK>t<UNK>i<UNK>ors',\n",
       " '<UNK>andriosssigear<UNK>',\n",
       " 'f<UNK>to,<UNK>klla,a<UNK>mai',\n",
       " 'olen<UNK>d,<UNK>y<UNK>f<UNK>dech',\n",
       " 'coue<UNK>de<UNK>tthoowie',\n",
       " 's<UNK>pelo<UNK>thou<UNK>ad<UNK>e',\n",
       " '<UNK>habt<UNK>iss<UNK>iuer,<UNK>',\n",
       " 'ideay,<UNK>p<UNK>lld<UNK>w<UNK>f',\n",
       " ',<UNK>n<UNK>keetuthamaur',\n",
       " 'atuthas,<UNK>me<UNK>ut<UNK>f',\n",
       " '<UNK>ysdi.pyrdenenof',\n",
       " ',<UNK>po<UNK>matr<UNK>mevent',\n",
       " 'dio,<UNK>dtherert?<UNK>y',\n",
       " 'ndrntow,<UNK>i<UNK>istou',\n",
       " ',<UNK>cellorsof<UNK>utas',\n",
       " 'iuth,<UNK>aghensi.1<UNK>',\n",
       " 'r.<UNK>ursuti<UNK>gheore',\n",
       " 'nas<UNK>e?okeris<UNK>bl<UNK>',\n",
       " 'wrou<UNK>the,<UNK>nt<UNK>gou',\n",
       " '<UNK>a<UNK>ises<UNK>alosa<UNK>k.',\n",
       " '<UNK>s<UNK>wiorio<UNK>l<UNK>mein',\n",
       " 'nnosshyour<UNK>l,<UNK>bl',\n",
       " 'ayoro<UNK>y<UNK>fo,<UNK>asth',\n",
       " '<UNK>ifrore<UNK>cous<UNK>ghe',\n",
       " 'anoup<UNK>aroncken<UNK>h',\n",
       " 'for,th<UNK>anolothi<UNK>',\n",
       " 'ne<UNK>knthole<UNK>y<UNK>mat',\n",
       " 't<UNK>m.lur<UNK>nogayoug',\n",
       " 'ong<UNK><UNK>llo<UNK>in<UNK><UNK>t<UNK>m',\n",
       " 'oferer<UNK>me<UNK>the<UNK>im',\n",
       " 'bef<UNK>welinthace<UNK>c',\n",
       " '<UNK>ou<UNK>the,<UNK>nomeret',\n",
       " 'reanochanomodell',\n",
       " 'as<UNK>the.whin,<UNK>lll',\n",
       " 'mad<UNK>y<UNK>l<UNK>hauneter',\n",
       " '<UNK>conory<UNK>hinounce',\n",
       " '<UNK>at,<UNK>ty<UNK>therthow',\n",
       " 'cole;<UNK>me<UNK>ti<UNK>iale',\n",
       " 'i<UNK>y,thiceougho,<UNK>',\n",
       " 'llldus.h<UNK>is<UNK>hoys',\n",
       " '<UNK>mi<UNK>hat;<UNK>thary.p',\n",
       " 'besw<UNK>hiofisdocat',\n",
       " '<UNK>ssthaserd<UNK>d.lle',\n",
       " 'it.e’st!<UNK>ore<UNK>ise',\n",
       " 'ores<UNK>d<UNK>careamago',\n",
       " '.wiinortha.iewre',\n",
       " '<UNK>is<UNK>wothulo.<UNK>wer',\n",
       " 'nthyo.tondin<UNK>ta<UNK>',\n",
       " 'ile<UNK>tetouni<UNK>a<UNK>f<UNK>',\n",
       " '<UNK>eroreethanoures',\n",
       " '.ni<UNK>shayoyoo.o<UNK>t',\n",
       " 'oused<UNK>ntho.ishea',\n",
       " 'huby<UNK>sioperuothi',\n",
       " 'nas<UNK>ithanttho;<UNK>i',\n",
       " 'ruewisedemyocart',\n",
       " 'st<UNK>t<UNK>che<UNK>tre<UNK>y;’',\n",
       " 'hece<UNK>ig<UNK>alemay<UNK>s',\n",
       " 's<UNK>veterepansis:<UNK>',\n",
       " 'ous.imllo<UNK>ols<UNK>ts',\n",
       " 'y<UNK><UNK>cbrul.gli<UNK>kem',\n",
       " 'reanththousalaba',\n",
       " 'ase<UNK>wak<UNK>ive<UNK>uint',\n",
       " 'towite<UNK>vind,t<UNK>we',\n",
       " 'e.themeringucano',\n",
       " 'drulase<UNK><UNK>tr<UNK>the<UNK>',\n",
       " 'mal<UNK>heci<UNK>wwidoma',\n",
       " 'ayou<UNK>ialcod<UNK>t<UNK>o<UNK>',\n",
       " 'i<UNK>sety<UNK>avoowre:<UNK>',\n",
       " 'hrupent<UNK>i<UNK>we<UNK>f<UNK>t',\n",
       " 'ad<UNK>oncken<UNK>oll<UNK>da',\n",
       " 'thi<UNK>wisthe’doffo',\n",
       " 'sor<UNK>dunt<UNK>cbotiar',\n",
       " 'ifr<UNK>ge<UNK>wnave,t<UNK>w',\n",
       " 'lel’llen<UNK>ou<UNK>k.we',\n",
       " 'wani’siowoll<UNK>tor',\n",
       " '<UNK>al<UNK>g;<UNK>f<UNK>l<UNK>wimot',\n",
       " 'e.<UNK>wouithare<UNK>w<UNK>d',\n",
       " '<UNK>ous<UNK>caiss<UNK>on<UNK>wh',\n",
       " 'y!<UNK>rch!<UNK>t<UNK>w,<UNK>den',\n",
       " 'ade<UNK>cat<UNK>juthade,',\n",
       " 'cous<UNK>me<UNK>wheld,<UNK>f',\n",
       " 'e<UNK>tli<UNK>d<UNK>esir<UNK>cke',\n",
       " 'ruvistial<UNK>ne,at<UNK>',\n",
       " 'sohat<UNK>ld<UNK>onte.no',\n",
       " 'ndithe<UNK>int.<UNK>ay<UNK>m',\n",
       " 'tagr<UNK>fone<UNK>t<UNK>llo<UNK>',\n",
       " 'elet<UNK>sde<UNK>mit,b.t',\n",
       " 'ado<UNK>i<UNK>the<UNK>riit<UNK>c',\n",
       " ':ck<UNK>nd<UNK>ne<UNK>iandus',\n",
       " '<UNK>thoo.inia<UNK>k.pra',\n",
       " 'as<UNK>il<UNK>yowhofe<UNK>ca',\n",
       " 'metou<UNK>intlouid<UNK>t',\n",
       " 'ali.<UNK>be<UNK>pilious<UNK>',\n",
       " 'pis<UNK>m<UNK>broure<UNK>r<UNK>w',\n",
       " 'elenor<UNK>me,<UNK>wode.',\n",
       " 'nno<UNK>i,<UNK>throru<UNK>he',\n",
       " 'genoo<UNK>finori<UNK>man',\n",
       " 'nigrord<UNK>tayse<UNK>it',\n",
       " 'it.<UNK>wouna.b.tore',\n",
       " 'llo<UNK>m<UNK>e<UNK>iantico<UNK>',\n",
       " '<UNK>t<UNK>inth,<UNK>d<UNK>octam',\n",
       " 's,<UNK>thae<UNK>acd<UNK>r,<UNK><UNK>',\n",
       " 'heryonsiaseame,<UNK>',\n",
       " 'bu<UNK>wd<UNK>thore:o<UNK>so',\n",
       " 'ier<UNK>ioneramindes',\n",
       " 'oulost<UNK>rubo<UNK>thes',\n",
       " 'u<UNK>cachos.berd<UNK>be',\n",
       " 'de<UNK>oralat<UNK>bl,<UNK>th',\n",
       " 'hesarcbe<UNK>buplary',\n",
       " 'too.ins,<UNK>o’deaca',\n",
       " 'edon<UNK>ale<UNK>d<UNK>cas.i',\n",
       " 'mind<UNK>tiar<UNK>hyonge',\n",
       " 'm<UNK>fr<UNK>iti<UNK>metold<UNK>',\n",
       " 'e<UNK>hy,<UNK>t’y<UNK>iinghi',\n",
       " 'ivanilfod<UNK>ngntou',\n",
       " 'nt<UNK>athe’thacou<UNK>t',\n",
       " 't<UNK>fa.bu<UNK>chiss,<UNK>m',\n",
       " '<UNK>welichilanerry<UNK>',\n",
       " '<UNK>he<UNK>hass.y<UNK>ardaw',\n",
       " 'stun<UNK>fobi.yeand,',\n",
       " 'e<UNK>nkn’dou,<UNK>th<UNK><UNK>f',\n",
       " 'h,<UNK>foorerels<UNK>trt',\n",
       " '<UNK>gould<UNK>whelyo<UNK>fa',\n",
       " 'othyorssousppe<UNK>t',\n",
       " 'ui<UNK>t<UNK>t,br<UNK>arethi',\n",
       " 'taw<UNK>t<UNK>t<UNK>ne<UNK>t<UNK>fom',\n",
       " 'y<UNK>omo<UNK>f<UNK>s<UNK>fowen<UNK>',\n",
       " 'ishis<UNK>m.my<UNK>oo!<UNK>i',\n",
       " '<UNK>tr’<UNK>rthenthe<UNK>rd',\n",
       " '<UNK>s<UNK>al!<UNK>nz,<UNK>thiat',\n",
       " 'wherorul<UNK>t<UNK>udr<UNK>i',\n",
       " 'itom<UNK>t,<UNK>s<UNK>ggorai',\n",
       " 'a<UNK>b.’tha.illouth',\n",
       " 'erthaghe<UNK>s<UNK>ad<UNK>th',\n",
       " 'su<UNK>ho.’deavinsa<UNK>',\n",
       " 'ayobeleerousiupr',\n",
       " 'n<UNK>th<UNK>geredongiso',\n",
       " 'landokng<UNK>ge,<UNK>ys<UNK>',\n",
       " 't<UNK>ous,<UNK>cdo<UNK>al<UNK><UNK>d',\n",
       " 's,<UNK>yobempe;<UNK>at.<UNK>',\n",
       " 'manenoxplyoubeme',\n",
       " 'ust<UNK>o<UNK>cewalouf<UNK>y',\n",
       " 'ies<UNK>t,<UNK><UNK>paminll.',\n",
       " 'g<UNK>wabe<UNK>tho<UNK>itif<UNK>',\n",
       " 'crenngon,<UNK>for<UNK>d?',\n",
       " 'fod,<UNK>r<UNK>frd<UNK>b.ti<UNK>',\n",
       " 'us<UNK>y<UNK>iarinof<UNK>nou',\n",
       " 't<UNK>ba<UNK>t<UNK>cas<UNK>a<UNK>ti.',\n",
       " 'pe<UNK>thy<UNK>mpe,<UNK>nte<UNK>',\n",
       " 'e<UNK>tre<UNK>in<UNK>wnzo.67',\n",
       " 'e<UNK>flmay<UNK><UNK>cothi<UNK>b',\n",
       " '<UNK>abrefoso.withar',\n",
       " '<UNK>arcay<UNK><UNK>h<UNK>poraiu',\n",
       " 's<UNK>whact<UNK>ha<UNK>ds<UNK>s<UNK>',\n",
       " '<UNK>thu<UNK>ndiard<UNK>y<UNK>de',\n",
       " 'o.<UNK>res<UNK>myofe<UNK>fac',\n",
       " '<UNK>nd<UNK>mur<UNK>oweles’l',\n",
       " 'veemie<UNK>out<UNK>is’s,',\n",
       " 'r<UNK>herin<UNK>an.i<UNK>ist',\n",
       " '<UNK>s,<UNK>t?<UNK>gourtz,<UNK>n',\n",
       " 'ho,<UNK>thathe.m<UNK>sis',\n",
       " 'domaspar<UNK>t,<UNK>do<UNK>f',\n",
       " 'rme,<UNK>acboou<UNK>t<UNK>nd',\n",
       " 'w,w?on<UNK>ubenexagh',\n",
       " 'rat<UNK>w’d<UNK>veplsu<UNK>h',\n",
       " 't<UNK>l-cero.6785try',\n",
       " '<UNK>theyomyoue<UNK>than',\n",
       " 'itinacacht<UNK>mbes<UNK>',\n",
       " 'whotin.lderore<UNK>o',\n",
       " 'sobenchane-f.cav',\n",
       " '<UNK>tr<UNK>whe<UNK>h.8<UNK>mani',\n",
       " 'i<UNK>thinout<UNK><UNK>th<UNK>ce',\n",
       " 'eetale,<UNK>he<UNK>y<UNK>ben',\n",
       " 'an<UNK>hansthiti<UNK>bar',\n",
       " 'h.wdowhis,<UNK>prono',\n",
       " 'shin<UNK>dsono<UNK>c.<UNK>ba',\n",
       " 'ace<UNK>il.4200itite',\n",
       " 'liswhan<UNK>whang<UNK>te',\n",
       " 'eeyouthor<UNK>pou,<UNK>a',\n",
       " 'blet<UNK>rer<UNK>miverol',\n",
       " 'ave<UNK>i<UNK>ror<UNK>fo<UNK>t<UNK><UNK>',\n",
       " '<UNK>wime<UNK>wiro.usino',\n",
       " 'igoos<UNK><UNK>nt<UNK>ir<UNK>le,',\n",
       " 'ar<UNK>beamo<UNK>t<UNK>ill<UNK>a',\n",
       " 'arouiroron<UNK>as<UNK>be',\n",
       " 'o.he<UNK>iss<UNK>antcis<UNK>',\n",
       " 'af<UNK>wisdimofrt.in',\n",
       " 'urtungor<UNK>t<UNK>wecit',\n",
       " '<UNK>ththallerofarru',\n",
       " '<UNK>myer<UNK>imath<UNK>then',\n",
       " 'mabrate<UNK>s<UNK>out<UNK>f<UNK>',\n",
       " 'tcof<UNK><UNK>d’denoooff',\n",
       " 'e.her;<UNK>d<UNK>doftigo',\n",
       " '<UNK>whe<UNK>t<UNK>anoup,nit',\n",
       " 'caysino.warthy<UNK>d',\n",
       " 'f<UNK>hent<UNK>lo<UNK>mnd,<UNK>m',\n",
       " 'u<UNK>gh;ag<UNK>w<UNK>a.hisu',\n",
       " 'l<UNK>amus<UNK>thean<UNK>ne<UNK>',\n",
       " '<UNK>e<UNK>thomav’s,<UNK>n!<UNK>',\n",
       " '<UNK>ckiath<UNK>t<UNK>m<UNK>stea',\n",
       " 'e<UNK>texthiald,<UNK>car',\n",
       " '.<UNK>cbe,<UNK>whir<UNK>cay<UNK>',\n",
       " '<UNK>yawas;b.<UNK>limy,<UNK>',\n",
       " '<UNK>s,<UNK>s,<UNK>be<UNK>ff<UNK>t<UNK>1',\n",
       " 'othi<UNK>dyoo<UNK>merdi<UNK>',\n",
       " 'ofo<UNK>the<UNK>weshe<UNK>mi',\n",
       " 'e<UNK>wi<UNK>maliir,<UNK>aco',\n",
       " 's-n<UNK>tindetr<UNK>ma.t',\n",
       " 'lakiait<UNK>is<UNK>ss<UNK>he',\n",
       " 'lis<UNK>o.pro<UNK>ghetse',\n",
       " 'erst<UNK>thell<UNK>q.eer',\n",
       " 'med,anti<UNK>igody<UNK>f',\n",
       " 'y<UNK>mue<UNK>een’d<UNK>y,<UNK><UNK>',\n",
       " 'sprsishy,<UNK>bussay',\n",
       " 'f<UNK>yochis<UNK>thi<UNK>ian',\n",
       " 'sat<UNK>lavere<UNK>be<UNK>wh',\n",
       " 'elme!<UNK>gesoo<UNK>ssth',\n",
       " '<UNK>s,<UNK>t<UNK>che<UNK>my<UNK>ouc',\n",
       " 'the<UNK>a<UNK>acathalica',\n",
       " 'erreasugr.<UNK>thet<UNK>',\n",
       " '<UNK>thart<UNK>py,<UNK>whi<UNK>g',\n",
       " 'ot<UNK>d<UNK>ag<UNK>ateenoiu',\n",
       " 'l<UNK>ndel.iune<UNK><UNK>thi',\n",
       " 'tuzofort<UNK>gare<UNK>wo',\n",
       " 'nces<UNK>cack:<UNK>n<UNK>uth',\n",
       " '<UNK>stheas<UNK>jeshalan',\n",
       " 'sshan<UNK>raghason?i',\n",
       " 'hamuty<UNK>fer<UNK>pr<UNK>to',\n",
       " 'ayongofrthe<UNK>ma.o',\n",
       " 's<UNK>whee<UNK>ed?<UNK>po,<UNK>m',\n",
       " 'nofil<UNK>od<UNK>t<UNK>me<UNK>wh',\n",
       " 'r,<UNK>d.<UNK>fover<UNK>ht,<UNK>',\n",
       " 'vprer<UNK>ffuingroue',\n",
       " 'whawandy.thathiu',\n",
       " '<UNK>the<UNK>m.isow<UNK>we,<UNK>',\n",
       " '<UNK>fitathevedairil',\n",
       " 'or<UNK>no.yoncanak,y',\n",
       " 'ngha<UNK>yoleli<UNK><UNK>cet',\n",
       " '.<UNK>ani<UNK>r<UNK>l<UNK>i<UNK>ci<UNK>s',\n",
       " 'ag,<UNK>t<UNK>(ld,<UNK>ton,m',\n",
       " 'cbit<UNK>soonofoff<UNK>c',\n",
       " 'isscd<UNK>n<UNK>maitones',\n",
       " 't<UNK>ion<UNK>wat<UNK>ila<UNK>th',\n",
       " 'et<UNK>hed<UNK>theshel,<UNK>',\n",
       " 'ire.vele<UNK>ie<UNK>lit<UNK>',\n",
       " 'falousoforoders<UNK>',\n",
       " 'vitit<UNK>ld<UNK>he<UNK>cato',\n",
       " 'workl-d,t<UNK>ne<UNK>ifi',\n",
       " 'ten,<UNK>in,<UNK>dntan<UNK>i',\n",
       " 'hou<UNK>mathets<UNK>t<UNK>sa',\n",
       " '<UNK>brus,<UNK>.<UNK>f<UNK>ye<UNK>th',\n",
       " 'e<UNK>wshetls<UNK>b.w<UNK>py',\n",
       " 'somet<UNK>icasss<UNK>ic<UNK>',\n",
       " 'n<UNK>ind,<UNK>al<UNK>ay<UNK>a.<UNK>',\n",
       " 'inet<UNK>mof<UNK>ho.ntth',\n",
       " 'o.no.ilerd,<UNK>t<UNK>i<UNK>',\n",
       " 'alld<UNK>be<UNK>pandr<UNK>s<UNK>',\n",
       " 'ay<UNK>k,<UNK>ind<UNK>por!ow',\n",
       " 'eec.entt<UNK>os<UNK>yst<UNK>',\n",
       " 'woflithe<UNK>pissm.<UNK>',\n",
       " 'towes<UNK>phe<UNK>theedk',\n",
       " '<UNK>sadovelir!<UNK>n<UNK>ap',\n",
       " 'noosthe,<UNK>ho<UNK>t<UNK>h,',\n",
       " '.w,<UNK>orye<UNK>he.st<UNK>h',\n",
       " 'e<UNK>cathiredeeckni',\n",
       " 'be<UNK>(stf<UNK>fackis<UNK>i',\n",
       " 't,<UNK>rallandardont',\n",
       " 'ile<UNK>h<UNK>acamery<UNK><UNK>m',\n",
       " 'iso<UNK>avethisu<UNK>cae',\n",
       " 'mo.<UNK>iascodoo.<UNK>id',\n",
       " '<UNK>tharer.thausave',\n",
       " 'etslasst<UNK>ade,<UNK>d<UNK>',\n",
       " 'y,<UNK>f<UNK>chyo<UNK>wloupu',\n",
       " 'ndke<UNK>ks<UNK>un<UNK>ar<UNK>in',\n",
       " 'e,ag<UNK>ck!tesa<UNK>men',\n",
       " 'h,<UNK>l.<UNK>saitem<UNK>m<UNK>i',\n",
       " 'whollis<UNK>h:<UNK>tithe',\n",
       " 'veve<UNK>int<UNK>afi,<UNK>in',\n",
       " '<UNK>f<UNK><UNK>ldt’d<UNK>iret<UNK>i',\n",
       " ',<UNK>isden<UNK>by<UNK>ryo.<UNK>',\n",
       " 'ile,<UNK>le?<UNK>iuso<UNK>fo',\n",
       " 'edomowiupld<UNK>hara',\n",
       " 'ase,<UNK>th<UNK>saire?at',\n",
       " 'nq.womt<UNK>cerpprdy',\n",
       " '.<UNK>thicouse<UNK>ianof',\n",
       " '<UNK>t<UNK>n<UNK>eathinoutho',\n",
       " 'kesshakis<UNK>aneroe',\n",
       " 'p’get<UNK>t<UNK>jandofor',\n",
       " '<UNK>whandos<UNK>buslonc',\n",
       " 'cbutwhemal<UNK>t<UNK>ce,',\n",
       " 'ta<UNK>ind<UNK>h!he<UNK>wa<UNK>b',\n",
       " 'sengo<UNK>sed<UNK>pe<UNK>age',\n",
       " '<UNK>ieveno<UNK>sto!<UNK>a.m',\n",
       " ',<UNK>s:howithe<UNK>sthe',\n",
       " 'y,fistena.’s<UNK>bau',\n",
       " 'erll.haniprinorn',\n",
       " 'tco.had<UNK>metiavel',\n",
       " 'ugoule<UNK>t<UNK>iioutiu',\n",
       " 'on<UNK>gho.y<UNK>tisotho',\n",
       " 'f<UNK>f<UNK>ousorto<UNK>brou',\n",
       " 'm,<UNK>han<UNK>mukis<UNK>ero',\n",
       " '<UNK>hof<UNK>arre<UNK>bulath',\n",
       " 'l,<UNK>stlert<UNK>witrss',\n",
       " '<UNK>agr.<UNK>norm.t,is.',\n",
       " 'hii<UNK>youre<UNK><UNK>sthe<UNK>',\n",
       " 'wano.lderoooret<UNK>',\n",
       " 'i.e<UNK>w!ifusaugous',\n",
       " '<UNK>iset<UNK>y<UNK>nq.<UNK>bowi',\n",
       " 'enot<UNK>sofen<UNK>act,<UNK>',\n",
       " 'f<UNK>y,<UNK>de<UNK>mi<UNK>p,<UNK>ta',\n",
       " 'ivel<UNK>hourerthase',\n",
       " 't<UNK>iathes<UNK>hean.is',\n",
       " 'rd<UNK>cashourtu,<UNK>li',\n",
       " 'wos,<UNK>ghe<UNK>pe<UNK><UNK>het',\n",
       " '<UNK>y<UNK>mat<UNK>bay<UNK>tour<UNK>',\n",
       " 'l<UNK>r<UNK>me.whane<UNK>oun',\n",
       " 'l<UNK>f:toueloulet.w',\n",
       " 'los:than<UNK>hacher<UNK>',\n",
       " 'agill<UNK>bik’d<UNK>in<UNK><UNK>',\n",
       " 'i<UNK>walauloo.oueus',\n",
       " '<UNK>s<UNK>th<UNK>dge<UNK>o<UNK>yond',\n",
       " 'uovesh<UNK>th<UNK>f<UNK>orea',\n",
       " '<UNK>bess<UNK>yeraree<UNK>tu',\n",
       " '<UNK>ple<UNK>hoo<UNK>anca<UNK>t<UNK>',\n",
       " 'ng.hag<UNK>cagrser<UNK>b',\n",
       " 'acagouras,aneno,',\n",
       " ',<UNK>ni<UNK>the<UNK>hengeir',\n",
       " '.the<UNK>susce<UNK>hnoti',\n",
       " 'o.gh!<UNK>thanz,<UNK>ath',\n",
       " '<UNK>irn<UNK>why,<UNK>oucbe<UNK>',\n",
       " '<UNK>offodesthot<UNK>s<UNK>s',\n",
       " 'd<UNK>t<UNK>munsofo.<UNK>dou',\n",
       " 'meanofr<UNK>yre’e<UNK>wh',\n",
       " 'rtathend<UNK>a<UNK>d,ani',\n",
       " '<UNK>ouswie<UNK>is’dgrmy',\n",
       " '<UNK>r<UNK>crve<UNK>wiutisss',\n",
       " 'so.ello<UNK>toboma<UNK>t',\n",
       " 'i<UNK>bas<UNK>woth<UNK>wd<UNK>ke',\n",
       " 'nd<UNK>iave,wn<UNK>meave',\n",
       " 'o<UNK>iosyod<UNK>mus<UNK>opo',\n",
       " 'homoge<UNK>oukink<UNK>wh',\n",
       " 'thes<UNK>he<UNK>dycant<UNK>f',\n",
       " 'iabet<UNK>asththedd:',\n",
       " 'ue<UNK>maron<UNK>c.<UNK>bu<UNK>h',\n",
       " 'sthiathig<UNK>he<UNK>cr<UNK>',\n",
       " '.ht<UNK>tyrthe<UNK>ite<UNK>w',\n",
       " 'nakn<UNK>thacioou<UNK>y<UNK>',\n",
       " 'eurdo:he,agunsan',\n",
       " 'aiopu<UNK>meshus<UNK>set',\n",
       " 'illoousthaso.hea',\n",
       " 'brpemulelolelala',\n",
       " 'urane,<UNK>ni.403thi',\n",
       " 'leay<UNK>asof<UNK>iswar;',\n",
       " 'cha,<UNK>fon.fa<UNK>a?<UNK>y',\n",
       " 'ndsem<UNK>w<UNK>bee<UNK>cold',\n",
       " '<UNK>s<UNK>shithedy<UNK>t,<UNK>a',\n",
       " '<UNK>niverciviles<UNK>sa',\n",
       " '<UNK>mand<UNK>titee,<UNK>aco',\n",
       " 'spello<UNK>ser,<UNK>cak,',\n",
       " 'fomyo<UNK>loloruio<UNK>c',\n",
       " '<UNK>cermed<UNK>wera.tef',\n",
       " 'ndniariotrer<UNK>is<UNK>',\n",
       " 'n,<UNK>thetat<UNK>hathra',\n",
       " 'rs<UNK>ldsin<UNK>nll<UNK>at<UNK>',\n",
       " 'tavet<UNK>t:<UNK>h<UNK>ton<UNK>o',\n",
       " 'hobrturee<UNK>ain<UNK>ig',\n",
       " 'l<UNK>peree.<UNK>y<UNK><UNK>as<UNK>h',\n",
       " 'i<UNK>she<UNK>ores<UNK>hen.b',\n",
       " 'tindoncayocchero',\n",
       " 'om.t<UNK>tor<UNK>d.ind<UNK>n',\n",
       " 'an<UNK>inciliase<UNK>vem',\n",
       " '<UNK>th<UNK>m;<UNK>mpporil<UNK>w',\n",
       " '<UNK>nanjeai<UNK>athe<UNK>t:',\n",
       " 'whe<UNK><UNK>thatias<UNK>s.w',\n",
       " 't<UNK>ar<UNK>hyor’yotr<UNK>s',\n",
       " 'wef<UNK>&cke<UNK>t<UNK>rou,<UNK>',\n",
       " 'is,<UNK>oufist<UNK>anal<UNK>',\n",
       " 'icbertind<UNK>louncb',\n",
       " 'thothizof<UNK>w,<UNK>wh<UNK>',\n",
       " '<UNK>st<UNK>al<UNK>ilageaf<UNK>a',\n",
       " 'wesere?oucla<UNK>id,',\n",
       " '<UNK>a.<UNK>caret<UNK>s,<UNK>ron',\n",
       " '’de<UNK>bupi<UNK>fenow<UNK>c',\n",
       " 'g<UNK>angelen<UNK>ya<UNK>anl',\n",
       " 'e<UNK>gre<UNK>yracl<UNK>ct<UNK>b',\n",
       " 'erdof<UNK>d<UNK>tour<UNK>ti<UNK>',\n",
       " 'd<UNK>l<UNK>chasas<UNK>naure',\n",
       " 'orelloof<UNK>at<UNK>than',\n",
       " 'hath,<UNK>obech<UNK>ouny',\n",
       " 'plit<UNK>ilathy,s<UNK>an',\n",
       " '<UNK>yo<UNK>thon<UNK>fidy,<UNK>n',\n",
       " ',<UNK>y’s.thous<UNK>bou<UNK>',\n",
       " 'e<UNK>het<UNK>whallo<UNK>at<UNK>',\n",
       " 'rsth<UNK>t<UNK>mon<UNK>saree',\n",
       " 'it<UNK>pe<UNK>ma<UNK>s<UNK>o.i.i',\n",
       " 'd<UNK>heeprelonosase',\n",
       " 'ulloffis<UNK>chest,t',\n",
       " 'ngil<UNK>hir.<UNK>emers<UNK>',\n",
       " 'th.toke<UNK>tund<UNK>be<UNK>',\n",
       " 'erioucaiushi<UNK>nt<UNK>',\n",
       " 'at<UNK>fanapran<UNK>to<UNK>v',\n",
       " '<UNK>ar<UNK>i.ambuf<UNK>ot<UNK>s',\n",
       " '<UNK>ote,<UNK>verd<UNK>ne<UNK>fo',\n",
       " '<UNK>winzo.itrdd<UNK>ape',\n",
       " 'louro.y<UNK>iio<UNK>cai.',\n",
       " 'i<UNK>boure,<UNK>herste<UNK>',\n",
       " 'evend<UNK>w!monoruro',\n",
       " 'asi<UNK>isaloten<UNK>mal',\n",
       " 'gom.aciind<UNK>avest',\n",
       " 'e<UNK>we.<UNK>ritou<UNK>thei',\n",
       " 'lalelsayrkin<UNK>t<UNK>t',\n",
       " 'the<UNK>blitho,whe,<UNK>',\n",
       " 'vely<UNK>ast<UNK>wataran',\n",
       " 'ntunewhathe.t,<UNK>g',\n",
       " '<UNK>agheyorife.sssa',\n",
       " 'yl,irelati<UNK>omist',\n",
       " 'lofiule<UNK>ballo,<UNK>w',\n",
       " 'icoucour.8tha.hi',\n",
       " 'ethashst<UNK>m!<UNK>o.h<UNK>',\n",
       " '<UNK>nondes!<UNK>iso.whe',\n",
       " 'ne<UNK>aritusacarat<UNK>',\n",
       " 'thace<UNK><UNK>swhigo,<UNK>h',\n",
       " 'theamon<UNK>hathes,<UNK>',\n",
       " 'hompee<UNK>any<UNK><UNK>m<UNK>yp',\n",
       " 'rarerelpriun.i<UNK>y',\n",
       " 'ollllr<UNK>ithesllan',\n",
       " 'dithere<UNK>yo.ingho',\n",
       " 'ther,<UNK>hin<UNK>helele',\n",
       " '.b.<UNK>ckemethergha',\n",
       " 'rl’ss<UNK>r<UNK>fo<UNK>as<UNK>he',\n",
       " 'alo’d<UNK><UNK>hahees<UNK>st',\n",
       " 'taia.ct<UNK>f<UNK>k,<UNK>cai',\n",
       " 'ot<UNK>panorabary<UNK>wa',\n",
       " 'ru<UNK>ule<UNK>ss.touran',\n",
       " 's,<UNK>f<UNK>jon<UNK>heent<UNK>s',\n",
       " 'savertex.swdi<UNK>ar',\n",
       " 'a.al<UNK>thi<UNK>t<UNK>itu:c',\n",
       " 'aluredsoutht<UNK>ou<UNK>',\n",
       " 'shilorothist<UNK>nth',\n",
       " 'aftoo.orurof<UNK>she',\n",
       " '<UNK>tefianth<UNK>ghe<UNK>wo',\n",
       " 'ii<UNK><UNK>h.<UNK><UNK>s<UNK>tikill',\n",
       " 'n.ive’sem.<UNK><UNK>mpe,',\n",
       " '<UNK>e<UNK>be<UNK>d<UNK>a<UNK>as<UNK>tel',\n",
       " 'm<UNK>che<UNK>tusinshane',\n",
       " 'i<UNK>whe<UNK><UNK>wadnex.t<UNK>',\n",
       " 'whereathises<UNK>wha',\n",
       " 'r<UNK>thace<UNK>t<UNK>lllyti',\n",
       " 'yotcotca.<UNK>tacas<UNK>',\n",
       " 'hes<UNK>s<UNK>orel<UNK>brema',\n",
       " 'ofea<UNK>gr<UNK>tcresin.',\n",
       " 'he.waenk<UNK>o<UNK>hiomo',\n",
       " 'anoungat<UNK>fo<UNK>inds',\n",
       " 'ne<UNK>wot<UNK>vereanero',\n",
       " 'e?ouslomake<UNK>sd,<UNK>',\n",
       " 'moumy<UNK>ow<UNK>de<UNK>ures',\n",
       " 'ese<UNK>o,<UNK>henetpanp',\n",
       " 'yoremurvitouthe<UNK>',\n",
       " 'w<UNK>th<UNK>y,bed<UNK>h<UNK>cdu',\n",
       " 'y,u<UNK>n’le<UNK>g<UNK>s<UNK>ano',\n",
       " '<UNK>k,<UNK>m<UNK>d.istono.i',\n",
       " 'is’s,<UNK>pon<UNK>t<UNK>hest',\n",
       " 'bers<UNK>wolisoall<UNK>c',\n",
       " 'en<UNK>venq.10brty,<UNK>',\n",
       " 'd<UNK>iis,<UNK>tu<UNK>me<UNK>wim',\n",
       " 'as.d<UNK>beass,<UNK>peas',\n",
       " 'der<UNK>timy<UNK>mou<UNK>bel',\n",
       " '<UNK>ngeasthethilasc',\n",
       " '<UNK>nde<UNK>thi<UNK>susthe<UNK>',\n",
       " 'rave,touereld<UNK>th',\n",
       " '<UNK>kesa.<UNK>se-se<UNK>asy',\n",
       " 'he<UNK>y<UNK>an<UNK>fll.<UNK>d<UNK><UNK>',\n",
       " '<UNK>bry,<UNK>at<UNK>oth<UNK>oon',\n",
       " 'etineelitidilllo',\n",
       " 'ny<UNK>pod<UNK>gong<UNK>ca.w',\n",
       " ',<UNK>jo<UNK>t<UNK>aste<UNK>sw<UNK>m',\n",
       " 'n<UNK>arthe,<UNK>’t<UNK><UNK>wer',\n",
       " 'oreimad.thonilyo',\n",
       " 'an<UNK>thi<UNK>s<UNK>acus<UNK>ii',\n",
       " '<UNK>odomavealen<UNK>wed',\n",
       " 'hacavengnkelalil',\n",
       " '<UNK>et,<UNK>t<UNK>therugono',\n",
       " 'on.ctan<UNK>at<UNK>yolld',\n",
       " 'nt’d<UNK>tcion.s<UNK>s,<UNK>',\n",
       " 'fo<UNK>h<UNK>ppo<UNK>son<UNK>yis',\n",
       " 'o.f<UNK>becandilonld',\n",
       " '<UNK>whind<UNK>d<UNK>a<UNK>atowo',\n",
       " 'me,<UNK>th.n<UNK>erd<UNK>is.',\n",
       " 'hthonthtrofomome',\n",
       " '<UNK>nothests<UNK>o.7440',\n",
       " '<UNK>iofast<UNK>wh<UNK>wistr',\n",
       " 'eey<UNK>’<UNK>whe,<UNK>irees',\n",
       " '<UNK>dk<UNK>ink<UNK>(ahamand',\n",
       " '<UNK>denk.<UNK>my,<UNK>dethe',\n",
       " 'hinonom,<UNK>y<UNK>co<UNK>mp',\n",
       " 'nghe,tan,<UNK>d<UNK>yony',\n",
       " 'utha<UNK>as.<UNK>no<UNK>dell',\n",
       " 'ane<UNK>si.<UNK>lee<UNK>fepe',\n",
       " 'whenowati.<UNK>sho.m',\n",
       " 'yes.<UNK><UNK>rbrk,wh<UNK>nd',\n",
       " '<UNK>t,<UNK>cit,<UNK>y<UNK>y<UNK>fe<UNK>',\n",
       " 'indowe<UNK>whiian.<UNK>a',\n",
       " 't<UNK>oteockiathe<UNK>aw',\n",
       " 't<UNK>tholat<UNK>ccre<UNK>tu',\n",
       " 'unt<UNK>hasthe<UNK>foen<UNK>',\n",
       " 'aru<UNK>yonefoffthes',\n",
       " 'th<UNK>m.<UNK>irrs<UNK>l<UNK>cor',\n",
       " 'mins<UNK>soracoome,<UNK>',\n",
       " 'essagrdemacr<UNK>rsp',\n",
       " 'inkiave<UNK>t<UNK>lo<UNK>yo<UNK>',\n",
       " 'cacau<UNK>br,<UNK>iniget',\n",
       " 'derr<UNK><UNK>ake<UNK>st<UNK>ic.',\n",
       " '<UNK>d<UNK>s,<UNK>my<UNK>ach<UNK><UNK>is',\n",
       " 'y,<UNK>monothelot<UNK>la',\n",
       " '<UNK>mavilla.bapo.<UNK>t',\n",
       " 'lemar<UNK>cant<UNK>t.hse',\n",
       " 'hassyomok<UNK>t<UNK>tino',\n",
       " 'eth<UNK>devecbama.3t',\n",
       " 'ysthifuered,<UNK>han',\n",
       " 'ereshay<UNK>a<UNK>aw<UNK>heh',\n",
       " 'u<UNK>shef<UNK><UNK>heseland',\n",
       " '<UNK>dosoro.<UNK>t,<UNK>d<UNK>ve',\n",
       " 'dudu.<UNK>t<UNK>&<UNK>croon<UNK>',\n",
       " 'm<UNK>s.<UNK>c.whaiomal<UNK>',\n",
       " '<UNK>anti<UNK>t<UNK>wevee<UNK>iu',\n",
       " 'er<UNK>cagod,arathe<UNK>',\n",
       " '.th.<UNK>se<UNK>f<UNK>thavoo',\n",
       " 'induseun,<UNK>nst<UNK>th',\n",
       " 'd<UNK>m<UNK>yothanthasan',\n",
       " 'whets<UNK>hendersai<UNK>',\n",
       " 'i<UNK>in<UNK>cilou<UNK>mpown',\n",
       " '.’s<UNK>onomey<UNK>setwi',\n",
       " 'd:g,<UNK>miom;<UNK>ysomo',\n",
       " 'tren<UNK>nknchon,<UNK>he',\n",
       " 'ou<UNK>briuen,<UNK>it<UNK>st',\n",
       " '<UNK>g<UNK>he<UNK>gort.tove<UNK>',\n",
       " 'bo.<UNK>o.<UNK>bre<UNK>ceres',\n",
       " 'yoot.ianithe<UNK>n<UNK>a',\n",
       " 'ses<UNK>mo<UNK>l<UNK>t<UNK>s<UNK>ive',\n",
       " '<UNK>d<UNK>po<UNK>an’dontill',\n",
       " 'rad<UNK>ok,<UNK>owiser<UNK>s',\n",
       " '.<UNK>iceno.<UNK>wiacofo',\n",
       " 'for:<UNK>e<UNK>ilcbocowh',\n",
       " 'wone<UNK>wi<UNK>k,<UNK>wh<UNK>th',\n",
       " 'ns<UNK>knd<UNK>wiano!gre',\n",
       " 'd<UNK>ss<UNK>wine<UNK>mphed<UNK>',\n",
       " '.’lof<UNK>hiat<UNK>fiany',\n",
       " ',<UNK>yol?<UNK>mer<UNK>a<UNK>onk',\n",
       " '<UNK>one<UNK>tiane<UNK>wiori',\n",
       " 'hutweinenth<UNK>acan',\n",
       " '<UNK>rre<UNK>in<UNK>thie,<UNK>th',\n",
       " 'ng<UNK>canstiaver’d.',\n",
       " 'd<UNK>hed<UNK><UNK>go.atttht',\n",
       " 'asifre,<UNK>se.wouta',\n",
       " 'inte<UNK>a.<UNK>k,<UNK>ade<UNK>f',\n",
       " 'kesout<UNK>wilifiant',\n",
       " 'tow<UNK>o.56brird<UNK>go',\n",
       " 's,<UNK>t<UNK>i<UNK>anthafale',\n",
       " '<UNK>muede.beno<UNK>itho']"
      ]
     },
     "execution_count": 119,
     "metadata": {},
     "output_type": "execute_result"
    }
   ],
   "source": [
    "list(map(lambda x: \"\".join(x), y_test_pred))"
   ]
  },
  {
   "cell_type": "code",
   "execution_count": 120,
   "id": "e14722d1",
   "metadata": {},
   "outputs": [
    {
     "name": "stderr",
     "output_type": "stream",
     "text": [
      "/home/arunavgupta/anaconda3/envs/huggingface/lib/python3.8/site-packages/nltk/translate/bleu_score.py:552: UserWarning: \n",
      "The hypothesis contains 0 counts of 2-gram overlaps.\n",
      "Therefore the BLEU score evaluates to 0, independently of\n",
      "how many N-gram overlaps of lower order it contains.\n",
      "Consider using lower n-gram order or use SmoothingFunction()\n",
      "  warnings.warn(_msg)\n",
      "/home/arunavgupta/Documents/UCSD/ml-theory-capstone/src/utils.py:208: RuntimeWarning: invalid value encountered in true_divide\n",
      "  y = y / y.sum()\n"
     ]
    },
    {
     "data": {
      "text/plain": [
       "{'bleu2': 0.07629076012109695,\n",
       " 'perplexity': 15.152393674583294,\n",
       " 'true_perplexity': nan}"
      ]
     },
     "execution_count": 120,
     "metadata": {},
     "output_type": "execute_result"
    }
   ],
   "source": [
    "evaluate(y_test, y_test_pred)"
   ]
  },
  {
   "cell_type": "markdown",
   "id": "1037e312",
   "metadata": {},
   "source": [
    "## Laplacian Kernel"
   ]
  },
  {
   "cell_type": "code",
   "execution_count": 121,
   "id": "5fc851f4",
   "metadata": {},
   "outputs": [],
   "source": [
    "# replace each token with its index in the vocab\n",
    "X_train_enc = np.array([encode(sent) for sent in X_train])\n",
    "y_train_enc = np.array([encode(sent) for sent in y_train])\n",
    "X_test_enc = np.array([encode(sent) for sent in X_test])\n",
    "y_test_enc = np.array([encode(sent) for sent in y_test])"
   ]
  },
  {
   "cell_type": "code",
   "execution_count": 122,
   "id": "25e7e8de",
   "metadata": {},
   "outputs": [],
   "source": [
    "train_vocab = vocab"
   ]
  },
  {
   "cell_type": "code",
   "execution_count": 123,
   "id": "e36e7954",
   "metadata": {},
   "outputs": [
    {
     "data": {
      "text/plain": [
       "50"
      ]
     },
     "execution_count": 123,
     "metadata": {},
     "output_type": "execute_result"
    }
   ],
   "source": [
    "len(vocab)"
   ]
  },
  {
   "cell_type": "code",
   "execution_count": 124,
   "id": "8ad73552",
   "metadata": {},
   "outputs": [
    {
     "data": {
      "text/plain": [
       "(3576, 3200)"
      ]
     },
     "execution_count": 124,
     "metadata": {},
     "output_type": "execute_result"
    }
   ],
   "source": [
    "corpus.shape"
   ]
  },
  {
   "cell_type": "code",
   "execution_count": 125,
   "id": "0b4e38de",
   "metadata": {},
   "outputs": [],
   "source": [
    "SUBSET_SIZE = 1000"
   ]
  },
  {
   "cell_type": "code",
   "execution_count": 126,
   "id": "4553c54d",
   "metadata": {},
   "outputs": [],
   "source": [
    "# randomly subset data\n",
    "subset = np.random.choice(corpus.shape[0], SUBSET_SIZE, replace=False)\n",
    "\n",
    "subset_corpus = corpus[subset]"
   ]
  },
  {
   "cell_type": "code",
   "execution_count": 127,
   "id": "ddf477c8",
   "metadata": {},
   "outputs": [
    {
     "data": {
      "text/plain": [
       "((800, 3200), (200, 3200))"
      ]
     },
     "execution_count": 127,
     "metadata": {},
     "output_type": "execute_result"
    }
   ],
   "source": [
    "train_data = subset_corpus[: int(len(subset_corpus) * (1 - TEST_SPLIT))]\n",
    "test_data = subset_corpus[int(len(subset_corpus) * (1 - TEST_SPLIT)) :]\n",
    "\n",
    "train_data.shape, test_data.shape"
   ]
  },
  {
   "cell_type": "code",
   "execution_count": 132,
   "id": "03a2d98a",
   "metadata": {},
   "outputs": [
    {
     "data": {
      "text/plain": [
       "((800, 2400), (800, 800), (200, 2400), (200, 800))"
      ]
     },
     "execution_count": 132,
     "metadata": {},
     "output_type": "execute_result"
    }
   ],
   "source": [
    "KERNEL_SPLIT_SIZE = int(3/4 * CONTEXT_SIZE)\n",
    "\n",
    "X_train_enc = train_data[:, :CONTEXT_SPLIT_SIZE*len(vocab)].astype(\"float32\")\n",
    "y_train_enc = train_data[:, CONTEXT_SPLIT_SIZE*len(vocab):].astype(\"float32\")\n",
    "X_test_enc = test_data[:, :CONTEXT_SPLIT_SIZE*len(vocab)].astype(\"float32\")\n",
    "y_test_enc = test_data[:, CONTEXT_SPLIT_SIZE*len(vocab):].astype(\"float32\")\n",
    "\n",
    "X_train_enc.shape, y_train_enc.shape, X_test_enc.shape, y_test_enc.shape"
   ]
  },
  {
   "cell_type": "code",
   "execution_count": 133,
   "id": "2539ddad",
   "metadata": {},
   "outputs": [],
   "source": [
    "from functools import partial"
   ]
  },
  {
   "cell_type": "code",
   "execution_count": 134,
   "id": "85a3b4e0",
   "metadata": {},
   "outputs": [],
   "source": [
    "next_char_train = y_train_enc[:, :len(train_vocab)]\n",
    "next_char_test = y_test_enc[:, :len(train_vocab)]"
   ]
  },
  {
   "cell_type": "code",
   "execution_count": 167,
   "id": "3bcb9ea8",
   "metadata": {},
   "outputs": [],
   "source": [
    "# train a laplace kernel\n",
    "lam = 1e-3\n",
    "kernel = partial(utils.K_laplace_mat, gamma=0.001)\n",
    "\n",
    "K = kernel(X_train_enc, X_train_enc)\n",
    "alpha_hat = np.linalg.solve(K + lam * np.eye(K.shape[0]), next_char_train)"
   ]
  },
  {
   "cell_type": "code",
   "execution_count": 168,
   "id": "1c0c91a6",
   "metadata": {},
   "outputs": [
    {
     "data": {
      "text/plain": [
       "array([[ 0.0402533 ,  0.04817196,  0.03775316, ...,  0.        ,\n",
       "         0.        ,  0.06372936],\n",
       "       [-0.2447049 ,  0.32159171,  0.02911386, ...,  0.        ,\n",
       "         0.        ,  0.01068885],\n",
       "       [ 0.3267178 ,  0.07348606, -0.05533835, ...,  0.        ,\n",
       "         0.        , -0.02905901],\n",
       "       ...,\n",
       "       [ 0.08303006, -0.09062088,  0.13005615, ...,  0.        ,\n",
       "         0.        ,  0.00761098],\n",
       "       [ 0.35321414, -0.17625549,  0.21541703, ...,  0.        ,\n",
       "         0.        ,  0.03178175],\n",
       "       [ 0.47758548,  0.14578312, -0.03971136, ...,  0.        ,\n",
       "         0.        ,  0.00534537]])"
      ]
     },
     "execution_count": 168,
     "metadata": {},
     "output_type": "execute_result"
    }
   ],
   "source": [
    "yhat = kernel(X_test_enc, X_train_enc) @ alpha_hat\n",
    "yhat"
   ]
  },
  {
   "cell_type": "code",
   "execution_count": 169,
   "id": "8091f770",
   "metadata": {},
   "outputs": [
    {
     "data": {
      "text/plain": [
       "0.16"
      ]
     },
     "execution_count": 169,
     "metadata": {},
     "output_type": "execute_result"
    }
   ],
   "source": [
    "(next_char_test.argmax(axis=1) == yhat.argmax(axis=1)).mean()"
   ]
  },
  {
   "cell_type": "code",
   "execution_count": 170,
   "id": "1f5288a0",
   "metadata": {},
   "outputs": [
    {
     "data": {
      "text/plain": [
       "<matplotlib.image.AxesImage at 0x7f7bcd6b80d0>"
      ]
     },
     "execution_count": 170,
     "metadata": {},
     "output_type": "execute_result"
    },
    {
     "data": {
      "image/png": "[encoded data removed]",
      "text/plain": [
       "<Figure size 432x288 with 1 Axes>"
      ]
     },
     "metadata": {
      "needs_background": "light"
     },
     "output_type": "display_data"
    }
   ],
   "source": [
    "max_index = np.argmax(yhat, axis=1)\n",
    "yhat[np.arange(yhat.shape[0]), max_index] = 1\n",
    "yhat[yhat != 1] = 0\n",
    "plt.imshow(yhat, aspect=0.1)"
   ]
  },
  {
   "cell_type": "code",
   "execution_count": 171,
   "id": "c968d5b2",
   "metadata": {},
   "outputs": [
    {
     "data": {
      "text/plain": [
       "<matplotlib.image.AxesImage at 0x7f7bcd67fdc0>"
      ]
     },
     "execution_count": 171,
     "metadata": {},
     "output_type": "execute_result"
    },
    {
     "data": {
      "image/png": "[encoded data removed]",
      "text/plain": [
       "<Figure size 432x288 with 1 Axes>"
      ]
     },
     "metadata": {
      "needs_background": "light"
     },
     "output_type": "display_data"
    }
   ],
   "source": [
    "# plot next_char_train, with a good aspect ratio\n",
    "plt.imshow(next_char_test, aspect=0.1)"
   ]
  },
  {
   "cell_type": "code",
   "execution_count": 172,
   "id": "3d8a7fa1",
   "metadata": {},
   "outputs": [
    {
     "data": {
      "text/plain": [
       "0.97"
      ]
     },
     "execution_count": 172,
     "metadata": {},
     "output_type": "execute_result"
    }
   ],
   "source": [
    "yhat_train = kernel(X_train_enc, X_train_enc) @ alpha_hat\n",
    "\n",
    "(next_char_train.argmax(axis=1) == yhat_train.argmax(axis=1)).mean()"
   ]
  },
  {
   "cell_type": "code",
   "execution_count": 173,
   "id": "321951ea",
   "metadata": {},
   "outputs": [],
   "source": [
    "def generate_text_kernel(kernel, alpha_hat, X, z, length=16):\n",
    "    text = []\n",
    "    for i in range(length):\n",
    "        yhat = kernel(X, z) @ alpha_hat\n",
    "        # decode the text\n",
    "        text.append([reverse_vocab[y] for y in np.argmax(yhat, axis=1)])\n",
    "        # move the window forward\n",
    "        X = np.concatenate([X[:, len(train_vocab):], yhat], axis=1)\n",
    "    \n",
    "    transpose = list(zip(*text))\n",
    "    return transpose"
   ]
  },
  {
   "cell_type": "code",
   "execution_count": 174,
   "id": "bd50ce81",
   "metadata": {},
   "outputs": [],
   "source": [
    "generated_test = generate_text_kernel(kernel, alpha_hat, X_test_enc, X_train_enc, length=CONTEXT_SIZE-CONTEXT_SPLIT_SIZE)"
   ]
  },
  {
   "cell_type": "code",
   "execution_count": 175,
   "id": "fc8a7309",
   "metadata": {},
   "outputs": [
    {
     "data": {
      "text/plain": [
       "['n  hir  isasir l',\n",
       " 'an  e seo lt ia ',\n",
       " 'las eg a oeeeoho',\n",
       " 'h tnr mdnd st on',\n",
       " ' netnleee asaner',\n",
       " 'ia  tna  iontraw',\n",
       " 'onhesen nedeetoe',\n",
       " '  ais edi iois a',\n",
       " 'o oii nwohe  heh',\n",
       " 'tiaan  ea o e an',\n",
       " 's it aotee  tise',\n",
       " 's s rit a  idofo',\n",
       " '   io oia iieore',\n",
       " 'ssoahy h  easlin',\n",
       " 'soaes e ao reoto',\n",
       " 'oior  ohtoeo hi ',\n",
       " 'enesefo eirn   s',\n",
       " 'aan tlreftn fnr ',\n",
       " ' id  oaeo noslet',\n",
       " 'lsoeiiean  e i r',\n",
       " 'rna oiranh serel',\n",
       " ' s, nthe tr et, ',\n",
       " 'eeeonh e dtae te',\n",
       " 'he i eoln hlrera',\n",
       " 'irl t s ih e nom',\n",
       " 'n, hoa eo en  f ',\n",
       " 'ten  ioe eeie ri',\n",
       " 'aanri os hieotrh',\n",
       " ' nts eerieod e e',\n",
       " 't n t e.enr  oih',\n",
       " 'oh  t senree e t',\n",
       " 'ser eo riie iie ',\n",
       " 'in ar   ooasorne',\n",
       " 'nei.siie  ogna t',\n",
       " 'm ts enhe  c  r ',\n",
       " 'i tos p i  eeeoe',\n",
       " 'l in s  iraherat',\n",
       " 'llraot  rorl soh',\n",
       " 'r o haon ahdr e ',\n",
       " ' t noaters  rese',\n",
       " 'in  imeot  a itn',\n",
       " ' iai ns wiiooa h',\n",
       " '  oaiil ai seaoe',\n",
       " 'ia dorwod eoomrn',\n",
       " ' irahdrs eh ooee',\n",
       " 'e  hh  rei e ie ',\n",
       " 'ieh m t  oo lne ',\n",
       " 'nt o ro le  e hi',\n",
       " 'n retfe taa  fod',\n",
       " 'e hs sanrescrate',\n",
       " 'rnt iweon   iono',\n",
       " ' so rnoa ert  ie',\n",
       " ' ohee e sertn nt',\n",
       " 'ws ener hoenioh ',\n",
       " 'ah reee  e etehi',\n",
       " 'isne heineyoee m',\n",
       " 'iem rlee eoihhr ',\n",
       " 'e ehetrred   eie',\n",
       " 'ea  y  saahri lo',\n",
       " 'a  oen niu ein w',\n",
       " '  hshi ror e  i.',\n",
       " 'n o n nea   rioe',\n",
       " 'sntni yeinoia tt',\n",
       " 'nwni ai  piesto ',\n",
       " 'a soirn ot ltar ',\n",
       " 'neieh d r s r ea',\n",
       " 'se noroee heat r',\n",
       " 'oas i aeree ehf ',\n",
       " 'iomheerersefa  o',\n",
       " ' i wil fsnd eare',\n",
       " 'm,l nrr aall ei ',\n",
       " 'e neosrfrhhee rr',\n",
       " 'iiowieehe  reweh',\n",
       " 'hef r eahoh riei',\n",
       " 'a ih eaes t cril',\n",
       " ' ris eorenh wer ',\n",
       " 'n aon eear s,aer',\n",
       " ' tn  al aeio hoe',\n",
       " '  sst c a n onae',\n",
       " 'ea difooe ar iit',\n",
       " ' a ssetat  efrad',\n",
       " 'rtitrr ons fol  ',\n",
       " 'orfe  ra elreo  ',\n",
       " 'n aoae sf  thao ',\n",
       " 'ie  seomni ter o',\n",
       " ' tnot l stnn t e',\n",
       " 'r moi  die lfo  ',\n",
       " 'l e onoeaoeer  e',\n",
       " 's di.  ianodseod',\n",
       " 'ramatitlrimenoor',\n",
       " 'rn  tine o etehe',\n",
       " ' ihn  i s e l  o',\n",
       " ' a ea  anere  hn',\n",
       " 'pitm h wrsi at e',\n",
       " 'ne lieser chrhor',\n",
       " 'ao soreoho o e  ',\n",
       " ' fowfiaaine norr',\n",
       " 'o  h cohes oil i',\n",
       " ' iineonesnoireie',\n",
       " 'e le.   te hos n',\n",
       " 'las m ra h i en ',\n",
       " 'ielna rhn oia  n',\n",
       " 'w ro har endhere',\n",
       " 'ino te hlloeotih',\n",
       " ' at at r ha  i  ',\n",
       " 'i oni heoor emll',\n",
       " 'yiown r atn?eri,',\n",
       " ' ene t ese o   l',\n",
       " ' arf  s t eraiei',\n",
       " 's   tse hy e  mi',\n",
       " 'so paa r ereher ',\n",
       " ' teem di  seileo',\n",
       " 'hs  oee l rarnes',\n",
       " 'iaw char isreeeh',\n",
       " 'hoi heolf  w ae ',\n",
       " 'a o engeon  d o ',\n",
       " 'aaniowedhh s a n',\n",
       " 'y oi  onearorne ',\n",
       " ' d hor isr  ee d',\n",
       " 'iaa ta  ertao.ni',\n",
       " 'or i s alr  anaa',\n",
       " ' on o noe  ts al',\n",
       " 'ctri no esheoo w',\n",
       " 'i.nn tarnh aer e',\n",
       " 'reh sh.t tn r hi',\n",
       " 'rs o es ton  asa',\n",
       " 'e  t ito sis ore',\n",
       " 'e lrs  h soehaee',\n",
       " 'hors  h iern ero',\n",
       " 'i esee on tihedn',\n",
       " 'rdi n eienee    ',\n",
       " 'ee  ro  ernoof  ',\n",
       " '  iei hon  sinr ',\n",
       " ' hn ee or erntaf',\n",
       " 'nayefeheeem elee',\n",
       " ' ifoneoirirnoao ',\n",
       " 'res isdis shs fo',\n",
       " 'is iie s ftrhoha',\n",
       " ' orecai eo ,lrmo',\n",
       " 'eirose herhehe e',\n",
       " ' nn   neern etai',\n",
       " 'oeoar iorsb hta ',\n",
       " 'noea io aae htse',\n",
       " 'ie the  aeataeoo',\n",
       " 'nohr or   eh  tr',\n",
       " '  hnr enelohrt r',\n",
       " 't e  he sorodrse',\n",
       " 'lie ienhsh  teor',\n",
       " 'mniya leenehesre',\n",
       " '  nio ooor  hts ',\n",
       " ' annt rh  m nolf',\n",
       " 'ei eoatyeon isge',\n",
       " ' ee  on lhereens',\n",
       " 'di etneoni woma ',\n",
       " ' ee  ah  ne nlel',\n",
       " 'ngsn ir  ai  e n',\n",
       " 'saoreiof eenlhdi',\n",
       " ' iohas  isohiott',\n",
       " 'aaal her s aes e',\n",
       " 'isaon sa t  i o ',\n",
       " 'helam t ro net e',\n",
       " 'liltan io  eoaal',\n",
       " 'no  o taao eire ',\n",
       " 'r lrneeohee s he',\n",
       " 'aino if  h litoo',\n",
       " ' io fsethttaa ia',\n",
       " ' no esn osilerha',\n",
       " 'as oedeh,ornil a',\n",
       " 's  iher ihme h o',\n",
       " 'ree e etihe e e ',\n",
       " 'sanslhahr ie mer',\n",
       " 'noloieboieihirt ',\n",
       " '  oioe horitnc,a',\n",
       " ' ehoo nhor eareo',\n",
       " 'eadsrniri a aine',\n",
       " 'omlsohnnhoe oe h',\n",
       " '  eeh hhe  eoleo',\n",
       " 'e  sos d hnn ioa',\n",
       " ' na s horhe  o o',\n",
       " 'in ti i nh o r m',\n",
       " 'lor i ei le ea o',\n",
       " 'as e oaehmhee  h',\n",
       " 'rrt c ne tl miea',\n",
       " 'otenesethaeetert',\n",
       " 'tilite r esoln  ',\n",
       " 'a  srieeshehdtno',\n",
       " 'aeaifass a aoore',\n",
       " 's .era  efda  eo',\n",
       " 'oio twolefartroe',\n",
       " 'isebof  ae f irn',\n",
       " 'elen e amene    ',\n",
       " 'iee ow ie    dio',\n",
       " 'tas eeterehrnt n',\n",
       " 'tones r re eh wa',\n",
       " 'inl io  lsnaio  ',\n",
       " 's  i  ielloa npt',\n",
       " 'of tiaeaa   ,llo',\n",
       " 'i.e n ri tihhms ',\n",
       " 'n  meelm  snile ',\n",
       " ' inhio b  hrt  a']"
      ]
     },
     "execution_count": 175,
     "metadata": {},
     "output_type": "execute_result"
    }
   ],
   "source": [
    "list(map(lambda x: \"\".join(x), generated_test))"
   ]
  },
  {
   "cell_type": "code",
   "execution_count": 202,
   "id": "ea09892a",
   "metadata": {},
   "outputs": [
    {
     "data": {
      "text/plain": [
       "200"
      ]
     },
     "execution_count": 202,
     "metadata": {},
     "output_type": "execute_result"
    }
   ],
   "source": [
    "reshaped_y_test = y_test_enc.reshape(-1, CONTEXT_SIZE-CONTEXT_SPLIT_SIZE,len(train_vocab))\n",
    "\n",
    "y_test_text = [\"\".join([reverse_vocab[np.argmax(y)] for y in y_test]) for y_test in reshaped_y_test]\n",
    "\n",
    "len(y_test_text)"
   ]
  },
  {
   "cell_type": "code",
   "execution_count": 206,
   "id": "2a1733ae",
   "metadata": {},
   "outputs": [
    {
     "data": {
      "text/plain": [
       "{'bleu2': 0.1678184606665611, 'perplexity': 10.069915360145755}"
      ]
     },
     "execution_count": 206,
     "metadata": {},
     "output_type": "execute_result"
    }
   ],
   "source": [
    "evaluate(y_test_text, generated_test)"
   ]
  },
  {
   "cell_type": "markdown",
   "id": "5ff9b35a",
   "metadata": {},
   "source": [
    "## RFM"
   ]
  },
  {
   "cell_type": "code",
   "execution_count": 148,
   "id": "0da9152d",
   "metadata": {},
   "outputs": [
    {
     "name": "stderr",
     "output_type": "stream",
     "text": [
      "/home/arunavgupta/Documents/UCSD/ml-theory-capstone/src/utils.py:103: RuntimeWarning: divide by zero encountered in true_divide\n",
      "  K = K / dist\n"
     ]
    }
   ],
   "source": [
    "alpha, M, _ = train_rfm(X_train_enc, next_char_train, L=48)"
   ]
  },
  {
   "cell_type": "code",
   "execution_count": 149,
   "id": "ad2ddeb7",
   "metadata": {},
   "outputs": [],
   "source": [
    "y_train_pred = utils.K_M(X_train_enc, X_train_enc, M, L=48) @ alpha"
   ]
  },
  {
   "cell_type": "code",
   "execution_count": 150,
   "id": "94baa32f-2983-4618-89b4-3a12d6d3220a",
   "metadata": {},
   "outputs": [
    {
     "data": {
      "text/plain": [
       "6.714556775372001e-05"
      ]
     },
     "execution_count": 150,
     "metadata": {},
     "output_type": "execute_result"
    }
   ],
   "source": [
    "utils.mse(y_train_pred, next_char_train)\n"
   ]
  },
  {
   "cell_type": "code",
   "execution_count": 151,
   "id": "c27c487f-cc33-4fe3-914d-f3e84c9e11b0",
   "metadata": {},
   "outputs": [
    {
     "data": {
      "text/plain": [
       "<matplotlib.image.AxesImage at 0x7f7bcde666a0>"
      ]
     },
     "execution_count": 151,
     "metadata": {},
     "output_type": "execute_result"
    },
    {
     "data": {
      "image/png": "[encoded data removed]",
      "text/plain": [
       "<Figure size 1152x648 with 2 Axes>"
      ]
     },
     "metadata": {
      "needs_background": "light"
     },
     "output_type": "display_data"
    }
   ],
   "source": [
    "fig, ax = plt.subplots(ncols=2, figsize=(16, 9))\n",
    "ar = (y_train_pred.shape[1]/y_train_pred.shape[0])\n",
    "ax[0].imshow(utils.softmax(y_train_pred, axis=1), aspect=ar)\n",
    "ax[1].imshow(next_char_train, aspect=ar)"
   ]
  },
  {
   "cell_type": "code",
   "execution_count": 152,
   "id": "370623b4-f13a-423a-8251-19f4557c632d",
   "metadata": {},
   "outputs": [],
   "source": [
    "y_test_pred = utils.K_M(X_test_enc, X_train_enc, M, L=24) @ alpha"
   ]
  },
  {
   "cell_type": "code",
   "execution_count": 153,
   "id": "c1f84c29-5902-4522-97d5-554793e7c3d3",
   "metadata": {},
   "outputs": [
    {
     "data": {
      "text/plain": [
       "0.03375590151557867"
      ]
     },
     "execution_count": 153,
     "metadata": {},
     "output_type": "execute_result"
    }
   ],
   "source": [
    "utils.mse(y_test_pred, next_char_test)"
   ]
  },
  {
   "cell_type": "code",
   "execution_count": 154,
   "id": "fba95d5c-2df5-455f-afc7-d3675106b975",
   "metadata": {},
   "outputs": [
    {
     "data": {
      "text/plain": [
       "<matplotlib.image.AxesImage at 0x7f7bcdb0b8e0>"
      ]
     },
     "execution_count": 154,
     "metadata": {},
     "output_type": "execute_result"
    },
    {
     "data": {
      "image/png": "[encoded data removed]",
      "text/plain": [
       "<Figure size 1152x648 with 2 Axes>"
      ]
     },
     "metadata": {
      "needs_background": "light"
     },
     "output_type": "display_data"
    }
   ],
   "source": [
    "fig, ax = plt.subplots(ncols=2, figsize=(16, 9))\n",
    "ar = (y_test_pred.shape[1]/y_test_pred.shape[0])\n",
    "y_test_argmax_ohc = np.eye(len(train_vocab))[y_test_pred.argmax(axis=1)]\n",
    "ax[0].imshow(y_test_argmax_ohc, aspect=ar)\n",
    "ax[1].imshow(next_char_test, aspect=ar)"
   ]
  },
  {
   "cell_type": "code",
   "execution_count": 155,
   "id": "e89bd672",
   "metadata": {},
   "outputs": [
    {
     "data": {
      "text/plain": [
       "<matplotlib.colorbar.Colorbar at 0x7f7bd1995940>"
      ]
     },
     "execution_count": 155,
     "metadata": {},
     "output_type": "execute_result"
    },
    {
     "data": {
      "image/png": "[encoded data removed]",
      "text/plain": [
       "<Figure size 432x288 with 2 Axes>"
      ]
     },
     "metadata": {
      "needs_background": "light"
     },
     "output_type": "display_data"
    }
   ],
   "source": [
    "plt.imshow(y_test_argmax_ohc - next_char_test, aspect=ar)\n",
    "plt.colorbar()"
   ]
  },
  {
   "cell_type": "code",
   "execution_count": 156,
   "id": "85480b88",
   "metadata": {},
   "outputs": [],
   "source": [
    "from functools import partial"
   ]
  },
  {
   "cell_type": "code",
   "execution_count": 157,
   "id": "0c7c9568-7c0b-4b04-9917-442c65044393",
   "metadata": {},
   "outputs": [],
   "source": [
    "kernel_rfm = partial(utils.K_M, M=M, L=24)\n",
    "\n",
    "gen_test_rfm = generate_text_kernel(kernel_rfm, alpha, X_test_enc, X_train_enc, length=CONTEXT_SIZE-CONTEXT_SPLIT_SIZE)"
   ]
  },
  {
   "cell_type": "code",
   "execution_count": 207,
   "id": "62256fd2",
   "metadata": {},
   "outputs": [
    {
     "data": {
      "text/plain": [
       "{'bleu2': 0.17520472487861702, 'perplexity': 9.127606369824862}"
      ]
     },
     "execution_count": 207,
     "metadata": {},
     "output_type": "execute_result"
    }
   ],
   "source": [
    "evaluate(y_test_text, gen_test_rfm)"
   ]
  },
  {
   "cell_type": "code",
   "execution_count": 159,
   "id": "116f71c2",
   "metadata": {},
   "outputs": [
    {
     "data": {
      "text/plain": [
       "[' a figo l a mrnl',\n",
       " 'ln  pnnen e  ian',\n",
       " 'ile en a se eand',\n",
       " ' atnioad dtse ca',\n",
       " 'hn tale ryamen a',\n",
       " 'ai itna  t n ra ',\n",
       " ' a erenaneme.ooe',\n",
       " ' aaislea ri in a',\n",
       " 'onh sialle n  iy',\n",
       " ' hi ma ean  n al',\n",
       " 's c alon e emene',\n",
       " 'tas ne   ae m no',\n",
       " ' n rl rmormmenee',\n",
       " ' sor  ou aoas nn',\n",
       " 's and  orl a ses',\n",
       " 'hion aa tano har',\n",
       " 'er ree teine l s',\n",
       " 'u hes neit ef a ',\n",
       " ' in  oaa ayon  c',\n",
       " 'i  an lan re ill',\n",
       " 'r a oila mesn al',\n",
       " 'it  mar.a’n tin ',\n",
       " 'eneon hern  e pe',\n",
       " 'he  srelha rdeya',\n",
       " 'arl s s i  aan m',\n",
       " 'n efor bfene  fr',\n",
       " 'n os ret  icn ar',\n",
       " ' mor  as ainatne',\n",
       " ' nes anr mrd mhe',\n",
       " ' er iee eni emif',\n",
       " ' ta   wenrc  ere',\n",
       " 'se  mo rrh  mir ',\n",
       " ' n aa a nsanernm',\n",
       " 'rerly d ao aseam',\n",
       " ' ha ian are  na ',\n",
       " 'e aos sor  ereoe',\n",
       " 'l  n  s le her t',\n",
       " 'll aa  ana lanom',\n",
       " 'frt ma dianen e ',\n",
       " 'e anoa neh oreno',\n",
       " 'sna  orla os men',\n",
       " 'difh n  fd  oa e',\n",
       " '   afil ai  eao ',\n",
       " 'nen iowon hoonr ',\n",
       " 'eiea dose e oa e',\n",
       " 'er g,sarea e in ',\n",
       " 'ked f s sen an t',\n",
       " 'etes ao oa el n ',\n",
       " 'n ret ereasi fad',\n",
       " 'e as sana nei te',\n",
       " 'nni seel e  mond',\n",
       " 'nno rnoanden  i ',\n",
       " 't,hee p siiee mo',\n",
       " 'nl taes hoen wha',\n",
       " ' t rane gerite  ',\n",
       " 'os eahelnerte  o',\n",
       " ' amar a daoioman',\n",
       " ' mensa  is  le e',\n",
       " 'e ao remea disio',\n",
       " 'a  aes ne obin w',\n",
       " '  hori rer e ti.',\n",
       " '  m nanea    i  ',\n",
       " ' oen  yeilousetl',\n",
       " 'nr,t ai s re  e ',\n",
       " 'anialae on sitl ',\n",
       " 'nn ahe  m s aae ',\n",
       " 'se eera e  ert w',\n",
       " 'oas tonereeaoh. ',\n",
       " 'som, eree fen mo',\n",
       " ' s rllo aneien,a',\n",
       " 'a l.ear anllfei ',\n",
       " 'e  ao  ers aerme',\n",
       " ' rwb ne  n reneh',\n",
       " 'ee errerhef r si',\n",
       " 'o ir daer ta liw',\n",
       " '  n   arenh s d ',\n",
       " '  aan tner nemem',\n",
       " 'nen aa ireas ht ',\n",
       " ' a s sa   ne nan',\n",
       " 'en thll eam  eie',\n",
       " '  d leosi  ino a',\n",
       " 'rahtr eads tos  ',\n",
       " 'erei or  allen h',\n",
       " 'n ror  ha  hhaa ',\n",
       " 'e   all nh s n a',\n",
       " ' tretaa sanninne',\n",
       " 'r m m  as  ason ',\n",
       " 'nse en aoy ee h ',\n",
       " 'a din  na sin  a',\n",
       " 'ras todn hmen ar',\n",
       " 'rs ane nea er m ',\n",
       " ' ias aan .ea ah.',\n",
       " ' s da aaneae ard',\n",
       " ' stm torai astae',\n",
       " 'e  lcaren eeeeor',\n",
       " 'a  tas  hr  rna ',\n",
       " ' nolfa yane nor ',\n",
       " '   oroean  fila ',\n",
       " ' iineone no re’l',\n",
       " 'ahawf e de her o',\n",
       " 'ra  m rlaa ies o',\n",
       " 'bole  rnn  uare ',\n",
       " 'wenosh  se  l ea',\n",
       " 'lnf ae alloewhie',\n",
       " ' aisann  ha l as',\n",
       " 'llon  helor emmh',\n",
       " ' gis nr aenlerdm',\n",
       " ' e  ea ifsa  ca ',\n",
       " ' aoe ial  hia te',\n",
       " 'l e es sey uey l',\n",
       " 'e   as rin then ',\n",
       " ' tennef,easerleo',\n",
       " 'h   sne a r  f s',\n",
       " 'iawaohem is eee ',\n",
       " 'te  celln  wr ea',\n",
       " ' so eaneon e ano',\n",
       " 'aa tase ne   aae',\n",
       " 'oion aona rm ni ',\n",
       " '   oll uua ien m',\n",
       " 'taa lan t,t aoni',\n",
       " 'aa  as aans anaa',\n",
       " 'yo wh doe ma  al',\n",
       " 'aa ses  weneoo w',\n",
       " 'sen aaai neae oe',\n",
       " 'reh shn  tn biei',\n",
       " 'ut thes ton  aea',\n",
       " 'l  t le asaa nor',\n",
       " 'e aru th itneome',\n",
       " ' ors a erer  ane',\n",
       " 'e  nal dnromai  ',\n",
       " 'r hon en.n s e  ',\n",
       " 'e a nh  ee oef m',\n",
       " ' rier han  nan i',\n",
       " 'th  ee of ianh r',\n",
       " 'sam sfl hon ir a',\n",
       " 'eacs etieire ao ',\n",
       " 'ne r s  s ansano',\n",
       " 'es ine sort aera',\n",
       " ' ornnan pn conl ',\n",
       " 's lose henewne n',\n",
       " '  t   ne re  men',\n",
       " '?e a  ionab mfa ',\n",
       " 'atea yosta taese',\n",
       " 'he  aa  aed mey ',\n",
       " 'noererane len el',\n",
       " '  hos aadl.er  a',\n",
       " 'tee ths smrenene',\n",
       " 'lie ie es a  e.n',\n",
       " 'mrila leamnhi ea',\n",
       " '  nil eas   mmla',\n",
       " ' and nrnirm aolr',\n",
       " 'eis mht  onnihoe',\n",
       " ' me  nal aed mns',\n",
       " ' ioesesoni aoaa ',\n",
       " ' ee rlae ne  lel',\n",
       " ' a ds r  ai eloa',\n",
       " 'henr re  the  ni',\n",
       " ' aeresan to lond',\n",
       " 'eaod nere  ae an',\n",
       " 's tar sano ai lo',\n",
       " 'aola ss m  oln e',\n",
       " 'o cor  as an oll',\n",
       " 'no  d ta aieneba',\n",
       " 'v sase osee p me',\n",
       " 'onn iin aa astao',\n",
       " '  o asea t aerie',\n",
       " ' aolesn onineooo',\n",
       " 'an ordhfm r eesa',\n",
       " '   bhar nanr h  ',\n",
       " 'aeo ea  onenrie ',\n",
       " ' ? tl ahe  e men',\n",
       " 'seaoie  uconorm ',\n",
       " 'n warernerfhelee',\n",
       " ' ee d naar a eal',\n",
       " 'ea frneer m ne o',\n",
       " 'om hos inmemo  b',\n",
       " ' fas ahe r . leo',\n",
       " 't  ia  n ar enle',\n",
       " 'an ah ione   a o',\n",
       " 'in il e ben tr a',\n",
       " 'llofera. eene  o',\n",
       " 'n  aslleh ree mo',\n",
       " 'rrt panr ta arn ',\n",
       " 'amene otaneon  f',\n",
       " 'asli a t dnel an',\n",
       " 'a  orseesaer too',\n",
       " ' has aa  a aa sa',\n",
       " 's ae e  arn tost',\n",
       " 'owe n oa   ralle',\n",
       " 'asee f uai f yr ',\n",
       " 'ilenie aieneai  ',\n",
       " 's r ow iem o dre',\n",
       " 'toseaeree hro an',\n",
       " 't  ele.at  er oh',\n",
       " 'dnf -a  as  wt  ',\n",
       " '  i  ene  ou nes',\n",
       " 'dl y seas s al o',\n",
       " 'ine n  e  a gan ',\n",
       " ' a meenta  weln ',\n",
       " 'aiohile  os d fn']"
      ]
     },
     "execution_count": 159,
     "metadata": {},
     "output_type": "execute_result"
    }
   ],
   "source": [
    "list(map(lambda x: \"\".join(x), gen_test_rfm))"
   ]
  },
  {
   "cell_type": "code",
   "execution_count": 208,
   "id": "07072a43",
   "metadata": {},
   "outputs": [
    {
     "name": "stdout",
     "output_type": "stream",
     "text": [
      "Train accuracy: 0.97\n",
      "Test accuracy: 0.16\n"
     ]
    }
   ],
   "source": [
    "# get train and test accuracy\n",
    "train_acc = (next_char_train.argmax(axis=1) == y_train_pred.argmax(axis=1)).mean()\n",
    "test_acc = (next_char_test.argmax(axis=1) == y_test_pred.argmax(axis=1)).mean()\n",
    "\n",
    "print(f\"Train accuracy: {train_acc:.2f}\")\n",
    "print(f\"Test accuracy: {test_acc:.2f}\")"
   ]
  },
  {
   "cell_type": "code",
   "execution_count": null,
   "id": "1443a0e4",
   "metadata": {},
   "outputs": [],
   "source": []
  }
 ],
 "metadata": {
  "kernelspec": {
   "display_name": "huggingface",
   "language": "python",
   "name": "python3"
  },
  "language_info": {
   "codemirror_mode": {
    "name": "ipython",
    "version": 3
   },
   "file_extension": ".py",
   "mimetype": "text/x-python",
   "name": "python",
   "nbconvert_exporter": "python",
   "pygments_lexer": "ipython3",
   "version": "3.8.11"
  },
  "vscode": {
   "interpreter": {
    "hash": "a6a6044cb29be7aa8d18f20f5f922fbbeec34b67744250c81f169bc0b9d02fc2"
   }
  }
 },
 "nbformat": 4,
 "nbformat_minor": 5
}
