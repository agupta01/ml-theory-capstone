{
 "cells": [
  {
   "cell_type": "code",
   "execution_count": 1,
   "id": "00db8ab1",
   "metadata": {},
   "outputs": [],
   "source": [
    "%load_ext autoreload\n",
    "\n",
    "%autoreload 2"
   ]
  },
  {
   "cell_type": "code",
   "execution_count": 2,
   "id": "21ec3b15-eb00-4843-a273-6b873ac7ee95",
   "metadata": {},
   "outputs": [],
   "source": [
    "import os\n",
    "import logging\n",
    "\n",
    "logger = logging.getLogger(__name__)\n",
    "\n",
    "os.chdir(\"../\")"
   ]
  },
  {
   "cell_type": "code",
   "execution_count": 3,
   "id": "30876a8e-0eb7-4363-a758-2c50f605770a",
   "metadata": {},
   "outputs": [],
   "source": [
    "import numpy as np\n",
    "import matplotlib.pyplot as plt\n",
    "from src.etl import *\n",
    "from src.rfm import *\n",
    "from src.utils import *"
   ]
  },
  {
   "cell_type": "code",
   "execution_count": 4,
   "id": "ac5bf898-52de-451a-878b-f226f4e43d0a",
   "metadata": {},
   "outputs": [
    {
     "name": "stdout",
     "output_type": "stream",
     "text": [
      "Dataset already downloaded: download_log -> 6157ee4b54ae1a9c39fa52c057f5dfbd80554c634644ba4fc805528bf36a68f7\n"
     ]
    },
    {
     "data": {
      "text/plain": [
       "False"
      ]
     },
     "execution_count": 4,
     "metadata": {},
     "output_type": "execute_result"
    }
   ],
   "source": [
    "url = \"https://www.gutenberg.org/cache/epub/1533/pg1533-images.html\"\n",
    "\n",
    "make_dataset(url)"
   ]
  },
  {
   "cell_type": "code",
   "execution_count": 5,
   "id": "6d964ad8-6c43-49fd-9c31-1cb4079b9f15",
   "metadata": {},
   "outputs": [],
   "source": [
    "X, vocab = tokenizer(\"./data/Author: William Shakespeare.txt\")"
   ]
  },
  {
   "cell_type": "code",
   "execution_count": 6,
   "id": "817f1a02",
   "metadata": {},
   "outputs": [
    {
     "data": {
      "text/plain": [
       "(853, 32, 64)"
      ]
     },
     "execution_count": 6,
     "metadata": {},
     "output_type": "execute_result"
    }
   ],
   "source": [
    "X.shape"
   ]
  },
  {
   "cell_type": "code",
   "execution_count": 7,
   "id": "5bb5f6b9-44b1-49f6-804c-c3fea52c91df",
   "metadata": {},
   "outputs": [],
   "source": [
    "data = X.reshape(X.shape[0], X.shape[1]*X.shape[2])"
   ]
  },
  {
   "cell_type": "code",
   "execution_count": 8,
   "id": "dc99c464-0fd7-48b8-9397-3f466bef2d3a",
   "metadata": {},
   "outputs": [
    {
     "data": {
      "text/plain": [
       "(853, 2048)"
      ]
     },
     "execution_count": 8,
     "metadata": {},
     "output_type": "execute_result"
    }
   ],
   "source": [
    "data.shape"
   ]
  },
  {
   "cell_type": "code",
   "execution_count": 9,
   "id": "4a01fb30-cc58-4bdd-aed0-f6d291d2db54",
   "metadata": {},
   "outputs": [
    {
     "data": {
      "text/plain": [
       "{'a': 1,\n",
       " 'b': 2,\n",
       " 'c': 3,\n",
       " 'd': 4,\n",
       " 'e': 5,\n",
       " 'f': 6,\n",
       " 'g': 7,\n",
       " 'h': 8,\n",
       " 'i': 9,\n",
       " 'j': 10,\n",
       " 'k': 11,\n",
       " 'l': 12,\n",
       " 'm': 13,\n",
       " 'n': 14,\n",
       " 'o': 15,\n",
       " 'p': 16,\n",
       " 'q': 17,\n",
       " 'r': 18,\n",
       " 's': 19,\n",
       " 't': 20,\n",
       " 'u': 21,\n",
       " 'v': 22,\n",
       " 'w': 23,\n",
       " 'x': 24,\n",
       " 'y': 25,\n",
       " 'z': 26,\n",
       " 'A': 27,\n",
       " 'B': 28,\n",
       " 'C': 29,\n",
       " 'D': 30,\n",
       " 'E': 31,\n",
       " 'F': 32,\n",
       " 'G': 33,\n",
       " 'H': 34,\n",
       " 'I': 35,\n",
       " 'J': 36,\n",
       " 'K': 37,\n",
       " 'L': 38,\n",
       " 'M': 39,\n",
       " 'N': 40,\n",
       " 'O': 41,\n",
       " 'P': 42,\n",
       " 'Q': 43,\n",
       " 'R': 44,\n",
       " 'S': 45,\n",
       " 'T': 46,\n",
       " 'U': 47,\n",
       " 'V': 48,\n",
       " 'W': 49,\n",
       " 'X': 50,\n",
       " 'Y': 51,\n",
       " 'Z': 52,\n",
       " '.': 53,\n",
       " ',': 54,\n",
       " '!': 55,\n",
       " '?': 56,\n",
       " \"'\": 57,\n",
       " ':': 58,\n",
       " ';': 59,\n",
       " '-': 60,\n",
       " '_': 61,\n",
       " ' ': 0,\n",
       " '[PAD]': 62,\n",
       " '[UNK]': 63}"
      ]
     },
     "execution_count": 9,
     "metadata": {},
     "output_type": "execute_result"
    }
   ],
   "source": [
    "vocab"
   ]
  },
  {
   "cell_type": "markdown",
   "id": "cdd63c49",
   "metadata": {},
   "source": [
    "## Baseline: Bigrams/Trigrams"
   ]
  },
  {
   "cell_type": "code",
   "execution_count": 10,
   "id": "7b508729",
   "metadata": {},
   "outputs": [],
   "source": [
    "from nltk.util import bigrams, trigrams, pad_sequence\n",
    "from nltk.lm.preprocessing import padded_everygram_pipeline, flatten\n",
    "from nltk.lm import MLE"
   ]
  },
  {
   "cell_type": "code",
   "execution_count": 11,
   "id": "80099fc2",
   "metadata": {},
   "outputs": [],
   "source": [
    "CONTEXT_SIZE = 32\n",
    "TEST_SPLIT = 0.2"
   ]
  },
  {
   "cell_type": "code",
   "execution_count": 12,
   "id": "9430ad5e",
   "metadata": {},
   "outputs": [],
   "source": [
    "def clean_sentence(sent):\n",
    "    # remove newline and separate into characters\n",
    "    sent = list(sent[:-1])\n",
    "    # add start token and truncate to context size\n",
    "    sent = ([\"<START>\"] + sent)[:CONTEXT_SIZE]\n",
    "    # pad to context size\n",
    "    if len(sent) == CONTEXT_SIZE:\n",
    "        return sent\n",
    "    elif len(sent) < CONTEXT_SIZE:\n",
    "        # add end token\n",
    "        sent = sent + [\"<END>\"]\n",
    "        return sent + [\"<PAD>\"] * (CONTEXT_SIZE - len(sent))\n",
    "    else:\n",
    "        raise ValueError(\"Sentence too long after truncating. Something went wrong.\")\n"
   ]
  },
  {
   "cell_type": "code",
   "execution_count": 13,
   "id": "d5bf6238",
   "metadata": {},
   "outputs": [
    {
     "data": {
      "text/plain": [
       "682"
      ]
     },
     "execution_count": 13,
     "metadata": {},
     "output_type": "execute_result"
    }
   ],
   "source": [
    "# get the text\n",
    "\n",
    "fpath = \"./data/Author: William Shakespeare.txt\"\n",
    "raw = open(fpath, \"r\").readlines()\n",
    "sentences = list(map(clean_sentence, raw))\n",
    "train_sentences = sentences[:int(len(sentences) * (1 - TEST_SPLIT))]\n",
    "test_sentences = sentences[int(len(sentences) * (1 - TEST_SPLIT)):]\n",
    "len(train_sentences)"
   ]
  },
  {
   "cell_type": "code",
   "execution_count": 14,
   "id": "d0d50e68",
   "metadata": {},
   "outputs": [
    {
     "data": {
      "text/plain": [
       "(682, 16)"
      ]
     },
     "execution_count": 14,
     "metadata": {},
     "output_type": "execute_result"
    }
   ],
   "source": [
    "np.array(train_sentences)[:, :16].shape"
   ]
  },
  {
   "cell_type": "code",
   "execution_count": 15,
   "id": "85d6e7de",
   "metadata": {},
   "outputs": [],
   "source": [
    "# shop the dataset in half. The first half will be used to condition the second half\n",
    "CONTEXT_SPLIT_SIZE = 16\n",
    "X_train = np.array(train_sentences)[:, :16]\n",
    "y_train = np.array(train_sentences)[:, 16:]\n",
    "X_test = np.array(test_sentences)[:, :16]\n",
    "y_test = np.array(test_sentences)[:, 16:]"
   ]
  },
  {
   "cell_type": "code",
   "execution_count": 16,
   "id": "23160adf",
   "metadata": {
    "tags": []
   },
   "outputs": [],
   "source": [
    "# get ngrams\n",
    "ngrams = []\n",
    "for sent in X_train:\n",
    "    ngrams.append(list(bigrams(sent)))\n"
   ]
  },
  {
   "cell_type": "code",
   "execution_count": 17,
   "id": "45535f25",
   "metadata": {},
   "outputs": [],
   "source": [
    "# pad the text\n",
    "vocab = list(flatten(sent for sent in X_train))"
   ]
  },
  {
   "cell_type": "code",
   "execution_count": 18,
   "id": "c10287a2",
   "metadata": {},
   "outputs": [],
   "source": [
    "lm = MLE(3)\n",
    "lm.fit(ngrams, vocab)"
   ]
  },
  {
   "cell_type": "code",
   "execution_count": 19,
   "id": "28dae843",
   "metadata": {},
   "outputs": [
    {
     "data": {
      "text/plain": [
       "array(['<START>', 'A', 'u', 't', 'h', 'o', 'r', ':', ' ', 'W', 'i', 'l',\n",
       "       'l', 'i', 'a', 'm'], dtype='<U7')"
      ]
     },
     "execution_count": 19,
     "metadata": {},
     "output_type": "execute_result"
    }
   ],
   "source": [
    "X_train[1]"
   ]
  },
  {
   "cell_type": "code",
   "execution_count": 20,
   "id": "db060ab9",
   "metadata": {},
   "outputs": [],
   "source": [
    "def generate_text(lm, X_test, length=16):\n",
    "    # generate text\n",
    "    text = []\n",
    "    for sent in X_test:\n",
    "        text.append(lm.generate(length, text_seed=sent))\n",
    "    return text"
   ]
  },
  {
   "cell_type": "code",
   "execution_count": 21,
   "id": "818726d0",
   "metadata": {},
   "outputs": [
    {
     "data": {
      "text/plain": [
       "(171, 16)"
      ]
     },
     "execution_count": 21,
     "metadata": {},
     "output_type": "execute_result"
    }
   ],
   "source": [
    "y_test.shape"
   ]
  },
  {
   "cell_type": "code",
   "execution_count": 22,
   "id": "f728b543",
   "metadata": {},
   "outputs": [],
   "source": [
    "y_test_pred = np.array(generate_text(lm, X_test))"
   ]
  },
  {
   "cell_type": "code",
   "execution_count": 23,
   "id": "9b633e70",
   "metadata": {},
   "outputs": [
    {
     "data": {
      "text/plain": [
       "(' the whetstone o', ' f helot’euo.Ano')"
      ]
     },
     "execution_count": 23,
     "metadata": {},
     "output_type": "execute_result"
    }
   ],
   "source": [
    "\"\".join(y_test[0]), \"\".join(y_test_pred[0])"
   ]
  },
  {
   "cell_type": "code",
   "execution_count": 24,
   "id": "480bbe12",
   "metadata": {},
   "outputs": [
    {
     "data": {
      "text/plain": [
       "'<UNK>'"
      ]
     },
     "execution_count": 24,
     "metadata": {},
     "output_type": "execute_result"
    }
   ],
   "source": [
    "lm.vocab.unk_label"
   ]
  },
  {
   "cell_type": "code",
   "execution_count": 25,
   "id": "81e70f03",
   "metadata": {},
   "outputs": [],
   "source": [
    "class Vocab():\n",
    "    def __init__(self, vals):\n",
    "        self._dict = {v: i for i, v in enumerate(vals)}\n",
    "        self._dict['<UNK>'] = len(self._dict)\n",
    "        self.rev = {i: v for v, i in self._dict.items()}\n",
    "    \n",
    "    def __getitem__(self, key):\n",
    "        if key in self._dict:\n",
    "            return self._dict[key]\n",
    "        else:\n",
    "            return self._dict['<UNK>']\n",
    "    \n",
    "    def __len__(self):\n",
    "        return len(self._dict)\n",
    "    \n",
    "    def __iter__(self):\n",
    "        return iter(self._dict)\n",
    "    \n",
    "    def __contains__(self, key):\n",
    "        return key in self._dict\n",
    "    \n",
    "    def __repr__(self):\n",
    "        return f\"{self.__class__.__name__}({self._dict})\"\n",
    "    \n",
    "    def decode(self, idx):\n",
    "        return self.rev[idx]"
   ]
  },
  {
   "cell_type": "code",
   "execution_count": 26,
   "id": "4f54cc8d",
   "metadata": {},
   "outputs": [
    {
     "data": {
      "text/plain": [
       "Vocab({' ': 0, '!': 1, ',': 2, '-': 3, '.': 4, ':': 5, ';': 6, '<END>': 7, '<PAD>': 8, '<START>': 9, '?': 10, 'A': 11, 'B': 12, 'C': 13, 'D': 14, 'E': 15, 'F': 16, 'G': 17, 'H': 18, 'I': 19, 'K': 20, 'L': 21, 'M': 22, 'N': 23, 'O': 24, 'P': 25, 'Q': 26, 'R': 27, 'S': 28, 'T': 29, 'U': 30, 'V': 31, 'W': 32, 'X': 33, 'Y': 34, '[': 35, ']': 36, 'a': 37, 'b': 38, 'c': 39, 'd': 40, 'e': 41, 'f': 42, 'g': 43, 'h': 44, 'i': 45, 'j': 46, 'k': 47, 'l': 48, 'm': 49, 'n': 50, 'o': 51, 'p': 52, 'q': 53, 'r': 54, 's': 55, 't': 56, 'u': 57, 'v': 58, 'w': 59, 'x': 60, 'y': 61, '—': 62, '’': 63, '“': 64, '<UNK>': 65})"
      ]
     },
     "execution_count": 26,
     "metadata": {},
     "output_type": "execute_result"
    }
   ],
   "source": [
    "train_vocab = Vocab(list(sorted(lm.vocab.counts.keys())))\n",
    "train_vocab"
   ]
  },
  {
   "cell_type": "code",
   "execution_count": 27,
   "id": "ee8f8318",
   "metadata": {},
   "outputs": [],
   "source": [
    "def encode(sent, vocab=train_vocab):\n",
    "    return np.array([vocab[w] for w in sent])\n",
    "\n",
    "def evaluate(y_test, y_test_pred):\n",
    "    # evaluate\n",
    "    bleu = []\n",
    "    perplexity = []\n",
    "    y_perplexity = []\n",
    "    for i in range(len(y_test)):\n",
    "        bleu.append(utils.bleu_score([y_test[i]], y_test_pred[i], n=2))\n",
    "        perplexity.append(utils.perplexity(encode(y_test_pred[i])))\n",
    "        y_perplexity.append(utils.perplexity(encode(y_test[i])))\n",
    "    return { \"bleu2\": np.mean(bleu), \"perplexity\": np.mean(perplexity), \"true_perplexity\": np.mean(y_perplexity) }"
   ]
  },
  {
   "cell_type": "code",
   "execution_count": 28,
   "id": "d2816e0a",
   "metadata": {},
   "outputs": [
    {
     "data": {
      "text/plain": [
       "[' f helot’euo.Ano',\n",
       " ' d MALCDUFF.Ther',\n",
       " 'rrendo o MACDUF.',\n",
       " '<PAD><PAD><PAD><PAD><PAD><PAD><PAD><PAD><PAD><PAD><PAD><PAD><PAD><PAD><PAD><PAD>',\n",
       " '<PAD><PAD><PAD><PAD><PAD><PAD><PAD><PAD><PAD><PAD><PAD><PAD><PAD><PAD><PAD><PAD>',\n",
       " 'is seror irr ng ',\n",
       " 'ertl vet.Thaleco',\n",
       " 'nfe’lit f MACDri',\n",
       " 'whielorin, d Wiv',\n",
       " 'cked, ROSer WITH',\n",
       " 'd ouds but bthy ',\n",
       " 'shit y Madicenk ',\n",
       " 'er lod ar he hyr',\n",
       " 'e, ceritoth.LACO',\n",
       " 'teuoue: mapllanq',\n",
       " ' he?<END><PAD><PAD><PAD><PAD><PAD><PAD><PAD><PAD><PAD><PAD><PAD>',\n",
       " ' fitet d y M.’y ',\n",
       " ' meathe kes iean',\n",
       " 'MALathinee, cas,',\n",
       " 'WIRSECH.]<END><PAD><PAD><PAD><PAD><PAD><PAD>',\n",
       " 'rvare, blllou Kn',\n",
       " 'okeud il;—R.Shin',\n",
       " 'ntew m-beteplll ',\n",
       " 'y, MACBETir ary ',\n",
       " 'abllllin BEThend',\n",
       " 'hinqumal MACORD ',\n",
       " 'rth wigacok! han',\n",
       " '’le ERERend ntel',\n",
       " 'outand Wher muf.',\n",
       " 'e MADURD.Whierer',\n",
       " 'no IRDY berst.WI',\n",
       " 'cofure blang We ',\n",
       " 's hasent, MACDY ',\n",
       " 'buend.NN.BEnt ks',\n",
       " '<END><PAD><PAD><PAD><PAD><PAD><PAD><PAD><PAD><PAD><PAD><PAD><PAD><PAD><PAD><PAD>',\n",
       " 'nteunes pe s y t',\n",
       " '<PAD><PAD><PAD><PAD><PAD><PAD><PAD><PAD><PAD><PAD><PAD><PAD><PAD><PAD><PAD><PAD>',\n",
       " 's wag anthe WITE',\n",
       " '.Ge t.ACBETCBENT',\n",
       " 's r We tblo bll ',\n",
       " 'unds acast for w',\n",
       " '<PAD><PAD><PAD><PAD><PAD><PAD><PAD><PAD><PAD><PAD><PAD><PAD><PAD><PAD><PAD><PAD>',\n",
       " 'rcunth, mos acok',\n",
       " 'ere m.Whamyount ',\n",
       " 't.MACONNQURSSTHa',\n",
       " 'njudennt.TH.NCHI',\n",
       " ' oxe t IT Toundy',\n",
       " ', IROS.NOX.MACBE',\n",
       " ' gs MANDY DY MAC',\n",
       " 'M.WIROX.<END><PAD><PAD><PAD><PAD><PAD><PAD><PAD>',\n",
       " ' me bes canoy h ',\n",
       " ' ilivandacr MAN.',\n",
       " 'nge cbbicbe ig t',\n",
       " 's mer MACBETH.Pr',\n",
       " 'H.T ECBETH.]<END><PAD><PAD><PAD>',\n",
       " ' MAROSTHal, isth',\n",
       " 'or het.Yeshe’sse',\n",
       " 'maut MACACBAll M',\n",
       " 't acbo whentamil',\n",
       " 'Whar MET alit Ma',\n",
       " 'ilodenquncaisct ',\n",
       " 'o M.STConthinous',\n",
       " ' ET ERSSOLANQUFF',\n",
       " 'en de dADYocbe.H',\n",
       " '<END><PAD><PAD><PAD><PAD><PAD><PAD><PAD><PAD><PAD><PAD><PAD><PAD><PAD><PAD><PAD>',\n",
       " 'd wo beelerat.Wh',\n",
       " '<PAD><PAD><PAD><PAD><PAD><PAD><PAD><PAD><PAD><PAD><PAD><PAD><PAD><PAD><PAD><PAD>',\n",
       " ', fatenode MADon',\n",
       " 'my Sitigeretea w',\n",
       " 'of handy r WITH.',\n",
       " 'sw! Wharing tel ',\n",
       " ' he, MAl ang MUF',\n",
       " 'bes Wo, NQUFIRET',\n",
       " 't ACBe, Whelcl a',\n",
       " 'r WIntairvar It ',\n",
       " 'hevaw MACBExe my',\n",
       " 'r ant wisheknoow',\n",
       " 'acel t MACDY k y',\n",
       " 'nqund Myo u a we',\n",
       " ' w s LMANDY he G',\n",
       " ' Gorm Wher a ave',\n",
       " '<PAD><PAD><PAD><PAD><PAD><PAD><PAD><PAD><PAD><PAD><PAD><PAD><PAD><PAD><PAD><PAD>',\n",
       " ' MACH.BEngant. a',\n",
       " 'ind tht, athoest',\n",
       " 'n Munto My, loek',\n",
       " 'r.T MACBACDiaris',\n",
       " 'outent.TCHIROLCD',\n",
       " 's that Whait he ',\n",
       " 'caishe he Mate M',\n",
       " 'er mous s WIROTH',\n",
       " 's w Githamy atho',\n",
       " 'rie wes Whagunqu',\n",
       " 'r cbe.Iffrerider',\n",
       " 'sis MANNNo, gler',\n",
       " 'youst tcok ge MA',\n",
       " 's k!—R.NCH.TCBE.',\n",
       " 'ds LACH.H.BETH.N',\n",
       " 'unsaverit LMACBE',\n",
       " 'at my he Welist ',\n",
       " '<PAD><PAD><PAD><PAD><PAD><PAD><PAD><PAD><PAD><PAD><PAD><PAD><PAD><PAD><PAD><PAD>',\n",
       " 'ghits goder godo',\n",
       " '<PAD><PAD><PAD><PAD><PAD><PAD><PAD><PAD><PAD><PAD><PAD><PAD><PAD><PAD><PAD><PAD>',\n",
       " 'har THe ivey g W',\n",
       " ', amy MACDExe ee',\n",
       " ' cbanthit MURDY ',\n",
       " 'eus Lacoor Mysin',\n",
       " 'tleistis THITH.“',\n",
       " 'chertoungeay WIs',\n",
       " ', gout.Nandor bt',\n",
       " 'mur.ACBECBERD we',\n",
       " 'rt, r M.Whaielan',\n",
       " 'eubthat d LACBER',\n",
       " 'r ishentath S.BE',\n",
       " '<PAD><PAD><PAD><PAD><PAD><PAD><PAD><PAD><PAD><PAD><PAD><PAD><PAD><PAD><PAD><PAD>',\n",
       " ' WITCDETH.TH.Whe',\n",
       " 's andavatat diso',\n",
       " 'nt MAN.We owe co',\n",
       " 'liardencbel r My',\n",
       " '<PAD><PAD><PAD><PAD><PAD><PAD><PAD><PAD><PAD><PAD><PAD><PAD><PAD><PAD><PAD><PAD>',\n",
       " 'LExidl’er so MAC',\n",
       " 'te LLAD d, LADUF',\n",
       " ' bowille, rvelit',\n",
       " 'agome: se We!—Wo',\n",
       " 'huse M. MAs is.S',\n",
       " 'weshof.ANOLAN.Th',\n",
       " ' dstf tlacd de, ',\n",
       " 'allarel.[LALo Wh',\n",
       " ' w! MACBEnkinted',\n",
       " ' MANNTH.WIRSTH.L',\n",
       " ' oandy, Mungheey',\n",
       " 'g MANoecd WITH.R',\n",
       " '<PAD><PAD><PAD><PAD><PAD><PAD><PAD><PAD><PAD><PAD><PAD><PAD><PAD><PAD><PAD><PAD>',\n",
       " 'irs acbe res nit',\n",
       " 'vaisteeere marre',\n",
       " 'S.TH.H.’sis Weri',\n",
       " 'my e!—REneedy, s',\n",
       " ' tou My thanghad',\n",
       " 't re Mant g ay, ',\n",
       " 'ten IR.Thy ilor ',\n",
       " 'of h BExer Ex.ST',\n",
       " '<PAD><PAD><PAD><PAD><PAD><PAD><PAD><PAD><PAD><PAD><PAD><PAD><PAD><PAD><PAD><PAD>',\n",
       " 's whithisit se b',\n",
       " '<PAD><PAD><PAD><PAD><PAD><PAD><PAD><PAD><PAD><PAD><PAD><PAD><PAD><PAD><PAD><PAD>',\n",
       " 'y ht Knt celey M',\n",
       " 'RO want locbbsth',\n",
       " 'acbbitl; WI Ma M',\n",
       " '<PAD><PAD><PAD><PAD><PAD><PAD><PAD><PAD><PAD><PAD><PAD><PAD><PAD><PAD><PAD><PAD>',\n",
       " 'y ho Goorer GETH',\n",
       " ' Wh, Wewoosedo.’',\n",
       " 'r wisit MADETH.I',\n",
       " 's Kinod BExisthi',\n",
       " 'k DY Mathenokngu',\n",
       " ' Wery hounter: d',\n",
       " 'licbesanderunqur',\n",
       " ': Knorthr Wh t h',\n",
       " ', co ay MACACOSO',\n",
       " 'fote Wher MACH.T',\n",
       " 'care s wodyoring',\n",
       " 'seront chater MA',\n",
       " ' al no.H.DURDY w',\n",
       " '<END><PAD><PAD><PAD><PAD><PAD><PAD><PAD><PAD><PAD><PAD><PAD><PAD><PAD><PAD><PAD>',\n",
       " ' hounthedsintheu',\n",
       " 'the t NNQUF.N. t',\n",
       " 'mament Wig brete',\n",
       " ' t.Tis MACBEntha',\n",
       " 'oy, METHourery W',\n",
       " 'it tefff.Whoulll',\n",
       " 'MADUFFFITH.[DY w',\n",
       " '<PAD><PAD><PAD><PAD><PAD><PAD><PAD><PAD><PAD><PAD><PAD><PAD><PAD><PAD><PAD><PAD>',\n",
       " 'erde t y, WI.Who',\n",
       " 'r e onthee’l’y, ']"
      ]
     },
     "execution_count": 28,
     "metadata": {},
     "output_type": "execute_result"
    }
   ],
   "source": [
    "list(map(lambda x: \"\".join(x), y_test_pred))"
   ]
  },
  {
   "cell_type": "code",
   "execution_count": 29,
   "id": "e14722d1",
   "metadata": {},
   "outputs": [
    {
     "name": "stderr",
     "output_type": "stream",
     "text": [
      "/home/arunavgupta/anaconda3/envs/huggingface/lib/python3.8/site-packages/nltk/translate/bleu_score.py:552: UserWarning: \n",
      "The hypothesis contains 0 counts of 2-gram overlaps.\n",
      "Therefore the BLEU score evaluates to 0, independently of\n",
      "how many N-gram overlaps of lower order it contains.\n",
      "Consider using lower n-gram order or use SmoothingFunction()\n",
      "  warnings.warn(_msg)\n"
     ]
    },
    {
     "data": {
      "text/plain": [
       "{'bleu2': 0.20626770992708185,\n",
       " 'perplexity': 12.797222003982853,\n",
       " 'true_perplexity': 12.526818139778857}"
      ]
     },
     "execution_count": 29,
     "metadata": {},
     "output_type": "execute_result"
    }
   ],
   "source": [
    "evaluate(y_test, y_test_pred)"
   ]
  },
  {
   "cell_type": "markdown",
   "id": "1037e312",
   "metadata": {},
   "source": [
    "## Laplacian Kernel"
   ]
  },
  {
   "cell_type": "code",
   "execution_count": 30,
   "id": "5fc851f4",
   "metadata": {},
   "outputs": [],
   "source": [
    "# replace each token with its index in the vocab\n",
    "X_train_enc = np.array([encode(sent) for sent in X_train])\n",
    "y_train_enc = np.array([encode(sent) for sent in y_train])\n",
    "X_test_enc = np.array([encode(sent) for sent in X_test])\n",
    "y_test_enc = np.array([encode(sent) for sent in y_test])"
   ]
  },
  {
   "cell_type": "code",
   "execution_count": 31,
   "id": "b9a18f3e",
   "metadata": {},
   "outputs": [],
   "source": [
    "# one hot encode the data\n",
    "X_train_enc = np.eye(len(train_vocab))[X_train_enc]\n",
    "X_train_enc = X_train_enc.reshape(X_train_enc.shape[0], X_train_enc.shape[1]*X_train_enc.shape[2])\n",
    "y_train_enc = np.eye(len(train_vocab))[y_train_enc]\n",
    "y_train_enc = y_train_enc.reshape(y_train_enc.shape[0], y_train_enc.shape[1]*y_train_enc.shape[2])\n",
    "X_test_enc = np.eye(len(train_vocab))[X_test_enc]\n",
    "X_test_enc = X_test_enc.reshape(X_test_enc.shape[0], X_test_enc.shape[1]*X_test_enc.shape[2])\n",
    "y_test_enc = np.eye(len(train_vocab))[y_test_enc]\n",
    "y_test_enc = y_test_enc.reshape(y_test_enc.shape[0], y_test_enc.shape[1]*y_test_enc.shape[2])"
   ]
  },
  {
   "cell_type": "code",
   "execution_count": 32,
   "id": "2539ddad",
   "metadata": {},
   "outputs": [],
   "source": [
    "from functools import partial"
   ]
  },
  {
   "cell_type": "code",
   "execution_count": 33,
   "id": "85a3b4e0",
   "metadata": {},
   "outputs": [],
   "source": [
    "next_char_train = y_train_enc[:, :len(train_vocab)]\n",
    "next_char_test = y_test_enc[:, :len(train_vocab)]"
   ]
  },
  {
   "cell_type": "code",
   "execution_count": 34,
   "id": "3bcb9ea8",
   "metadata": {},
   "outputs": [],
   "source": [
    "# train a laplace kernel\n",
    "lam = 1\n",
    "kernel = partial(utils.K_laplace_mat, gamma=0.025)\n",
    "\n",
    "K = kernel(X_train_enc, X_train_enc)\n",
    "alpha_hat = np.linalg.solve(K + lam * np.eye(K.shape[0]), next_char_train)"
   ]
  },
  {
   "cell_type": "code",
   "execution_count": 35,
   "id": "1c0c91a6",
   "metadata": {},
   "outputs": [
    {
     "data": {
      "text/plain": [
       "array([[ 2.68798410e-01,  0.00000000e+00,  3.57026525e-02, ...,\n",
       "         3.18385549e-02,  0.00000000e+00,  0.00000000e+00],\n",
       "       [ 8.03665828e-02,  0.00000000e+00, -2.04314102e-02, ...,\n",
       "        -7.94758610e-03,  0.00000000e+00,  0.00000000e+00],\n",
       "       [ 2.38647201e-01,  0.00000000e+00,  5.66607509e-03, ...,\n",
       "        -1.67007651e-02,  0.00000000e+00,  0.00000000e+00],\n",
       "       ...,\n",
       "       [ 5.27604748e-02,  0.00000000e+00,  7.56617279e-03, ...,\n",
       "        -1.09487379e-02,  0.00000000e+00,  0.00000000e+00],\n",
       "       [ 2.81853396e-01,  0.00000000e+00,  2.82378089e-02, ...,\n",
       "         2.85882678e-02,  0.00000000e+00,  0.00000000e+00],\n",
       "       [ 6.63803125e-02,  0.00000000e+00, -1.34030998e-02, ...,\n",
       "         9.72784103e-05,  0.00000000e+00,  0.00000000e+00]])"
      ]
     },
     "execution_count": 35,
     "metadata": {},
     "output_type": "execute_result"
    }
   ],
   "source": [
    "yhat = kernel(X_test_enc, X_train_enc) @ alpha_hat\n",
    "yhat"
   ]
  },
  {
   "cell_type": "code",
   "execution_count": 36,
   "id": "8091f770",
   "metadata": {},
   "outputs": [
    {
     "data": {
      "text/plain": [
       "0.30994152046783624"
      ]
     },
     "execution_count": 36,
     "metadata": {},
     "output_type": "execute_result"
    }
   ],
   "source": [
    "(next_char_test.argmax(axis=1) == yhat.argmax(axis=1)).mean()"
   ]
  },
  {
   "cell_type": "code",
   "execution_count": 37,
   "id": "1f5288a0",
   "metadata": {},
   "outputs": [
    {
     "data": {
      "text/plain": [
       "<matplotlib.image.AxesImage at 0x7f4bcc4d3f40>"
      ]
     },
     "execution_count": 37,
     "metadata": {},
     "output_type": "execute_result"
    },
    {
     "data": {
      "image/png": "[encoded data removed]",
      "text/plain": [
       "<Figure size 432x288 with 1 Axes>"
      ]
     },
     "metadata": {
      "needs_background": "light"
     },
     "output_type": "display_data"
    }
   ],
   "source": [
    "max_index = np.argmax(yhat, axis=1)\n",
    "yhat[np.arange(yhat.shape[0]), max_index] = 1\n",
    "yhat[yhat != 1] = 0\n",
    "plt.imshow(yhat, aspect=0.1)"
   ]
  },
  {
   "cell_type": "code",
   "execution_count": 38,
   "id": "c968d5b2",
   "metadata": {},
   "outputs": [
    {
     "data": {
      "text/plain": [
       "<matplotlib.image.AxesImage at 0x7f4bcc05e670>"
      ]
     },
     "execution_count": 38,
     "metadata": {},
     "output_type": "execute_result"
    },
    {
     "data": {
      "image/png": "[encoded data removed]",
      "text/plain": [
       "<Figure size 432x288 with 1 Axes>"
      ]
     },
     "metadata": {
      "needs_background": "light"
     },
     "output_type": "display_data"
    }
   ],
   "source": [
    "# plot next_char_train, with a good aspect ratio\n",
    "plt.imshow(next_char_test, aspect=0.1)"
   ]
  },
  {
   "cell_type": "code",
   "execution_count": 39,
   "id": "3d8a7fa1",
   "metadata": {},
   "outputs": [
    {
     "data": {
      "text/plain": [
       "0.8123167155425219"
      ]
     },
     "execution_count": 39,
     "metadata": {},
     "output_type": "execute_result"
    }
   ],
   "source": [
    "yhat_train = kernel(X_train_enc, X_train_enc) @ alpha_hat\n",
    "\n",
    "(next_char_train.argmax(axis=1) == yhat_train.argmax(axis=1)).mean()"
   ]
  },
  {
   "cell_type": "code",
   "execution_count": 40,
   "id": "321951ea",
   "metadata": {},
   "outputs": [],
   "source": [
    "def generate_text_kernel(kernel, alpha_hat, X, z, length=16):\n",
    "    text = []\n",
    "    for i in range(length):\n",
    "        yhat = kernel(X, z) @ alpha_hat\n",
    "        # decode the text\n",
    "        text.append([train_vocab.decode(y) for y in np.argmax(yhat, axis=1)])\n",
    "        # move the window forward\n",
    "        X = np.concatenate([X[:, len(train_vocab):], yhat], axis=1)\n",
    "    \n",
    "    transpose = list(zip(*text))\n",
    "    return transpose"
   ]
  },
  {
   "cell_type": "code",
   "execution_count": 41,
   "id": "bd50ce81",
   "metadata": {},
   "outputs": [],
   "source": [
    "generated_test = generate_text_kernel(kernel, alpha_hat, X_test_enc, X_train_enc, length=16)"
   ]
  },
  {
   "cell_type": "code",
   "execution_count": 42,
   "id": "fc8a7309",
   "metadata": {},
   "outputs": [
    {
     "data": {
      "text/plain": [
       "['    t  n  <PAD><PAD><PAD>  <PAD>',\n",
       " 'ue      o    <PAD><PAD> ',\n",
       " '    n  ote  <PAD>  <PAD>',\n",
       " '<PAD><PAD><PAD><PAD><PAD><PAD><PAD><PAD><PAD><PAD><PAD><PAD><PAD><PAD><PAD><PAD>',\n",
       " '<PAD><PAD><PAD><PAD><PAD><PAD><PAD><PAD><PAD><PAD><PAD><PAD><PAD><PAD><PAD><PAD>',\n",
       " '<END>o<PAD> e e  <PAD> e<PAD> <PAD><PAD>',\n",
       " ' ed  e r d<PAD>  <PAD><PAD><PAD>',\n",
       " '  o  t   e   <PAD><PAD><PAD>',\n",
       " ' endoet <PAD>o e   <PAD>',\n",
       " 'nd  ot      t   ',\n",
       " ' oedeo eoo e   <PAD>',\n",
       " 'l  o    t <PAD><PAD> <PAD><PAD><PAD>',\n",
       " 'eee <PAD><PAD>  o<PAD><PAD> <PAD><PAD> <PAD>',\n",
       " 'od  t n  et <PAD><PAD><PAD><PAD>',\n",
       " '  t o  oo<PAD> <PAD><PAD> <PAD><PAD>',\n",
       " ' <PAD>  <PAD>e         <PAD>',\n",
       " '  a    e <PAD><PAD>  <PAD><PAD><PAD>',\n",
       " '  o  oe  e      ',\n",
       " 'to   orde. e  <PAD><PAD>',\n",
       " 'eeet e   <PAD> e  <PAD><PAD>',\n",
       " 'uete     <PAD> <PAD><PAD><PAD><PAD><PAD>',\n",
       " ' s  o n  et     ',\n",
       " '   s           <PAD>',\n",
       " ' ed  aeo  e   <PAD><PAD>',\n",
       " 'ant          <PAD>  ',\n",
       " 'o   oa o  e   <PAD><PAD>',\n",
       " 'rd  ot   t <PAD><PAD> <PAD><PAD>',\n",
       " ' ete     <PAD><PAD><PAD><PAD><PAD><PAD><PAD>',\n",
       " ' ns    de e    <PAD>',\n",
       " 'ols  e    e   <PAD> ',\n",
       " '  ot   <PAD> e <PAD><PAD> <PAD><PAD>',\n",
       " 'nd  eee       <PAD> ',\n",
       " '  o   on    <PAD>  <PAD>',\n",
       " 'ae    o      <PAD><PAD><PAD>',\n",
       " '  o  e<PAD><PAD>e<PAD>  <PAD><PAD> <PAD>',\n",
       " 'u  e         <PAD>  ',\n",
       " '<PAD><PAD><PAD><PAD><PAD><PAD><PAD><PAD><PAD><PAD><PAD><PAD><PAD><PAD><PAD><PAD>',\n",
       " '    on <PAD>et <PAD><PAD> <PAD><PAD>',\n",
       " '  o   s   <PAD> <PAD> <PAD><PAD>',\n",
       " '   eo  ee  <PAD><PAD><PAD> <PAD>',\n",
       " '     t       <PAD>  ',\n",
       " '<PAD><PAD><PAD><PAD><PAD><PAD><PAD><PAD><PAD><PAD><PAD><PAD><PAD><PAD><PAD><PAD>',\n",
       " 'dno ere  <PAD> <PAD><PAD><PAD><PAD><PAD>',\n",
       " '  n     <PAD><PAD>   <PAD><PAD> ',\n",
       " ' et  d   <PAD> <PAD> <PAD><PAD><PAD>',\n",
       " ' e  h e        <PAD>',\n",
       " ' ee    <PAD> <PAD><PAD><PAD><PAD><PAD><PAD><PAD>',\n",
       " ' no e  rode   <PAD><PAD>',\n",
       " '   t     <PAD>o<PAD><PAD><PAD><PAD><PAD>',\n",
       " 'ne    e   <PAD>e  <PAD><PAD>',\n",
       " 'aet o     e<PAD> <PAD><PAD><PAD>',\n",
       " ' t   ot  <PAD><PAD>  <PAD><PAD><PAD>',\n",
       " ' n  d eo       <PAD>',\n",
       " '<PAD>  s<PAD><PAD>  <PAD>  <PAD><PAD><PAD><PAD><PAD>',\n",
       " '<PAD>oeoo   <PAD><PAD><PAD><PAD><PAD> <PAD><PAD>',\n",
       " 'o d e  <PAD>e e   <PAD><PAD>',\n",
       " 'ee<END> <PAD>  <PAD>  <PAD><PAD><PAD><PAD><PAD><PAD>',\n",
       " 'to de e o<PAD>  <PAD> <PAD><PAD>',\n",
       " 'an   t do   <PAD><PAD> <PAD>',\n",
       " ' o  no<PAD> <PAD><PAD>  <PAD> <PAD><PAD>',\n",
       " 'ee        <PAD><PAD><PAD><PAD><PAD><PAD>',\n",
       " '   ad     <PAD> <PAD><PAD> <PAD>',\n",
       " 'en          <PAD><PAD> <PAD>',\n",
       " 'ee  e o  <PAD>t <PAD><PAD><PAD><PAD>',\n",
       " '<END><PAD><PAD><PAD><PAD><PAD><PAD><PAD><PAD><PAD><PAD><PAD><PAD><PAD><PAD><PAD>',\n",
       " 't  e   o   <PAD> <PAD><PAD><PAD>',\n",
       " '<PAD><PAD><PAD><PAD><PAD><PAD><PAD><PAD><PAD><PAD><PAD><PAD><PAD><PAD><PAD><PAD>',\n",
       " 'oe   e de e   <PAD><PAD>',\n",
       " ' h  e  ode <PAD><PAD><PAD><PAD><PAD>',\n",
       " 'ol  on e. <PAD>  <PAD><PAD><PAD>',\n",
       " 'l  mt  <PAD>    <PAD><PAD><PAD><PAD>',\n",
       " '  e   n<PAD>o   <PAD><PAD><PAD><PAD>',\n",
       " '   tt  o    <PAD>  <PAD>',\n",
       " ' n  e  e   o   <PAD>',\n",
       " ' d  o d <PAD><PAD> <PAD><PAD> <PAD><PAD>',\n",
       " ' o  t e <PAD><PAD>  <PAD> <PAD><PAD>',\n",
       " 'o    t  <PAD> e    <PAD>',\n",
       " 'oed e  eo e     ',\n",
       " 'o      <PAD>e e<PAD> <PAD><PAD><PAD>',\n",
       " ' nel o<PAD><PAD> <PAD><PAD><PAD><PAD><PAD><PAD><PAD>',\n",
       " ' nd  e de      <PAD>',\n",
       " '<PAD><PAD><PAD><PAD><PAD><PAD><PAD><PAD><PAD><PAD><PAD><PAD><PAD><PAD><PAD><PAD>',\n",
       " 'dno ere  <PAD> <PAD><PAD><PAD><PAD><PAD>',\n",
       " ' e  o    oe e   ',\n",
       " '  o dro<PAD><PAD>   <PAD>   ',\n",
       " 'o  e  ode    <PAD><PAD> ',\n",
       " ' n    t do   <PAD><PAD> ',\n",
       " '      <PAD>oe<PAD> <PAD><PAD><PAD><PAD><PAD>',\n",
       " 'n    n  et r<PAD> <PAD><PAD>',\n",
       " '  d od  <PAD><PAD> <PAD> <PAD><PAD><PAD>',\n",
       " 'l  en  en   e<PAD>  ',\n",
       " '      oo   <PAD>  <PAD><PAD>',\n",
       " 'n   o d <PAD><PAD> <PAD><PAD> <PAD><PAD>',\n",
       " '<PAD>  s<PAD><PAD>  <PAD>  <PAD><PAD><PAD><PAD><PAD>',\n",
       " '<PAD>o er<PAD>  n <PAD><PAD><PAD><PAD><PAD><PAD>',\n",
       " '    ltoere  e   ',\n",
       " 'd ee  o <PAD> <PAD><PAD> <PAD><PAD><PAD>',\n",
       " 'nn     <PAD><PAD>e   <PAD><PAD><PAD>',\n",
       " 'et  e n  er <PAD><PAD><PAD><PAD>',\n",
       " '<PAD><PAD><PAD><PAD><PAD><PAD><PAD><PAD><PAD><PAD><PAD><PAD><PAD><PAD><PAD><PAD>',\n",
       " 'do de l r<PAD>d   <PAD><PAD>',\n",
       " '<PAD><PAD><PAD><PAD><PAD><PAD><PAD><PAD><PAD><PAD><PAD><PAD><PAD><PAD><PAD><PAD>',\n",
       " 'he n<PAD>e oo er <PAD><PAD><PAD>',\n",
       " '    o do<PAD> <PAD><PAD><PAD><PAD><PAD><PAD>',\n",
       " 'r   nt  nt   <PAD>  ',\n",
       " 'e o    <PAD> <PAD><PAD> <PAD><PAD><PAD><PAD>',\n",
       " 'tor  e  <PAD><PAD>  <PAD> <PAD><PAD>',\n",
       " 'e t n  <PAD>o <PAD><PAD><PAD><PAD> <PAD>',\n",
       " '   lt  n  e<PAD>   <PAD>',\n",
       " 'eon n ee e     <PAD>',\n",
       " 'r e  t n   o    ',\n",
       " 'enn e   <PAD><PAD>  <PAD><PAD><PAD><PAD>',\n",
       " '    d  er   <PAD>  <PAD>',\n",
       " '<PAD><PAD><PAD><PAD><PAD><PAD><PAD><PAD><PAD><PAD><PAD><PAD><PAD><PAD><PAD><PAD>',\n",
       " 'dno ere  <PAD> <PAD><PAD><PAD><PAD><PAD>',\n",
       " ' e e    e  <PAD> <PAD><PAD><PAD>',\n",
       " 'd  e   no   <PAD>   ',\n",
       " 'e n   n d   <PAD> <PAD> ',\n",
       " '<PAD><PAD><PAD><PAD><PAD><PAD><PAD><PAD><PAD><PAD><PAD><PAD><PAD><PAD><PAD><PAD>',\n",
       " 'to   re  <PAD><PAD><PAD><PAD><PAD><PAD><PAD>',\n",
       " 'nd  a  <PAD>n   <PAD>  <PAD>',\n",
       " 'd e   e    <PAD><PAD><PAD><PAD><PAD>',\n",
       " 'an<PAD>  <PAD>o   <PAD>  <PAD><PAD><PAD>',\n",
       " ' de       <PAD><PAD> <PAD><PAD><PAD>',\n",
       " 'w  o  e  o   o<PAD> ',\n",
       " 'e t on    <PAD><PAD><PAD><PAD><PAD><PAD>',\n",
       " 'ea<PAD>  tt      <PAD>  ',\n",
       " '  o     e   <PAD><PAD>  ',\n",
       " 'ea<PAD>  tt      <PAD>  ',\n",
       " 'd  o    <PAD>eo  <PAD><PAD><PAD>',\n",
       " 'nt  e    e      ',\n",
       " '<PAD><PAD><PAD><PAD><PAD><PAD><PAD><PAD><PAD><PAD><PAD><PAD><PAD><PAD><PAD><PAD>',\n",
       " 'to   re  <PAD><PAD><PAD><PAD><PAD><PAD><PAD>',\n",
       " 'nd     <PAD>de   <PAD><PAD><PAD>',\n",
       " ' <PAD><PAD>e<PAD><PAD>n <PAD><PAD><PAD><PAD><PAD><PAD><PAD><PAD>',\n",
       " 'n eoo    n o  <PAD><PAD>',\n",
       " 't  e ee e       ',\n",
       " '   do  l   <PAD><PAD>  <PAD>',\n",
       " 'o d et n  e<PAD><PAD>  <PAD>',\n",
       " '   oeet n <PAD><PAD> <PAD><PAD><PAD>',\n",
       " '<PAD><PAD><PAD><PAD><PAD><PAD><PAD><PAD><PAD><PAD><PAD><PAD><PAD><PAD><PAD><PAD>',\n",
       " 'w  rnn  et   <PAD>  ',\n",
       " '<PAD><PAD><PAD><PAD><PAD><PAD><PAD><PAD><PAD><PAD><PAD><PAD><PAD><PAD><PAD><PAD>',\n",
       " 'a d  n    e     ',\n",
       " ' oe  ot o<PAD>     <PAD>',\n",
       " 'lr de l r<PAD>d   <PAD><PAD>',\n",
       " '<PAD><PAD><PAD><PAD><PAD><PAD><PAD><PAD><PAD><PAD><PAD><PAD><PAD><PAD><PAD><PAD>',\n",
       " ' d       e   <PAD>  ',\n",
       " '  o   e<PAD>  <PAD> <PAD> <PAD><PAD>',\n",
       " '    o<PAD>   t <PAD><PAD><PAD><PAD><PAD>',\n",
       " 'a   e  <PAD>t e  <PAD><PAD><PAD>',\n",
       " 'be   o   <PAD><PAD>   <PAD><PAD>',\n",
       " '  oa   e <PAD><PAD><PAD><PAD><PAD><PAD><PAD>',\n",
       " 'l  o<PAD>sr n e<PAD><PAD><PAD><PAD><PAD>',\n",
       " ' t  o e   t    <PAD>',\n",
       " '   o   n   <PAD>   <PAD>',\n",
       " '    o          <PAD>',\n",
       " 'eo   ee    e   <PAD>',\n",
       " 't  e  ene  <PAD>  <PAD><PAD>',\n",
       " '  t ,   eo  e   ',\n",
       " 'oed  t e  <PAD>  <PAD><PAD><PAD>',\n",
       " ' t ere  et <PAD><PAD><PAD><PAD><PAD>',\n",
       " 'd eno  et <PAD><PAD> <PAD><PAD><PAD>',\n",
       " 'l  dt e<PAD> e   <PAD>  ',\n",
       " '  d  e<PAD>ee   <PAD><PAD> <PAD>',\n",
       " 'n eooe  <PAD> e<PAD> <PAD><PAD><PAD>',\n",
       " 'a   o   e     <PAD><PAD>',\n",
       " 'oo d   toe e   <PAD>',\n",
       " '<PAD><PAD><PAD><PAD><PAD><PAD><PAD><PAD><PAD><PAD><PAD><PAD><PAD><PAD><PAD><PAD>',\n",
       " '   dn  et  <PAD>    ',\n",
       " 'n t e o t <PAD><PAD>  <PAD><PAD>']"
      ]
     },
     "execution_count": 42,
     "metadata": {},
     "output_type": "execute_result"
    }
   ],
   "source": [
    "list(map(lambda x: \"\".join(x), generated_test))"
   ]
  },
  {
   "cell_type": "code",
   "execution_count": 43,
   "id": "2a1733ae",
   "metadata": {},
   "outputs": [
    {
     "data": {
      "text/plain": [
       "{'bleu2': 0.21372329023610848,\n",
       " 'perplexity': 6.919622905476647,\n",
       " 'true_perplexity': 12.526818139778857}"
      ]
     },
     "execution_count": 43,
     "metadata": {},
     "output_type": "execute_result"
    }
   ],
   "source": [
    "evaluate(y_test, generated_test)"
   ]
  },
  {
   "cell_type": "markdown",
   "id": "5ff9b35a",
   "metadata": {},
   "source": [
    "## RFM"
   ]
  },
  {
   "cell_type": "code",
   "execution_count": 44,
   "id": "0da9152d",
   "metadata": {},
   "outputs": [
    {
     "name": "stderr",
     "output_type": "stream",
     "text": [
      "/home/arunavgupta/Documents/UCSD/ml-theory-capstone/src/utils.py:103: RuntimeWarning: divide by zero encountered in true_divide\n",
      "  K = K / dist\n"
     ]
    }
   ],
   "source": [
    "alpha, M, _ = train_rfm(X_train_enc, next_char_train)"
   ]
  },
  {
   "cell_type": "code",
   "execution_count": 45,
   "id": "ad2ddeb7",
   "metadata": {},
   "outputs": [],
   "source": [
    "y_train_pred = utils.K_M(X_train_enc, X_train_enc, M, L=1.0) @ alpha"
   ]
  },
  {
   "cell_type": "code",
   "execution_count": 46,
   "id": "94baa32f-2983-4618-89b4-3a12d6d3220a",
   "metadata": {},
   "outputs": [
    {
     "data": {
      "text/plain": [
       "0.0009125162458599272"
      ]
     },
     "execution_count": 46,
     "metadata": {},
     "output_type": "execute_result"
    }
   ],
   "source": [
    "utils.mse(y_train_pred, next_char_train)\n"
   ]
  },
  {
   "cell_type": "code",
   "execution_count": 47,
   "id": "c27c487f-cc33-4fe3-914d-f3e84c9e11b0",
   "metadata": {},
   "outputs": [
    {
     "data": {
      "text/plain": [
       "<matplotlib.image.AxesImage at 0x7f4bcbcc4790>"
      ]
     },
     "execution_count": 47,
     "metadata": {},
     "output_type": "execute_result"
    },
    {
     "data": {
      "image/png": "[encoded data removed]",
      "text/plain": [
       "<Figure size 1152x648 with 2 Axes>"
      ]
     },
     "metadata": {
      "needs_background": "light"
     },
     "output_type": "display_data"
    }
   ],
   "source": [
    "fig, ax = plt.subplots(ncols=2, figsize=(16, 9))\n",
    "ar = (y_train_pred.shape[1]/y_train_pred.shape[0])\n",
    "ax[0].imshow(utils.softmax(y_train_pred, axis=1), aspect=ar)\n",
    "ax[1].imshow(next_char_train, aspect=ar)"
   ]
  },
  {
   "cell_type": "code",
   "execution_count": 48,
   "id": "370623b4-f13a-423a-8251-19f4557c632d",
   "metadata": {},
   "outputs": [],
   "source": [
    "y_test_pred = utils.K_M(X_test_enc, X_train_enc, M, L=1.0) @ alpha"
   ]
  },
  {
   "cell_type": "code",
   "execution_count": 49,
   "id": "c1f84c29-5902-4522-97d5-554793e7c3d3",
   "metadata": {},
   "outputs": [
    {
     "data": {
      "text/plain": [
       "0.014336522288874193"
      ]
     },
     "execution_count": 49,
     "metadata": {},
     "output_type": "execute_result"
    }
   ],
   "source": [
    "utils.mse(y_test_pred, next_char_test)"
   ]
  },
  {
   "cell_type": "code",
   "execution_count": 50,
   "id": "fba95d5c-2df5-455f-afc7-d3675106b975",
   "metadata": {},
   "outputs": [
    {
     "data": {
      "text/plain": [
       "<matplotlib.image.AxesImage at 0x7f4bcb87d250>"
      ]
     },
     "execution_count": 50,
     "metadata": {},
     "output_type": "execute_result"
    },
    {
     "data": {
      "image/png": "[encoded data removed]",
      "text/plain": [
       "<Figure size 1152x648 with 2 Axes>"
      ]
     },
     "metadata": {
      "needs_background": "light"
     },
     "output_type": "display_data"
    }
   ],
   "source": [
    "fig, ax = plt.subplots(ncols=2, figsize=(16, 9))\n",
    "ar = (y_test_pred.shape[1]/y_test_pred.shape[0])\n",
    "y_test_argmax_ohc = np.eye(len(train_vocab))[y_test_pred.argmax(axis=1)]\n",
    "ax[0].imshow(y_test_argmax_ohc, aspect=ar)\n",
    "ax[1].imshow(next_char_test, aspect=ar)"
   ]
  },
  {
   "cell_type": "code",
   "execution_count": 51,
   "id": "e89bd672",
   "metadata": {},
   "outputs": [
    {
     "data": {
      "text/plain": [
       "<matplotlib.colorbar.Colorbar at 0x7f4bcac94790>"
      ]
     },
     "execution_count": 51,
     "metadata": {},
     "output_type": "execute_result"
    },
    {
     "data": {
      "image/png": "[encoded data removed]",
      "text/plain": [
       "<Figure size 432x288 with 2 Axes>"
      ]
     },
     "metadata": {
      "needs_background": "light"
     },
     "output_type": "display_data"
    }
   ],
   "source": [
    "plt.imshow(y_test_argmax_ohc - next_char_test, aspect=ar)\n",
    "plt.colorbar()"
   ]
  },
  {
   "cell_type": "code",
   "execution_count": 52,
   "id": "85480b88",
   "metadata": {},
   "outputs": [],
   "source": [
    "from functools import partial"
   ]
  },
  {
   "cell_type": "code",
   "execution_count": 53,
   "id": "0c7c9568-7c0b-4b04-9917-442c65044393",
   "metadata": {},
   "outputs": [],
   "source": [
    "kernel_rfm = partial(utils.K_M, M=M, L=1.0)\n",
    "\n",
    "gen_test_rfm = generate_text_kernel(kernel_rfm, alpha, X_test_enc, X_train_enc, length=16)"
   ]
  },
  {
   "cell_type": "code",
   "execution_count": 54,
   "id": "62256fd2",
   "metadata": {},
   "outputs": [
    {
     "data": {
      "text/plain": [
       "{'bleu2': 0.1967504710992221,\n",
       " 'perplexity': 12.090794674243803,\n",
       " 'true_perplexity': 12.526818139778857}"
      ]
     },
     "execution_count": 54,
     "metadata": {},
     "output_type": "execute_result"
    }
   ],
   "source": [
    "evaluate(y_test, gen_test_rfm)"
   ]
  },
  {
   "cell_type": "code",
   "execution_count": 59,
   "id": "116f71c2",
   "metadata": {},
   "outputs": [
    {
     "data": {
      "text/plain": [
       "['ooe i De veDe ho',\n",
       " 'nntrere hocc er ',\n",
       " 'ls ti pone woc, ',\n",
       " '<PAD><PAD><PAD><PAD><PAD><PAD><PAD><PAD><PAD><PAD><PAD><PAD><PAD><PAD><PAD><PAD>',\n",
       " '<PAD><PAD><PAD><PAD><PAD><PAD><PAD><PAD><PAD><PAD><PAD><PAD><PAD><PAD><PAD><PAD>',\n",
       " 'douqere th eoDtD',\n",
       " 'riy  te.<END>eer ioc',\n",
       " 't eo the toe .oD',\n",
       " ' endter houc oe ',\n",
       " 'iditond hoc, wo ',\n",
       " 'ioeduo eo] Do.yh',\n",
       " 'l toev te poue h',\n",
       " 'eteris  oo  oD f',\n",
       " 'oc<END> son<END> io v er',\n",
       " ' poip vochoee po',\n",
       " ', ioet eekteDe p',\n",
       " ' ianc oe pote po',\n",
       " ' dond ee ioce pr',\n",
       " 'toes oo pout poc',\n",
       " 'peet te sore poc',\n",
       " 'seth ih.v t eec ',\n",
       " 'is  kocdoerheDe ',\n",
       " 'l  nq houv hecvo',\n",
       " 'oekthee, vecc ir',\n",
       " 'eit veDv Io doee',\n",
       " 'oes or h.De peDt',\n",
       " 'sd toud rerp te ',\n",
       " 'lerit. yoDt te t',\n",
       " 'anv sond oo poee',\n",
       " 'ik, qe t ie .o<END>v',\n",
       " ' wo<END>e hoce pe h ',\n",
       " 'r’i ooes heec te',\n",
       " 'st, soon ooch ee',\n",
       " 'sees ioDv tr eot',\n",
       " '  o tert Dh po v',\n",
       " 'uith  wiev teep ',\n",
       " '<PAD><PAD><PAD><PAD><PAD><PAD><PAD><PAD><PAD><PAD><PAD><PAD><PAD><PAD><PAD><PAD>',\n",
       " ' do pn<END>DethDDt D',\n",
       " 'iset aie toec oo',\n",
       " 'l aeecfoe toDt p',\n",
       " '  oo teettheeo q',\n",
       " '<PAD><PAD><PAD><PAD><PAD><PAD><PAD><PAD><PAD><PAD><PAD><PAD><PAD><PAD><PAD><PAD>',\n",
       " 'd o irev t eeD D',\n",
       " ' tn antedttD nT ',\n",
       " 'oet toue oeevfDe',\n",
       " 'ir thest een toc',\n",
       " ' pe hoce pocdowe',\n",
       " ' iat, reode hoDt',\n",
       " 'hiebDed foocDeDt',\n",
       " 'sal, me pont poc',\n",
       " 'hetthel. dondo,t',\n",
       " ' io mofv boceoee',\n",
       " 'rnoth wore pr go',\n",
       " 'd ’unv oD hocv p',\n",
       " 'Bontooean De DDe',\n",
       " 'h doev pose Dh e',\n",
       " ' pinh ko dord po',\n",
       " 'to vnre poDe qhD',\n",
       " 'rnd irrp<END> pouv w',\n",
       " 'roud bochoDe poD',\n",
       " 'e,t oo<END> oou Do t',\n",
       " '’teayphecnteh.ft',\n",
       " 'en  ipqd thepD e',\n",
       " 'es. tond oo ,oth',\n",
       " '<END><PAD><PAD>  teheeDt hoD',\n",
       " 'ls er koo  ou to',\n",
       " '<PAD> <PAD><PAD>etteeehfeeD ',\n",
       " 'ous oe poDe hoch',\n",
       " 'th te dond ko ,o',\n",
       " 'ons oo eonv kocp',\n",
       " 'l toec.et eout o',\n",
       " ' son erurt D<END>t.D',\n",
       " 't  oprto t oe t ',\n",
       " ' sr san, se p qe',\n",
       " ' wo<END>t cochthe ho',\n",
       " 'taud oe powe poc',\n",
       " 'oid Ioc, ee pocv',\n",
       " 'owd so ,oer poct',\n",
       " 's tat toe houv o',\n",
       " ' <PAD>ov<END>o,t Do thDD',\n",
       " 'ond wacdote poue',\n",
       " '<PAD><PAD><PAD><PAD><PAD><PAD><PAD><PAD><PAD><PAD><PAD><PAD><PAD><PAD><PAD><PAD>',\n",
       " 'd o irev t eeD D',\n",
       " ' es t . noechoDp',\n",
       " 'd oodtoot  ent D',\n",
       " 'n se ,ove s ie q',\n",
       " ' no e prDe seec ',\n",
       " 'rir<END> qo<END>e thDe h',\n",
       " 'd isond ko], wo ',\n",
       " 'othoed eouthee t',\n",
       " 'l  oe donv ou ho',\n",
       " 'soty pone so poe',\n",
       " 'nvtie douv po po',\n",
       " 'd ’unv oD hocv p',\n",
       " 'uo wrpdoD soDc o',\n",
       " '  oDt pech qoch ',\n",
       " 'deees oec oo vou',\n",
       " 'nnoee eoDe souv ',\n",
       " 'es  ernoDe poDt ',\n",
       " '<PAD><PAD><PAD><PAD><PAD><PAD><PAD><PAD><PAD><PAD><PAD><PAD><PAD><PAD><PAD><PAD>',\n",
       " 'drnd how, eh hou',\n",
       " '<PAD> <PAD><PAD>etteeehfeeD ',\n",
       " 'hes.oeeooDet..Dt',\n",
       " 's tre foeq qDevD',\n",
       " 'wl kon<END> eo poer ',\n",
       " 'es.out. tt set  ',\n",
       " 'gorr oocpoet pDD',\n",
       " 'i thes to poue h',\n",
       " 'ood th<END>tD.eth De',\n",
       " 'eos nres tees te',\n",
       " 'rii <END>tee vonc ou',\n",
       " 'enr io dowe po p',\n",
       " 'l soil oo doee p',\n",
       " '<PAD><PAD><PAD><PAD><PAD><PAD><PAD><PAD><PAD><PAD><PAD><PAD><PAD><PAD><PAD><PAD>',\n",
       " 'd o irev t eeD D',\n",
       " ',e eo toe  ouc o',\n",
       " 'p at, seot pocv ',\n",
       " 'dinoe<END> hoet DeDc',\n",
       " '<PAD><PAD><PAD><PAD><PAD><PAD><PAD><PAD><PAD><PAD><PAD><PAD><PAD><PAD><PAD><PAD>',\n",
       " 'to. foettDDth.<END>h',\n",
       " 'nd lothorpo,v hD',\n",
       " 'd ee pous ee toD',\n",
       " 'esh voev it..De ',\n",
       " ' iesstoe hond ko',\n",
       " 'wv o tesstee pou',\n",
       " 'e t ec teev po h',\n",
       " 'ith locv ir.vfev',\n",
       " 'vir  irset  ip. ',\n",
       " 'ith locv ir.vfev',\n",
       " 'dD ooud hoch ee ',\n",
       " 'nt vec, me doee ',\n",
       " '<PAD><PAD><PAD><PAD><PAD><PAD><PAD><PAD><PAD><PAD><PAD><PAD><PAD><PAD><PAD><PAD>',\n",
       " 'to. foettDDth.<END>h',\n",
       " 'ly ve poye pocpo',\n",
       " 'o<PAD> ioDn thltD eD',\n",
       " 'noeeotDe coochoD',\n",
       " 's de eo<END>e ho<END>poq',\n",
       " ' drDb doecfee ho',\n",
       " 'ind bs dot, oo e',\n",
       " ' doideoe hhDD De',\n",
       " '<PAD><PAD>eou eou the<END>tf',\n",
       " ' d kond er poec ',\n",
       " '<PAD> iouv te thDe D',\n",
       " 'and bond rer,f e',\n",
       " 'toed toe, te poe',\n",
       " 'lr do vo,<END> eo ho',\n",
       " '<PAD><PAD> tet<PAD>eDh DhDDf',\n",
       " ' d ratb.qe WheD ',\n",
       " ' ioD aoe tout oD',\n",
       " 'ny fond bh po e ',\n",
       " 'an ee soD Doud o',\n",
       " 'besd oee.oDe .hD',\n",
       " ' tu. toe hoechoD',\n",
       " 'l ioDs o  Ioct e',\n",
       " ' tieq tt poDv oo',\n",
       " 'to tesout coDv D',\n",
       " ', iqis telt De h',\n",
       " 'so d nr woce po ',\n",
       " 'd dy co<END>t<END>ph hoD',\n",
       " 'toorh. herv ee h',\n",
       " 'ind boc,ort poeh',\n",
       " 'a- er. ter<END>l<END>t D',\n",
       " 'd pond Ir poes p',\n",
       " 'r noe toue heecf',\n",
       " 'd ki poee soec q',\n",
       " 'ileooe poct se p',\n",
       " 'a voor hectoee p',\n",
       " 'oo danv oe hoDt ',\n",
       " '<PAD> <PAD><PAD><PAD>v<PAD>teethee f',\n",
       " 'l ton toestoe th',\n",
       " 'n thi tteDl<END>eeD ']"
      ]
     },
     "execution_count": 59,
     "metadata": {},
     "output_type": "execute_result"
    }
   ],
   "source": [
    "list(map(lambda x: \"\".join(x), gen_test_rfm))"
   ]
  },
  {
   "cell_type": "code",
   "execution_count": 57,
   "id": "07072a43",
   "metadata": {},
   "outputs": [
    {
     "name": "stdout",
     "output_type": "stream",
     "text": [
      "Train accuracy: 0.95\n",
      "Test accuracy: 0.31\n"
     ]
    }
   ],
   "source": [
    "# get train and test accuracy\n",
    "train_acc = (next_char_train.argmax(axis=1) == y_train_pred.argmax(axis=1)).mean()\n",
    "test_acc = (next_char_test.argmax(axis=1) == y_test_pred.argmax(axis=1)).mean()\n",
    "\n",
    "print(f\"Train accuracy: {train_acc:.2f}\")\n",
    "print(f\"Test accuracy: {test_acc:.2f}\")"
   ]
  },
  {
   "cell_type": "code",
   "execution_count": null,
   "id": "1443a0e4",
   "metadata": {},
   "outputs": [],
   "source": []
  }
 ],
 "metadata": {
  "kernelspec": {
   "display_name": "Python 3 (ipykernel)",
   "language": "python",
   "name": "python3"
  },
  "language_info": {
   "codemirror_mode": {
    "name": "ipython",
    "version": 3
   },
   "file_extension": ".py",
   "mimetype": "text/x-python",
   "name": "python",
   "nbconvert_exporter": "python",
   "pygments_lexer": "ipython3",
   "version": "3.8.11"
  },
  "vscode": {
   "interpreter": {
    "hash": "a6a6044cb29be7aa8d18f20f5f922fbbeec34b67744250c81f169bc0b9d02fc2"
   }
  }
 },
 "nbformat": 4,
 "nbformat_minor": 5
}
