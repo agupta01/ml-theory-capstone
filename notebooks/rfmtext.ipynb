{
 "cells": [
  {
   "cell_type": "code",
   "execution_count": 1,
   "id": "00db8ab1",
   "metadata": {},
   "outputs": [],
   "source": [
    "%load_ext autoreload\n",
    "\n",
    "%autoreload 2"
   ]
  },
  {
   "cell_type": "code",
   "execution_count": 2,
   "id": "21ec3b15-eb00-4843-a273-6b873ac7ee95",
   "metadata": {},
   "outputs": [],
   "source": [
    "import os\n",
    "import logging\n",
    "\n",
    "logger = logging.getLogger(__name__)\n",
    "\n",
    "os.chdir(\"../\")"
   ]
  },
  {
   "cell_type": "code",
   "execution_count": 3,
   "id": "30876a8e-0eb7-4363-a758-2c50f605770a",
   "metadata": {},
   "outputs": [],
   "source": [
    "import numpy as np\n",
    "import matplotlib.pyplot as plt\n",
    "from src.etl import *\n",
    "from src.rfm import *\n",
    "from src.utils import *"
   ]
  },
  {
   "cell_type": "code",
   "execution_count": 4,
   "id": "ac5bf898-52de-451a-878b-f226f4e43d0a",
   "metadata": {},
   "outputs": [
    {
     "name": "stdout",
     "output_type": "stream",
     "text": [
      "Dataset already downloaded: download_log -> 6157ee4b54ae1a9c39fa52c057f5dfbd80554c634644ba4fc805528bf36a68f7\n"
     ]
    },
    {
     "data": {
      "text/plain": [
       "False"
      ]
     },
     "execution_count": 4,
     "metadata": {},
     "output_type": "execute_result"
    }
   ],
   "source": [
    "url = \"https://www.gutenberg.org/cache/epub/1533/pg1533-images.html\"\n",
    "\n",
    "make_dataset(url)"
   ]
  },
  {
   "cell_type": "code",
   "execution_count": 5,
   "id": "6d964ad8-6c43-49fd-9c31-1cb4079b9f15",
   "metadata": {},
   "outputs": [],
   "source": [
    "X, vocab = tokenizer(\"./data/Author: William Shakespeare.txt\")"
   ]
  },
  {
   "cell_type": "code",
   "execution_count": 6,
   "id": "817f1a02",
   "metadata": {},
   "outputs": [
    {
     "data": {
      "text/plain": [
       "(853, 32, 64)"
      ]
     },
     "execution_count": 6,
     "metadata": {},
     "output_type": "execute_result"
    }
   ],
   "source": [
    "X.shape"
   ]
  },
  {
   "cell_type": "code",
   "execution_count": 7,
   "id": "5bb5f6b9-44b1-49f6-804c-c3fea52c91df",
   "metadata": {},
   "outputs": [],
   "source": [
    "data = X.reshape(X.shape[0], X.shape[1]*X.shape[2])"
   ]
  },
  {
   "cell_type": "code",
   "execution_count": 8,
   "id": "dc99c464-0fd7-48b8-9397-3f466bef2d3a",
   "metadata": {},
   "outputs": [
    {
     "data": {
      "text/plain": [
       "(853, 2048)"
      ]
     },
     "execution_count": 8,
     "metadata": {},
     "output_type": "execute_result"
    }
   ],
   "source": [
    "data.shape"
   ]
  },
  {
   "cell_type": "code",
   "execution_count": 9,
   "id": "4a01fb30-cc58-4bdd-aed0-f6d291d2db54",
   "metadata": {},
   "outputs": [
    {
     "data": {
      "text/plain": [
       "{'a': 1,\n",
       " 'b': 2,\n",
       " 'c': 3,\n",
       " 'd': 4,\n",
       " 'e': 5,\n",
       " 'f': 6,\n",
       " 'g': 7,\n",
       " 'h': 8,\n",
       " 'i': 9,\n",
       " 'j': 10,\n",
       " 'k': 11,\n",
       " 'l': 12,\n",
       " 'm': 13,\n",
       " 'n': 14,\n",
       " 'o': 15,\n",
       " 'p': 16,\n",
       " 'q': 17,\n",
       " 'r': 18,\n",
       " 's': 19,\n",
       " 't': 20,\n",
       " 'u': 21,\n",
       " 'v': 22,\n",
       " 'w': 23,\n",
       " 'x': 24,\n",
       " 'y': 25,\n",
       " 'z': 26,\n",
       " 'A': 27,\n",
       " 'B': 28,\n",
       " 'C': 29,\n",
       " 'D': 30,\n",
       " 'E': 31,\n",
       " 'F': 32,\n",
       " 'G': 33,\n",
       " 'H': 34,\n",
       " 'I': 35,\n",
       " 'J': 36,\n",
       " 'K': 37,\n",
       " 'L': 38,\n",
       " 'M': 39,\n",
       " 'N': 40,\n",
       " 'O': 41,\n",
       " 'P': 42,\n",
       " 'Q': 43,\n",
       " 'R': 44,\n",
       " 'S': 45,\n",
       " 'T': 46,\n",
       " 'U': 47,\n",
       " 'V': 48,\n",
       " 'W': 49,\n",
       " 'X': 50,\n",
       " 'Y': 51,\n",
       " 'Z': 52,\n",
       " '.': 53,\n",
       " ',': 54,\n",
       " '!': 55,\n",
       " '?': 56,\n",
       " \"'\": 57,\n",
       " ':': 58,\n",
       " ';': 59,\n",
       " '-': 60,\n",
       " '_': 61,\n",
       " ' ': 0,\n",
       " '[PAD]': 62,\n",
       " '[UNK]': 63}"
      ]
     },
     "execution_count": 9,
     "metadata": {},
     "output_type": "execute_result"
    }
   ],
   "source": [
    "vocab"
   ]
  },
  {
   "cell_type": "markdown",
   "id": "cdd63c49",
   "metadata": {},
   "source": [
    "## Baseline: Bigrams/Trigrams"
   ]
  },
  {
   "cell_type": "code",
   "execution_count": 120,
   "id": "7b508729",
   "metadata": {},
   "outputs": [],
   "source": [
    "from nltk.util import bigrams, trigrams, pad_sequence\n",
    "from nltk.lm.preprocessing import padded_everygram_pipeline, flatten\n",
    "from nltk.lm import MLE"
   ]
  },
  {
   "cell_type": "code",
   "execution_count": 121,
   "id": "80099fc2",
   "metadata": {},
   "outputs": [],
   "source": [
    "CONTEXT_SIZE = 32\n",
    "TEST_SPLIT = 0.2"
   ]
  },
  {
   "cell_type": "code",
   "execution_count": 122,
   "id": "9430ad5e",
   "metadata": {},
   "outputs": [],
   "source": [
    "def clean_sentence(sent):\n",
    "    # remove newline and separate into characters\n",
    "    sent = list(sent[:-1])\n",
    "    # add start token and truncate to context size\n",
    "    sent = ([\"<START>\"] + sent)[:CONTEXT_SIZE]\n",
    "    # pad to context size\n",
    "    if len(sent) == CONTEXT_SIZE:\n",
    "        return sent\n",
    "    elif len(sent) < CONTEXT_SIZE:\n",
    "        # add end token\n",
    "        sent = sent + [\"<END>\"]\n",
    "        return sent + [\"<PAD>\"] * (CONTEXT_SIZE - len(sent))\n",
    "    else:\n",
    "        raise ValueError(\"Sentence too long after truncating. Something went wrong.\")\n"
   ]
  },
  {
   "cell_type": "code",
   "execution_count": 123,
   "id": "d5bf6238",
   "metadata": {},
   "outputs": [
    {
     "data": {
      "text/plain": [
       "682"
      ]
     },
     "execution_count": 123,
     "metadata": {},
     "output_type": "execute_result"
    }
   ],
   "source": [
    "# get the text\n",
    "\n",
    "fpath = \"./data/Author: William Shakespeare.txt\"\n",
    "raw = open(fpath, \"r\").readlines()\n",
    "sentences = list(map(clean_sentence, raw))\n",
    "train_sentences = sentences[:int(len(sentences) * (1 - TEST_SPLIT))]\n",
    "test_sentences = sentences[int(len(sentences) * (1 - TEST_SPLIT)):]\n",
    "len(train_sentences)"
   ]
  },
  {
   "cell_type": "code",
   "execution_count": 124,
   "id": "d0d50e68",
   "metadata": {},
   "outputs": [
    {
     "data": {
      "text/plain": [
       "(682, 16)"
      ]
     },
     "execution_count": 124,
     "metadata": {},
     "output_type": "execute_result"
    }
   ],
   "source": [
    "np.array(train_sentences)[:, :16].shape"
   ]
  },
  {
   "cell_type": "code",
   "execution_count": 125,
   "id": "85d6e7de",
   "metadata": {},
   "outputs": [],
   "source": [
    "# shop the dataset in half. The first half will be used to condition the second half\n",
    "CONTEXT_SPLIT_SIZE = 24\n",
    "X_train = np.array(train_sentences)[:, :CONTEXT_SPLIT_SIZE]\n",
    "y_train = np.array(train_sentences)[:, CONTEXT_SPLIT_SIZE:]\n",
    "X_test = np.array(test_sentences)[:, :CONTEXT_SPLIT_SIZE]\n",
    "y_test = np.array(test_sentences)[:, CONTEXT_SPLIT_SIZE:]"
   ]
  },
  {
   "cell_type": "code",
   "execution_count": 126,
   "id": "23160adf",
   "metadata": {
    "tags": []
   },
   "outputs": [],
   "source": [
    "# get ngrams\n",
    "ngrams = []\n",
    "for sent in X_train:\n",
    "    ngrams.append(list(bigrams(sent)))\n"
   ]
  },
  {
   "cell_type": "code",
   "execution_count": 127,
   "id": "45535f25",
   "metadata": {},
   "outputs": [],
   "source": [
    "# pad the text\n",
    "vocab = list(flatten(sent for sent in X_train))"
   ]
  },
  {
   "cell_type": "code",
   "execution_count": 128,
   "id": "c10287a2",
   "metadata": {},
   "outputs": [],
   "source": [
    "lm = MLE(3)\n",
    "lm.fit(ngrams, vocab)"
   ]
  },
  {
   "cell_type": "code",
   "execution_count": 129,
   "id": "28dae843",
   "metadata": {},
   "outputs": [
    {
     "data": {
      "text/plain": [
       "array(['<START>', 'A', 'u', 't', 'h', 'o', 'r', ':', ' ', 'W', 'i', 'l',\n",
       "       'l', 'i', 'a', 'm', ' ', 'S', 'h', 'a', 'k', 'e', 's', 'p'],\n",
       "      dtype='<U7')"
      ]
     },
     "execution_count": 129,
     "metadata": {},
     "output_type": "execute_result"
    }
   ],
   "source": [
    "X_train[1]"
   ]
  },
  {
   "cell_type": "code",
   "execution_count": 130,
   "id": "db060ab9",
   "metadata": {},
   "outputs": [],
   "source": [
    "def generate_text(lm, X_test, length=CONTEXT_SIZE-CONTEXT_SPLIT_SIZE):\n",
    "    # generate text\n",
    "    text = []\n",
    "    for sent in X_test:\n",
    "        text.append(lm.generate(length, text_seed=sent))\n",
    "    return text"
   ]
  },
  {
   "cell_type": "code",
   "execution_count": 131,
   "id": "818726d0",
   "metadata": {},
   "outputs": [
    {
     "data": {
      "text/plain": [
       "(171, 8)"
      ]
     },
     "execution_count": 131,
     "metadata": {},
     "output_type": "execute_result"
    }
   ],
   "source": [
    "y_test.shape"
   ]
  },
  {
   "cell_type": "code",
   "execution_count": 132,
   "id": "f728b543",
   "metadata": {},
   "outputs": [],
   "source": [
    "y_test_pred = np.array(generate_text(lm, X_test))"
   ]
  },
  {
   "cell_type": "code",
   "execution_count": 133,
   "id": "9b633e70",
   "metadata": {},
   "outputs": [
    {
     "data": {
      "text/plain": [
       "('tstone o', ' r rve d')"
      ]
     },
     "execution_count": 133,
     "metadata": {},
     "output_type": "execute_result"
    }
   ],
   "source": [
    "\"\".join(y_test[0]), \"\".join(y_test_pred[0])"
   ]
  },
  {
   "cell_type": "code",
   "execution_count": 134,
   "id": "480bbe12",
   "metadata": {},
   "outputs": [
    {
     "data": {
      "text/plain": [
       "'<UNK>'"
      ]
     },
     "execution_count": 134,
     "metadata": {},
     "output_type": "execute_result"
    }
   ],
   "source": [
    "lm.vocab.unk_label"
   ]
  },
  {
   "cell_type": "code",
   "execution_count": 135,
   "id": "81e70f03",
   "metadata": {},
   "outputs": [],
   "source": [
    "class Vocab():\n",
    "    def __init__(self, vals):\n",
    "        self._dict = {v: i for i, v in enumerate(vals)}\n",
    "        self._dict['<UNK>'] = len(self._dict)\n",
    "        self.rev = {i: v for v, i in self._dict.items()}\n",
    "    \n",
    "    def __getitem__(self, key):\n",
    "        if key in self._dict:\n",
    "            return self._dict[key]\n",
    "        else:\n",
    "            return self._dict['<UNK>']\n",
    "    \n",
    "    def __len__(self):\n",
    "        return len(self._dict)\n",
    "    \n",
    "    def __iter__(self):\n",
    "        return iter(self._dict)\n",
    "    \n",
    "    def __contains__(self, key):\n",
    "        return key in self._dict\n",
    "    \n",
    "    def __repr__(self):\n",
    "        return f\"{self.__class__.__name__}({self._dict})\"\n",
    "    \n",
    "    def decode(self, idx):\n",
    "        return self.rev[idx]"
   ]
  },
  {
   "cell_type": "code",
   "execution_count": 136,
   "id": "4f54cc8d",
   "metadata": {},
   "outputs": [
    {
     "data": {
      "text/plain": [
       "Vocab({' ': 0, '!': 1, ',': 2, '-': 3, '.': 4, ':': 5, ';': 6, '<END>': 7, '<PAD>': 8, '<START>': 9, '?': 10, 'A': 11, 'B': 12, 'C': 13, 'D': 14, 'E': 15, 'F': 16, 'G': 17, 'H': 18, 'I': 19, 'K': 20, 'L': 21, 'M': 22, 'N': 23, 'O': 24, 'P': 25, 'Q': 26, 'R': 27, 'S': 28, 'T': 29, 'U': 30, 'V': 31, 'W': 32, 'X': 33, 'Y': 34, '[': 35, ']': 36, 'a': 37, 'b': 38, 'c': 39, 'd': 40, 'e': 41, 'f': 42, 'g': 43, 'h': 44, 'i': 45, 'j': 46, 'k': 47, 'l': 48, 'm': 49, 'n': 50, 'o': 51, 'p': 52, 'q': 53, 'r': 54, 's': 55, 't': 56, 'u': 57, 'v': 58, 'w': 59, 'x': 60, 'y': 61, 'z': 62, '—': 63, '’': 64, '“': 65, '<UNK>': 66})"
      ]
     },
     "execution_count": 136,
     "metadata": {},
     "output_type": "execute_result"
    }
   ],
   "source": [
    "train_vocab = Vocab(list(sorted(lm.vocab.counts.keys())))\n",
    "train_vocab"
   ]
  },
  {
   "cell_type": "code",
   "execution_count": 137,
   "id": "ee8f8318",
   "metadata": {},
   "outputs": [],
   "source": [
    "def encode(sent, vocab=train_vocab):\n",
    "    return np.array([vocab[w] for w in sent])\n",
    "\n",
    "def evaluate(y_test, y_test_pred):\n",
    "    # evaluate\n",
    "    bleu = []\n",
    "    perplexity = []\n",
    "    y_perplexity = []\n",
    "    for i in range(len(y_test)):\n",
    "        bleu.append(utils.bleu_score([y_test[i]], y_test_pred[i], n=2))\n",
    "        perplexity.append(utils.perplexity(encode(y_test_pred[i])))\n",
    "        y_perplexity.append(utils.perplexity(encode(y_test[i])))\n",
    "    return { \"bleu2\": np.mean(bleu), \"perplexity\": np.mean(perplexity), \"true_perplexity\": np.mean(y_perplexity) }"
   ]
  },
  {
   "cell_type": "code",
   "execution_count": 138,
   "id": "d2816e0a",
   "metadata": {},
   "outputs": [
    {
     "data": {
      "text/plain": [
       "[' r rve d',\n",
       " ' t.Wit a',\n",
       " 'my, y it',\n",
       " '<PAD><PAD><PAD><PAD><PAD><PAD><PAD><PAD>',\n",
       " '<PAD><PAD><PAD><PAD><PAD><PAD><PAD><PAD>',\n",
       " 'gathengr',\n",
       " 'e.ACBERD',\n",
       " 'ACBETHea',\n",
       " 'l omall ',\n",
       " 'tearse c',\n",
       " 't.Thernq',\n",
       " 'otend LM',\n",
       " 'il deman',\n",
       " ' MANQUO.',\n",
       " 'f I’stha',\n",
       " 'omeundit',\n",
       " 'ttiscbea',\n",
       " 'rerdssss',\n",
       " 'FIR.AD i',\n",
       " 'odonodat',\n",
       " 'pandandA',\n",
       " ' he Mave',\n",
       " 'r is has',\n",
       " 'hisethan',\n",
       " 'myowodo,',\n",
       " 'de MACHo',\n",
       " 'd thaite',\n",
       " 'r cbe k ',\n",
       " ' ha wish',\n",
       " 'os ascot',\n",
       " 'ed bif p',\n",
       " 'h at Maj',\n",
       " 'ghand d ',\n",
       " 'ild y nt',\n",
       " '<PAD><PAD><PAD><PAD><PAD><PAD><PAD><PAD>',\n",
       " 'ullit d!',\n",
       " '<PAD><PAD><PAD><PAD><PAD><PAD><PAD><PAD>',\n",
       " 'MACDENON',\n",
       " '<PAD><PAD><PAD><PAD><PAD><PAD><PAD><PAD>',\n",
       " ' anornok',\n",
       " ' buorH.T',\n",
       " '<PAD><PAD><PAD><PAD><PAD><PAD><PAD><PAD>',\n",
       " 'f.H.TH. ',\n",
       " 'u MACBER',\n",
       " '.Whahy e',\n",
       " 'ather be',\n",
       " ' d alont',\n",
       " 'BEThe my',\n",
       " 'vel, cbl',\n",
       " 'of.Bury ',\n",
       " 'vaseyo h',\n",
       " 'ient ne ',\n",
       " ' ie hatl',\n",
       " '<PAD><PAD><PAD><PAD><PAD><PAD><PAD><PAD>',\n",
       " 'rere ate',\n",
       " '.IRD.H.B',\n",
       " '<PAD><PAD><PAD><PAD><PAD><PAD><PAD><PAD>',\n",
       " 'nd owher',\n",
       " 'u’eppr; ',\n",
       " 'NDYorter',\n",
       " '<PAD><PAD><PAD><PAD><PAD><PAD><PAD><PAD>',\n",
       " 'ng.Se me',\n",
       " 'oduocows',\n",
       " 'yowiss a',\n",
       " '<PAD><PAD><PAD><PAD><PAD><PAD><PAD><PAD>',\n",
       " ' ay atrt',\n",
       " '<PAD><PAD><PAD><PAD><PAD><PAD><PAD><PAD>',\n",
       " 'ow ou m ',\n",
       " '<END><PAD><PAD><PAD><PAD><PAD><PAD><PAD>',\n",
       " 'y, hor, ',\n",
       " 'anthrdes',\n",
       " 'Se mo, d',\n",
       " 'Were Mad',\n",
       " 'bulcoryo',\n",
       " 'nthakere',\n",
       " 'g!<END><PAD><PAD><PAD><PAD><PAD>',\n",
       " 'ntod r m',\n",
       " 'eill.Whi',\n",
       " 'tlang My',\n",
       " 'owillo; ',\n",
       " ' andonoz',\n",
       " '<PAD><PAD><PAD><PAD><PAD><PAD><PAD><PAD>',\n",
       " 'r, at IR',\n",
       " '’theanqu',\n",
       " 'uthacben',\n",
       " 'd.LADY L',\n",
       " 'ndie s, ',\n",
       " 'chinc Pr',\n",
       " 'rulderte',\n",
       " 'rrt S.Wh',\n",
       " 'is, lbes',\n",
       " ':LAD SET',\n",
       " 'hil ITHe',\n",
       " '<PAD><PAD><PAD><PAD><PAD><PAD><PAD><PAD>',\n",
       " 'ocdid!—W',\n",
       " 'cbondrit',\n",
       " 'MALamath',\n",
       " '<PAD><PAD><PAD><PAD><PAD><PAD><PAD><PAD>',\n",
       " ' ares dA',\n",
       " '<PAD><PAD><PAD><PAD><PAD><PAD><PAD><PAD>',\n",
       " 'ade t ck',\n",
       " '<PAD><PAD><PAD><PAD><PAD><PAD><PAD><PAD>',\n",
       " '<END><PAD><PAD><PAD><PAD><PAD><PAD><PAD>',\n",
       " 'wo’ssisi',\n",
       " 'acachumy',\n",
       " '<PAD><PAD><PAD><PAD><PAD><PAD><PAD><PAD>',\n",
       " 'Loougg M',\n",
       " 'o t s We',\n",
       " 'TCDExeuo',\n",
       " 'e, t’s t',\n",
       " ' s we so',\n",
       " 'wanoeryo',\n",
       " 'ht Mym’s',\n",
       " '<PAD><PAD><PAD><PAD><PAD><PAD><PAD><PAD>',\n",
       " 'r:LLMACH',\n",
       " ', t, t m',\n",
       " 'eweather',\n",
       " ' is.H.]<END>',\n",
       " '<PAD><PAD><PAD><PAD><PAD><PAD><PAD><PAD>',\n",
       " 'TH.WITH.',\n",
       " 'c hofo, ',\n",
       " '<PAD><PAD><PAD><PAD><PAD><PAD><PAD><PAD>',\n",
       " '.OROSTCO',\n",
       " 't tt.’t ',\n",
       " 'oshrye M',\n",
       " 'rth.WI a',\n",
       " 'hue, tt ',\n",
       " 's MACON.',\n",
       " ' hour is',\n",
       " 'a s one ',\n",
       " 'longu y,',\n",
       " '<PAD><PAD><PAD><PAD><PAD><PAD><PAD><PAD>',\n",
       " 'TCDERO.D',\n",
       " 'tesillis',\n",
       " '<PAD><PAD><PAD><PAD><PAD><PAD><PAD><PAD>',\n",
       " 'no!—DY n',\n",
       " 'e anidis',\n",
       " ' Kn, sou',\n",
       " 'Me’lded,',\n",
       " '<PAD><PAD><PAD><PAD><PAD><PAD><PAD><PAD>',\n",
       " '<PAD><PAD><PAD><PAD><PAD><PAD><PAD><PAD>',\n",
       " ' t’s.OSc',\n",
       " '<PAD><PAD><PAD><PAD><PAD><PAD><PAD><PAD>',\n",
       " 'g Ththa ',\n",
       " 'rusheure',\n",
       " ' WI Whan',\n",
       " '<PAD><PAD><PAD><PAD><PAD><PAD><PAD><PAD>',\n",
       " 'er MALCB',\n",
       " 'nkne t’d',\n",
       " 'sour coe',\n",
       " 'r Majou ',\n",
       " 'erich we',\n",
       " 'rus he t',\n",
       " ';—DUFIRO',\n",
       " 's’e alle',\n",
       " ' nd g bl',\n",
       " 'pe Ifora',\n",
       " ' My MACB',\n",
       " '<END><PAD><PAD><PAD><PAD><PAD><PAD><PAD>',\n",
       " 'hed yod ',\n",
       " 'e calf.]',\n",
       " '<PAD><PAD><PAD><PAD><PAD><PAD><PAD><PAD>',\n",
       " 'MANQUFFI',\n",
       " 'd My s l',\n",
       " ' maceure',\n",
       " '?BExite ',\n",
       " '.<END><PAD><PAD><PAD><PAD><PAD><PAD>',\n",
       " 'ouor w i',\n",
       " '<PAD><PAD><PAD><PAD><PAD><PAD><PAD><PAD>',\n",
       " 'acbe bel',\n",
       " '<PAD><PAD><PAD><PAD><PAD><PAD><PAD><PAD>']"
      ]
     },
     "execution_count": 138,
     "metadata": {},
     "output_type": "execute_result"
    }
   ],
   "source": [
    "list(map(lambda x: \"\".join(x), y_test_pred))"
   ]
  },
  {
   "cell_type": "code",
   "execution_count": 139,
   "id": "e14722d1",
   "metadata": {},
   "outputs": [
    {
     "name": "stderr",
     "output_type": "stream",
     "text": [
      "/home/arunavgupta/anaconda3/envs/huggingface/lib/python3.8/site-packages/nltk/translate/bleu_score.py:552: UserWarning: \n",
      "The hypothesis contains 0 counts of 2-gram overlaps.\n",
      "Therefore the BLEU score evaluates to 0, independently of\n",
      "how many N-gram overlaps of lower order it contains.\n",
      "Consider using lower n-gram order or use SmoothingFunction()\n",
      "  warnings.warn(_msg)\n"
     ]
    },
    {
     "data": {
      "text/plain": [
       "{'bleu2': 0.24448386987263054,\n",
       " 'perplexity': 6.708915373444384,\n",
       " 'true_perplexity': 6.546585439758883}"
      ]
     },
     "execution_count": 139,
     "metadata": {},
     "output_type": "execute_result"
    }
   ],
   "source": [
    "evaluate(y_test, y_test_pred)"
   ]
  },
  {
   "cell_type": "markdown",
   "id": "1037e312",
   "metadata": {},
   "source": [
    "## Laplacian Kernel"
   ]
  },
  {
   "cell_type": "code",
   "execution_count": 140,
   "id": "5fc851f4",
   "metadata": {},
   "outputs": [],
   "source": [
    "# replace each token with its index in the vocab\n",
    "X_train_enc = np.array([encode(sent) for sent in X_train])\n",
    "y_train_enc = np.array([encode(sent) for sent in y_train])\n",
    "X_test_enc = np.array([encode(sent) for sent in X_test])\n",
    "y_test_enc = np.array([encode(sent) for sent in y_test])"
   ]
  },
  {
   "cell_type": "code",
   "execution_count": 141,
   "id": "b9a18f3e",
   "metadata": {},
   "outputs": [],
   "source": [
    "# one hot encode the data\n",
    "X_train_enc = np.eye(len(train_vocab))[X_train_enc]\n",
    "X_train_enc = X_train_enc.reshape(X_train_enc.shape[0], X_train_enc.shape[1]*X_train_enc.shape[2])\n",
    "y_train_enc = np.eye(len(train_vocab))[y_train_enc]\n",
    "y_train_enc = y_train_enc.reshape(y_train_enc.shape[0], y_train_enc.shape[1]*y_train_enc.shape[2])\n",
    "X_test_enc = np.eye(len(train_vocab))[X_test_enc]\n",
    "X_test_enc = X_test_enc.reshape(X_test_enc.shape[0], X_test_enc.shape[1]*X_test_enc.shape[2])\n",
    "y_test_enc = np.eye(len(train_vocab))[y_test_enc]\n",
    "y_test_enc = y_test_enc.reshape(y_test_enc.shape[0], y_test_enc.shape[1]*y_test_enc.shape[2])"
   ]
  },
  {
   "cell_type": "code",
   "execution_count": 142,
   "id": "2539ddad",
   "metadata": {},
   "outputs": [],
   "source": [
    "from functools import partial"
   ]
  },
  {
   "cell_type": "code",
   "execution_count": 143,
   "id": "85a3b4e0",
   "metadata": {},
   "outputs": [],
   "source": [
    "next_char_train = y_train_enc[:, :len(train_vocab)]\n",
    "next_char_test = y_test_enc[:, :len(train_vocab)]"
   ]
  },
  {
   "cell_type": "code",
   "execution_count": 144,
   "id": "3bcb9ea8",
   "metadata": {},
   "outputs": [],
   "source": [
    "# train a laplace kernel\n",
    "lam = 1\n",
    "kernel = partial(utils.K_laplace_mat, gamma=0.025)\n",
    "\n",
    "K = kernel(X_train_enc, X_train_enc)\n",
    "alpha_hat = np.linalg.solve(K + lam * np.eye(K.shape[0]), next_char_train)"
   ]
  },
  {
   "cell_type": "code",
   "execution_count": 145,
   "id": "1c0c91a6",
   "metadata": {},
   "outputs": [
    {
     "data": {
      "text/plain": [
       "array([[ 0.2646873 ,  0.02268584, -0.01012501, ..., -0.00095572,\n",
       "         0.        , -0.00440535],\n",
       "       [-0.05092252, -0.01318122,  0.07413808, ...,  0.01220229,\n",
       "         0.        , -0.0062672 ],\n",
       "       [ 0.02476795,  0.03200875, -0.03727128, ...,  0.00805032,\n",
       "         0.        ,  0.00432252],\n",
       "       ...,\n",
       "       [-0.00412403, -0.00120126,  0.02334853, ..., -0.00195932,\n",
       "         0.        ,  0.00688799],\n",
       "       [ 0.05646939,  0.0515744 ,  0.00425799, ...,  0.00159293,\n",
       "         0.        , -0.00581609],\n",
       "       [ 0.01324782, -0.00396975,  0.02280295, ...,  0.00666102,\n",
       "         0.        ,  0.00480754]])"
      ]
     },
     "execution_count": 145,
     "metadata": {},
     "output_type": "execute_result"
    }
   ],
   "source": [
    "yhat = kernel(X_test_enc, X_train_enc) @ alpha_hat\n",
    "yhat"
   ]
  },
  {
   "cell_type": "code",
   "execution_count": 146,
   "id": "8091f770",
   "metadata": {},
   "outputs": [
    {
     "data": {
      "text/plain": [
       "0.2982456140350877"
      ]
     },
     "execution_count": 146,
     "metadata": {},
     "output_type": "execute_result"
    }
   ],
   "source": [
    "(next_char_test.argmax(axis=1) == yhat.argmax(axis=1)).mean()"
   ]
  },
  {
   "cell_type": "code",
   "execution_count": 147,
   "id": "1f5288a0",
   "metadata": {},
   "outputs": [
    {
     "data": {
      "text/plain": [
       "<matplotlib.image.AxesImage at 0x7f4bc9ce4c10>"
      ]
     },
     "execution_count": 147,
     "metadata": {},
     "output_type": "execute_result"
    },
    {
     "data": {
      "image/png": "[encoded data removed]",
      "text/plain": [
       "<Figure size 432x288 with 1 Axes>"
      ]
     },
     "metadata": {
      "needs_background": "light"
     },
     "output_type": "display_data"
    }
   ],
   "source": [
    "max_index = np.argmax(yhat, axis=1)\n",
    "yhat[np.arange(yhat.shape[0]), max_index] = 1\n",
    "yhat[yhat != 1] = 0\n",
    "plt.imshow(yhat, aspect=0.1)"
   ]
  },
  {
   "cell_type": "code",
   "execution_count": 148,
   "id": "c968d5b2",
   "metadata": {},
   "outputs": [
    {
     "data": {
      "text/plain": [
       "<matplotlib.image.AxesImage at 0x7f4bca068160>"
      ]
     },
     "execution_count": 148,
     "metadata": {},
     "output_type": "execute_result"
    },
    {
     "data": {
      "image/png": "[encoded data removed]",
      "text/plain": [
       "<Figure size 432x288 with 1 Axes>"
      ]
     },
     "metadata": {
      "needs_background": "light"
     },
     "output_type": "display_data"
    }
   ],
   "source": [
    "# plot next_char_train, with a good aspect ratio\n",
    "plt.imshow(next_char_test, aspect=0.1)"
   ]
  },
  {
   "cell_type": "code",
   "execution_count": 149,
   "id": "3d8a7fa1",
   "metadata": {},
   "outputs": [
    {
     "data": {
      "text/plain": [
       "0.9941348973607038"
      ]
     },
     "execution_count": 149,
     "metadata": {},
     "output_type": "execute_result"
    }
   ],
   "source": [
    "yhat_train = kernel(X_train_enc, X_train_enc) @ alpha_hat\n",
    "\n",
    "(next_char_train.argmax(axis=1) == yhat_train.argmax(axis=1)).mean()"
   ]
  },
  {
   "cell_type": "code",
   "execution_count": 150,
   "id": "321951ea",
   "metadata": {},
   "outputs": [],
   "source": [
    "def generate_text_kernel(kernel, alpha_hat, X, z, length=16):\n",
    "    text = []\n",
    "    for i in range(length):\n",
    "        yhat = kernel(X, z) @ alpha_hat\n",
    "        # decode the text\n",
    "        text.append([train_vocab.decode(y) for y in np.argmax(yhat, axis=1)])\n",
    "        # move the window forward\n",
    "        X = np.concatenate([X[:, len(train_vocab):], yhat], axis=1)\n",
    "    \n",
    "    transpose = list(zip(*text))\n",
    "    return transpose"
   ]
  },
  {
   "cell_type": "code",
   "execution_count": 151,
   "id": "bd50ce81",
   "metadata": {},
   "outputs": [],
   "source": [
    "generated_test = generate_text_kernel(kernel, alpha_hat, X_test_enc, X_train_enc, length=CONTEXT_SIZE-CONTEXT_SPLIT_SIZE)"
   ]
  },
  {
   "cell_type": "code",
   "execution_count": 152,
   "id": "fc8a7309",
   "metadata": {},
   "outputs": [
    {
     "data": {
      "text/plain": [
       "[' e  oe  ',\n",
       " 'e    <PAD>  ',\n",
       " 'so  e   ',\n",
       " '<PAD><PAD><PAD><PAD><PAD><PAD><PAD><PAD>',\n",
       " '<PAD><PAD><PAD><PAD><PAD><PAD><PAD><PAD>',\n",
       " '     <PAD> <PAD>',\n",
       " 're   <PAD> <PAD>',\n",
       " 'o o e  r',\n",
       " 'e e   <PAD><PAD>',\n",
       " 'eoi ee e',\n",
       " 'r ee    ',\n",
       " 'e  ee  e',\n",
       " 'a  o<PAD>de ',\n",
       " '    e <PAD> ',\n",
       " 'r e  e o',\n",
       " 'r  er e ',\n",
       " 'e  e    ',\n",
       " '  eere o',\n",
       " 'e  ee   ',\n",
       " 'e   e  <PAD>',\n",
       " ' a  o e ',\n",
       " '     <PAD><PAD> ',\n",
       " 'e    ne<PAD>',\n",
       " '   eeee<PAD>',\n",
       " 'te      ',\n",
       " ' e r    ',\n",
       " 'r   r  e',\n",
       " '  e  a  ',\n",
       " 'ee eh  <PAD>',\n",
       " ' e  t<PAD>ee',\n",
       " 'eo <PAD> <PAD>e<PAD>',\n",
       " ' r  e   ',\n",
       " ' e e    ',\n",
       " 'oe  e e ',\n",
       " '<PAD><PAD><PAD><PAD><PAD><PAD><PAD><PAD>',\n",
       " 'te e r <PAD>',\n",
       " '<PAD><PAD><PAD><PAD><PAD><PAD><PAD><PAD>',\n",
       " 'teer <PAD>  ',\n",
       " '<PAD><PAD><PAD><PAD><PAD><PAD><PAD><PAD>',\n",
       " '  r<PAD> <PAD><PAD> ',\n",
       " '    e <PAD> ',\n",
       " '<PAD><PAD><PAD><PAD><PAD><PAD><PAD><PAD>',\n",
       " ' r e <PAD><PAD> ',\n",
       " 'o  e    ',\n",
       " '  <PAD><PAD><PAD><PAD>  ',\n",
       " 'toee e<PAD> ',\n",
       " 'e e <PAD>  <PAD>',\n",
       " 'te  e en',\n",
       " '   <END> e <PAD>',\n",
       " '  n <PAD> <PAD><PAD>',\n",
       " 'r  r    ',\n",
       " 'e ee e <PAD>',\n",
       " 'e      <PAD>',\n",
       " '<PAD><PAD><PAD><PAD><PAD><PAD><PAD><PAD>',\n",
       " 'dwe e o ',\n",
       " ' e e    ',\n",
       " '<PAD><PAD><PAD><PAD><PAD><PAD><PAD><PAD>',\n",
       " 'e     o ',\n",
       " 'e e e e ',\n",
       " '  a <PAD><PAD><PAD><PAD>',\n",
       " '<PAD> <PAD> <PAD><PAD><PAD><PAD>',\n",
       " 'raer    ',\n",
       " 're  e   ',\n",
       " 'en  o e ',\n",
       " '<PAD><PAD><PAD><PAD><PAD><PAD><PAD><PAD>',\n",
       " '  e <PAD>e  ',\n",
       " '<PAD><PAD><PAD><PAD><PAD><PAD><PAD><PAD>',\n",
       " 'e    <PAD><PAD><PAD>',\n",
       " '    <PAD>e <PAD>',\n",
       " 'ae <PAD> <PAD> <PAD>',\n",
       " '  e<PAD>  <PAD> ',\n",
       " 'se e    ',\n",
       " '  e<PAD> <PAD><PAD> ',\n",
       " 'ee e   a',\n",
       " '    ee  ',\n",
       " 'e      <PAD>',\n",
       " ' m   ae ',\n",
       " '. or <PAD><PAD> ',\n",
       " 'ao e    ',\n",
       " ' e <PAD> <PAD><PAD> ',\n",
       " ' e e <PAD><PAD> ',\n",
       " '<PAD><PAD><PAD><PAD><PAD><PAD><PAD><PAD>',\n",
       " ' r e <PAD><PAD> ',\n",
       " ' e e  e ',\n",
       " ' e ee  e',\n",
       " ' e  a<PAD>  ',\n",
       " 'e      <PAD>',\n",
       " 'oe  <PAD>e <PAD>',\n",
       " ' e  <PAD>e <PAD>',\n",
       " '  re e  ',\n",
       " 'e r e u ',\n",
       " '  s     ',\n",
       " 'e   <PAD><PAD> e',\n",
       " '<PAD><PAD><PAD><PAD><PAD><PAD><PAD><PAD>',\n",
       " '  e <PAD>  e',\n",
       " 'a   e  e',\n",
       " ' ea<PAD> <PAD><PAD> ',\n",
       " '<PAD><PAD><PAD><PAD><PAD><PAD><PAD><PAD>',\n",
       " 'e re  <PAD><PAD>',\n",
       " '<PAD><PAD><PAD><PAD><PAD><PAD><PAD><PAD>',\n",
       " ' ae<PAD> ea ',\n",
       " '<PAD><PAD><PAD><PAD><PAD><PAD><PAD><PAD>',\n",
       " ' ee  <PAD>  ',\n",
       " 'r e  r e',\n",
       " ' e a e  ',\n",
       " '<PAD><PAD><PAD><PAD><PAD><PAD><PAD><PAD>',\n",
       " 'ee ee <PAD> ',\n",
       " 'i ee  e ',\n",
       " '   e <PAD><PAD> ',\n",
       " '  e,ee<PAD><PAD>',\n",
       " ' eo  e  ',\n",
       " 'st e <PAD><PAD> ',\n",
       " '     <PAD><PAD><PAD>',\n",
       " '<PAD><PAD><PAD><PAD><PAD><PAD><PAD><PAD>',\n",
       " ' r e <PAD><PAD> ',\n",
       " 'oe  <PAD>e<PAD> ',\n",
       " '   o<PAD><PAD><PAD><PAD>',\n",
       " 'a   e  <PAD>',\n",
       " '<PAD><PAD><PAD><PAD><PAD><PAD><PAD><PAD>',\n",
       " '   <PAD><PAD><PAD> <PAD>',\n",
       " ' ao ee  ',\n",
       " '<PAD><PAD><PAD><PAD><PAD><PAD><PAD><PAD>',\n",
       " 'e e   e ',\n",
       " ' e e e<PAD><PAD>',\n",
       " 'e e <PAD><PAD><PAD> ',\n",
       " '     e<PAD><PAD>',\n",
       " ' o  e e ',\n",
       " '  ee e  ',\n",
       " 'e    s <PAD>',\n",
       " ' e <PAD>e<PAD>  ',\n",
       " ' eo ee  ',\n",
       " '<PAD><PAD><PAD><PAD><PAD><PAD><PAD><PAD>',\n",
       " 'e<PAD> <PAD><PAD><PAD><PAD><PAD>',\n",
       " ' ee <PAD>o  ',\n",
       " '<PAD><PAD><PAD><PAD><PAD><PAD><PAD><PAD>',\n",
       " 'a  <PAD>e<PAD> <PAD>',\n",
       " 'ee ee <PAD><PAD>',\n",
       " '   eo  e',\n",
       " 'te eee <PAD>',\n",
       " '<PAD><PAD><PAD><PAD><PAD><PAD><PAD><PAD>',\n",
       " '<PAD><PAD><PAD><PAD><PAD><PAD><PAD><PAD>',\n",
       " 'oe ere  ',\n",
       " '<PAD><PAD><PAD><PAD><PAD><PAD><PAD><PAD>',\n",
       " ' o e <PAD><PAD><PAD>',\n",
       " '  e  <PAD>  ',\n",
       " ' ee <PAD>   ',\n",
       " '<PAD><PAD><PAD><PAD><PAD><PAD><PAD><PAD>',\n",
       " '  e  a<PAD> ',\n",
       " 'ne eer  ',\n",
       " ' ee ee<PAD> ',\n",
       " '  ra e  ',\n",
       " ' ee  e  ',\n",
       " '  e   <PAD><PAD>',\n",
       " '  ea e<PAD> ',\n",
       " ' ee o   ',\n",
       " ' r ee<PAD><PAD> ',\n",
       " 'oo  oe  ',\n",
       " ' er <PAD> o<PAD>',\n",
       " '    <PAD>  e',\n",
       " 'lr e e <PAD>',\n",
       " 'e    e  ',\n",
       " '<PAD> <PAD><PAD><PAD><PAD><PAD><PAD>',\n",
       " 'ro  e<PAD>  ',\n",
       " ' ee o   ',\n",
       " 'le oe   ',\n",
       " ' e     <PAD>',\n",
       " 'ee ra  <PAD>',\n",
       " 'o d   <PAD> ',\n",
       " '<PAD><PAD><PAD><PAD><PAD><PAD><PAD><PAD>',\n",
       " 'et ee   ',\n",
       " '<PAD><PAD><PAD><PAD><PAD><PAD><PAD><PAD>']"
      ]
     },
     "execution_count": 152,
     "metadata": {},
     "output_type": "execute_result"
    }
   ],
   "source": [
    "list(map(lambda x: \"\".join(x), generated_test))"
   ]
  },
  {
   "cell_type": "code",
   "execution_count": 153,
   "id": "2a1733ae",
   "metadata": {},
   "outputs": [
    {
     "data": {
      "text/plain": [
       "{'bleu2': 0.21878131848379992,\n",
       " 'perplexity': 4.0477654772345755,\n",
       " 'true_perplexity': 6.546585439758883}"
      ]
     },
     "execution_count": 153,
     "metadata": {},
     "output_type": "execute_result"
    }
   ],
   "source": [
    "evaluate(y_test, generated_test)"
   ]
  },
  {
   "cell_type": "markdown",
   "id": "5ff9b35a",
   "metadata": {},
   "source": [
    "## RFM"
   ]
  },
  {
   "cell_type": "code",
   "execution_count": 235,
   "id": "0da9152d",
   "metadata": {},
   "outputs": [],
   "source": [
    "alpha, M, _ = train_rfm(X_train_enc, next_char_train, L=24)"
   ]
  },
  {
   "cell_type": "code",
   "execution_count": 236,
   "id": "ad2ddeb7",
   "metadata": {},
   "outputs": [],
   "source": [
    "y_train_pred = utils.K_M(X_train_enc, X_train_enc, M, L=24) @ alpha"
   ]
  },
  {
   "cell_type": "code",
   "execution_count": 237,
   "id": "94baa32f-2983-4618-89b4-3a12d6d3220a",
   "metadata": {},
   "outputs": [
    {
     "data": {
      "text/plain": [
       "8.314221792752528e-05"
      ]
     },
     "execution_count": 237,
     "metadata": {},
     "output_type": "execute_result"
    }
   ],
   "source": [
    "utils.mse(y_train_pred, next_char_train)\n"
   ]
  },
  {
   "cell_type": "code",
   "execution_count": 238,
   "id": "c27c487f-cc33-4fe3-914d-f3e84c9e11b0",
   "metadata": {},
   "outputs": [
    {
     "data": {
      "text/plain": [
       "<matplotlib.image.AxesImage at 0x7f4bc7121880>"
      ]
     },
     "execution_count": 238,
     "metadata": {},
     "output_type": "execute_result"
    },
    {
     "data": {
      "image/png": "[encoded data removed]",
      "text/plain": [
       "<Figure size 1152x648 with 2 Axes>"
      ]
     },
     "metadata": {
      "needs_background": "light"
     },
     "output_type": "display_data"
    }
   ],
   "source": [
    "fig, ax = plt.subplots(ncols=2, figsize=(16, 9))\n",
    "ar = (y_train_pred.shape[1]/y_train_pred.shape[0])\n",
    "ax[0].imshow(utils.softmax(y_train_pred, axis=1), aspect=ar)\n",
    "ax[1].imshow(next_char_train, aspect=ar)"
   ]
  },
  {
   "cell_type": "code",
   "execution_count": 239,
   "id": "370623b4-f13a-423a-8251-19f4557c632d",
   "metadata": {},
   "outputs": [],
   "source": [
    "y_test_pred = utils.K_M(X_test_enc, X_train_enc, M, L=24) @ alpha"
   ]
  },
  {
   "cell_type": "code",
   "execution_count": 240,
   "id": "c1f84c29-5902-4522-97d5-554793e7c3d3",
   "metadata": {},
   "outputs": [
    {
     "data": {
      "text/plain": [
       "0.01405779091654209"
      ]
     },
     "execution_count": 240,
     "metadata": {},
     "output_type": "execute_result"
    }
   ],
   "source": [
    "utils.mse(y_test_pred, next_char_test)"
   ]
  },
  {
   "cell_type": "code",
   "execution_count": 241,
   "id": "fba95d5c-2df5-455f-afc7-d3675106b975",
   "metadata": {},
   "outputs": [
    {
     "data": {
      "text/plain": [
       "<matplotlib.image.AxesImage at 0x7f4bc6d48fd0>"
      ]
     },
     "execution_count": 241,
     "metadata": {},
     "output_type": "execute_result"
    },
    {
     "data": {
      "image/png": "[encoded data removed]",
      "text/plain": [
       "<Figure size 1152x648 with 2 Axes>"
      ]
     },
     "metadata": {
      "needs_background": "light"
     },
     "output_type": "display_data"
    }
   ],
   "source": [
    "fig, ax = plt.subplots(ncols=2, figsize=(16, 9))\n",
    "ar = (y_test_pred.shape[1]/y_test_pred.shape[0])\n",
    "y_test_argmax_ohc = np.eye(len(train_vocab))[y_test_pred.argmax(axis=1)]\n",
    "ax[0].imshow(y_test_argmax_ohc, aspect=ar)\n",
    "ax[1].imshow(next_char_test, aspect=ar)"
   ]
  },
  {
   "cell_type": "code",
   "execution_count": 242,
   "id": "e89bd672",
   "metadata": {},
   "outputs": [
    {
     "data": {
      "text/plain": [
       "<matplotlib.colorbar.Colorbar at 0x7f4bc6c91b80>"
      ]
     },
     "execution_count": 242,
     "metadata": {},
     "output_type": "execute_result"
    },
    {
     "data": {
      "image/png": "[encoded data removed]",
      "text/plain": [
       "<Figure size 432x288 with 2 Axes>"
      ]
     },
     "metadata": {
      "needs_background": "light"
     },
     "output_type": "display_data"
    }
   ],
   "source": [
    "plt.imshow(y_test_argmax_ohc - next_char_test, aspect=ar)\n",
    "plt.colorbar()"
   ]
  },
  {
   "cell_type": "code",
   "execution_count": 243,
   "id": "85480b88",
   "metadata": {},
   "outputs": [],
   "source": [
    "from functools import partial"
   ]
  },
  {
   "cell_type": "code",
   "execution_count": 244,
   "id": "0c7c9568-7c0b-4b04-9917-442c65044393",
   "metadata": {},
   "outputs": [],
   "source": [
    "kernel_rfm = partial(utils.K_M, M=M, L=24)\n",
    "\n",
    "gen_test_rfm = generate_text_kernel(kernel_rfm, alpha, X_test_enc, X_train_enc, length=CONTEXT_SIZE-CONTEXT_SPLIT_SIZE)"
   ]
  },
  {
   "cell_type": "code",
   "execution_count": 245,
   "id": "62256fd2",
   "metadata": {},
   "outputs": [
    {
     "data": {
      "text/plain": [
       "{'bleu2': 0.2368750719619246,\n",
       " 'perplexity': 5.826879811502743,\n",
       " 'true_perplexity': 6.546585439758883}"
      ]
     },
     "execution_count": 245,
     "metadata": {},
     "output_type": "execute_result"
    }
   ],
   "source": [
    "evaluate(y_test, gen_test_rfm)"
   ]
  },
  {
   "cell_type": "code",
   "execution_count": 246,
   "id": "116f71c2",
   "metadata": {},
   "outputs": [
    {
     "data": {
      "text/plain": [
       "['re go  a',\n",
       " 'e ,  r  ',\n",
       " 'shote  h',\n",
       " '<PAD><PAD><PAD><PAD><PAD><PAD><PAD><PAD>',\n",
       " '<PAD><PAD><PAD><PAD><PAD><PAD><PAD><PAD>',\n",
       " 'r.  ai ?',\n",
       " '.yoru<PAD> a',\n",
       " 'rym hs r',\n",
       " 'ny    <PAD>e',\n",
       " 'ani tr a',\n",
       " 'n aern r',\n",
       " 'be!ne sh',\n",
       " 'a  oode ',\n",
       " 'rn ye t ',\n",
       " 'taeane s',\n",
       " 'ue eh me',\n",
       " 'e thn to',\n",
       " ' derra o',\n",
       " 'eageu   ',\n",
       " 'ae  ee t',\n",
       " 'oa cl e ',\n",
       " 'r] tt<PAD><PAD><PAD>',\n",
       " 'e am neo',\n",
       " '.l,uy<END>el',\n",
       " 'th mh uo',\n",
       " 'kelryo  ',\n",
       " 'r,  re s',\n",
       " 'l  moang',\n",
       " 'he ehv a',\n",
       " 'de  ts.n',\n",
       " 'eous to<PAD>',\n",
       " ' r  no e',\n",
       " ' t aokea',\n",
       " 'ahi f re',\n",
       " '<PAD><PAD><PAD><PAD><PAD><PAD><PAD><PAD>',\n",
       " 'tl noa m',\n",
       " '<PAD><PAD><PAD><PAD><PAD><PAD><PAD><PAD>',\n",
       " 'tars n  ',\n",
       " '<PAD><PAD><PAD><PAD><PAD><PAD><PAD><PAD>',\n",
       " ' arra u<PAD>',\n",
       " ' b.uo ae',\n",
       " '<PAD><PAD><PAD><PAD><PAD><PAD><PAD><PAD>',\n",
       " '’r kha e',\n",
       " 'ie,e ra ',\n",
       " '  ho., o',\n",
       " 'to , rea',\n",
       " 'rands  <PAD>',\n",
       " 'rue e an',\n",
       " 'gfa<END> it<PAD>',\n",
       " ' khnu ne',\n",
       " 'ralui rn',\n",
       " 'h re rho',\n",
       " 'e itvee ',\n",
       " '<PAD><PAD><PAD><PAD><PAD><PAD><PAD><PAD>',\n",
       " 'd  oe t ',\n",
       " '-ndesorn',\n",
       " '<PAD><PAD><PAD><PAD><PAD><PAD><PAD><PAD>',\n",
       " 'acy   ot',\n",
       " 'eml e<PAD>ec',\n",
       " ' tarea<PAD><PAD>',\n",
       " '<PAD> <PAD><PAD><PAD><PAD><PAD><PAD>',\n",
       " 'raero,t ',\n",
       " 'r,e ra  ',\n",
       " 'and oue ',\n",
       " '<PAD><PAD><PAD><PAD><PAD><PAD><PAD><PAD>',\n",
       " '  e ae k',\n",
       " '<PAD><PAD><PAD><PAD><PAD><PAD><PAD><PAD>',\n",
       " 'edls t, ',\n",
       " '  o be e',\n",
       " 'ag rb<PAD> <PAD>',\n",
       " 'loage ao',\n",
       " 'sa ot  h',\n",
       " '<END>ea<PAD><PAD><PAD><PAD><PAD>',\n",
       " 'eirea  r',\n",
       " 'no she g',\n",
       " 'ef et se',\n",
       " ' m  aaa ',\n",
       " '.yoral<PAD> ',\n",
       " 'uhoee nh',\n",
       " ' y o me ',\n",
       " 'r, rdas ',\n",
       " '<PAD><PAD><PAD><PAD><PAD><PAD><PAD><PAD>',\n",
       " '’r kha e',\n",
       " ' nae :e ',\n",
       " 'leeeeg m',\n",
       " 'oe  ao e',\n",
       " 'h mrehon',\n",
       " 'oer ha e',\n",
       " ' eu ra a',\n",
       " 'u nawe a',\n",
       " 'enr anu ',\n",
       " 'oeseoa  ',\n",
       " 'l Fco, a',\n",
       " '<PAD><PAD><PAD><PAD><PAD><PAD><PAD><PAD>',\n",
       " 'o kh, ee',\n",
       " 'ao no  e',\n",
       " ']es<PAD> <PAD><PAD><PAD>',\n",
       " '<PAD><PAD><PAD><PAD><PAD><PAD><PAD><PAD>',\n",
       " 'e tes te',\n",
       " '<PAD><PAD><PAD><PAD><PAD><PAD><PAD><PAD>',\n",
       " ' aameea ',\n",
       " '<PAD><PAD><PAD><PAD><PAD><PAD><PAD><PAD>',\n",
       " '<END>ae t<PAD>  ',\n",
       " 'res er r',\n",
       " ' erare  ',\n",
       " '<PAD><PAD><PAD><PAD><PAD><PAD><PAD><PAD>',\n",
       " 'ue ae me',\n",
       " 'ire, sho',\n",
       " ' aae <PAD>r ',\n",
       " 'elu,’tg ',\n",
       " ' nr oe g',\n",
       " 'stue nrs',\n",
       " '  ,t e, ',\n",
       " '<PAD><PAD><PAD><PAD><PAD><PAD><PAD><PAD>',\n",
       " '’r kha e',\n",
       " ':n tnim ',\n",
       " 'n <PAD>or<PAD><PAD><PAD>',\n",
       " 'aod e  s',\n",
       " '<PAD><PAD><PAD><PAD><PAD><PAD><PAD><PAD>',\n",
       " ' w <PAD><PAD> <PAD><PAD>',\n",
       " ' ho een ',\n",
       " '<PAD><PAD><PAD><PAD><PAD><PAD><PAD><PAD>',\n",
       " 'eie sao ',\n",
       " 's rt ae ',\n",
       " 'ev  aio ',\n",
       " 'd rr aoo',\n",
       " 'ro te ms',\n",
       " 't me en ',\n",
       " 'e  ros a',\n",
       " 'te sara ',\n",
       " ' heseet ',\n",
       " '<PAD><PAD><PAD><PAD><PAD><PAD><PAD><PAD>',\n",
       " '<END>c <PAD><PAD><PAD><PAD><PAD>',\n",
       " 'peergow ',\n",
       " '<PAD><PAD><PAD><PAD><PAD><PAD><PAD><PAD>',\n",
       " 'a, ,enr ',\n",
       " 'e, aol.<PAD>',\n",
       " 'ee eoese',\n",
       " 'be eanen',\n",
       " '<PAD><PAD><PAD><PAD><PAD><PAD><PAD><PAD>',\n",
       " '<PAD><PAD><PAD><PAD><PAD><PAD><PAD><PAD>',\n",
       " 'oeeer, a',\n",
       " '<PAD><PAD><PAD><PAD><PAD><PAD><PAD><PAD>',\n",
       " ' owuc<PAD>a<PAD>',\n",
       " ' te  s<PAD> ',\n",
       " 'cos     ',\n",
       " '<PAD><PAD><PAD><PAD><PAD><PAD><PAD><PAD>',\n",
       " 'e,e aan ',\n",
       " 'ne !er a',\n",
       " ' ge.ue<PAD> ',\n",
       " 't raa n ',\n",
       " 'tan  <PAD>ow',\n",
       " 'c b  rda',\n",
       " ' iran ut',\n",
       " 'cer:otd ',\n",
       " ' rhe::e ',\n",
       " 'or.iome ',\n",
       " ' Trl,<END>or',\n",
       " ' ea te e',\n",
       " 'll trm m',\n",
       " 't t ae  ',\n",
       " '<PAD>t<PAD><PAD><PAD><PAD><PAD><PAD>',\n",
       " 'bosred  ',\n",
       " 'ee hort ',\n",
       " 'lehort  ',\n",
       " '.f !w <PAD>e',\n",
       " 'aedrs dr',\n",
       " 'ord cao ',\n",
       " '<PAD><PAD><PAD><PAD><PAD><PAD><PAD><PAD>',\n",
       " 'etsrat <PAD>',\n",
       " '<PAD><PAD><PAD><PAD><PAD><PAD><PAD><PAD>']"
      ]
     },
     "execution_count": 246,
     "metadata": {},
     "output_type": "execute_result"
    }
   ],
   "source": [
    "list(map(lambda x: \"\".join(x), gen_test_rfm))"
   ]
  },
  {
   "cell_type": "code",
   "execution_count": 247,
   "id": "07072a43",
   "metadata": {},
   "outputs": [
    {
     "name": "stdout",
     "output_type": "stream",
     "text": [
      "Train accuracy: 1.00\n",
      "Test accuracy: 0.29\n"
     ]
    }
   ],
   "source": [
    "# get train and test accuracy\n",
    "train_acc = (next_char_train.argmax(axis=1) == y_train_pred.argmax(axis=1)).mean()\n",
    "test_acc = (next_char_test.argmax(axis=1) == y_test_pred.argmax(axis=1)).mean()\n",
    "\n",
    "print(f\"Train accuracy: {train_acc:.2f}\")\n",
    "print(f\"Test accuracy: {test_acc:.2f}\")"
   ]
  },
  {
   "cell_type": "code",
   "execution_count": null,
   "id": "1443a0e4",
   "metadata": {},
   "outputs": [],
   "source": []
  }
 ],
 "metadata": {
  "kernelspec": {
   "display_name": "Python 3 (ipykernel)",
   "language": "python",
   "name": "python3"
  },
  "language_info": {
   "codemirror_mode": {
    "name": "ipython",
    "version": 3
   },
   "file_extension": ".py",
   "mimetype": "text/x-python",
   "name": "python",
   "nbconvert_exporter": "python",
   "pygments_lexer": "ipython3",
   "version": "3.8.11"
  },
  "vscode": {
   "interpreter": {
    "hash": "a6a6044cb29be7aa8d18f20f5f922fbbeec34b67744250c81f169bc0b9d02fc2"
   }
  }
 },
 "nbformat": 4,
 "nbformat_minor": 5
}
